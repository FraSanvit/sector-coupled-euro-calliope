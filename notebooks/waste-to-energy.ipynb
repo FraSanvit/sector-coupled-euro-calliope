{
 "cells": [
  {
   "cell_type": "code",
   "execution_count": 2,
   "metadata": {},
   "outputs": [],
   "source": [
    "import os\n",
    "os.chdir('..')\n",
    "from src.construct import util\n",
    "import pandas as pd\n",
    "idx = pd.IndexSlice"
   ]
  },
  {
   "cell_type": "code",
   "execution_count": 34,
   "metadata": {},
   "outputs": [],
   "source": [
    "annual_energy_balance = util.read_tdf('build/annual_energy_balances.csv')"
   ]
  },
  {
   "cell_type": "code",
   "execution_count": 20,
   "metadata": {},
   "outputs": [],
   "source": [
    "# in terms of energy, from annual energy balance (all waste streams)\n",
    "waste_consumption_2018 = annual_energy_balance.xs(('TI_EHG_E', 2018), level=('cat_code', 'year')).loc[idx[['W6210', 'W6100_6220'], :, :]].sum()"
   ]
  },
  {
   "cell_type": "code",
   "execution_count": 23,
   "metadata": {},
   "outputs": [],
   "source": [
    "# In terms of thousand tonnes, 2018, see https://appsso.eurostat.ec.europa.eu/nui/show.do?dataset=env_wasmun&lang=en\n",
    "waste_consumption_tonnes =  (\n",
    "    2022  + 208  + 616  + 2302  + 15936  + 221  + 1243  + 83  + 2898  + 12370  + 1  + 5756  + 15  + 163  + 162  + 501  + 0  + 3762  + 1977  + 3013  + 936  + 241  + 105  + 187  + 1733  + 2362  + 12046  + 2006  + 2856  + 0  + 63  + 0  + 0 \n",
    ") \n",
    "waste_consumption_tj = waste_consumption_tonnes * 10 # 8-12MJ/kg, see https://www.ieabioenergy.com/wp-content/uploads/2013/10/40_IEAPositionPaperMSW.pdf"
   ]
  },
  {
   "cell_type": "code",
   "execution_count": 46,
   "metadata": {},
   "outputs": [
    {
     "name": "stdout",
     "output_type": "stream",
     "text": [
      "Energy content of waste: 11.14 TJ/ktonnes (MJ/kg)\n"
     ]
    }
   ],
   "source": [
    "# effective energy content of waste, when combining annual energy balance data and waste consumed in tonnes\n",
    "# This is in the range of 8-12MJ/kg given by the IEA\n",
    "print(f\"Energy content of waste: {waste_consumption_2018 / waste_consumption_tonnes:.2f} TJ/ktonnes (MJ/kg)\")"
   ]
  },
  {
   "cell_type": "code",
   "execution_count": 44,
   "metadata": {},
   "outputs": [
    {
     "name": "stdout",
     "output_type": "stream",
     "text": [
      "Total available energy from waste: 248.12 TWh\n"
     ]
    }
   ],
   "source": [
    "# total available energy, including Switzerland\n",
    "print(f\"Total available energy from waste: {(waste_consumption_2018 + 13532 / 0.27778) * 0.27778 / 1e3:.2f} TWh\")"
   ]
  },
  {
   "cell_type": "code",
   "execution_count": 19,
   "metadata": {},
   "outputs": [],
   "source": [
    "swiss_waste = pd.read_excel('data/automatic/ch_annual_energy_balances.xlsx', sheet_name='T27', skiprows=5, index_col=0, header=[0, 1], skipfooter=8)[(\"Consommation d'énergie (GWh)\", \"Ordures\")]\n",
    "swiss_waste"
   ]
  },
  {
   "cell_type": "code",
   "execution_count": 33,
   "metadata": {},
   "outputs": [
    {
     "data": {
      "text/plain": [
       "year  foo\n",
       "1990  bar     7495\n",
       "1991  bar     7550\n",
       "1992  bar     7438\n",
       "1993  bar     7450\n",
       "1994  bar     7556\n",
       "1995  bar     7431\n",
       "1996  bar     7346\n",
       "1997  bar     7649\n",
       "1998  bar     8081\n",
       "1999  bar     8735\n",
       "2000  bar     9444\n",
       "2001  bar     9987\n",
       "2002  bar    10266\n",
       "2003  bar    10140\n",
       "2004  bar    10304\n",
       "2005  bar    10800\n",
       "2006  bar    11910\n",
       "2007  bar    11910\n",
       "2008  bar    11792\n",
       "2009  bar    11699\n",
       "2010  bar    12111\n",
       "2011  bar    12285\n",
       "2012  bar    12595\n",
       "2013  bar    12164\n",
       "2014  bar    12389\n",
       "2015  bar    12796\n",
       "2016  bar    13263\n",
       "2017  bar    13333\n",
       "2018  bar    13445\n",
       "2019  bar    13532\n",
       "dtype: int64"
      ]
     },
     "execution_count": 33,
     "metadata": {},
     "output_type": "execute_result"
    }
   ],
   "source": [
    "swiss_waste[(\"Consommation d'énergie (GWh)\", \"Ordures\")].to_frame('bar').rename_axis(index='year', columns='foo').stack()"
   ]
  },
  {
   "cell_type": "code",
   "execution_count": 38,
   "metadata": {},
   "outputs": [
    {
     "data": {
      "text/plain": [
       "country_code  year  \n",
       "AL            1990.0        0.0\n",
       "              1991.0        0.0\n",
       "              1992.0        0.0\n",
       "              1993.0        0.0\n",
       "              1994.0        0.0\n",
       "                         ...   \n",
       "UK            2014.0    50721.0\n",
       "              2015.0    63212.0\n",
       "              2016.0    83826.0\n",
       "              2017.0    79042.0\n",
       "              2018.0    90985.0\n",
       "Name: 0, Length: 947, dtype: float64"
      ]
     },
     "execution_count": 38,
     "metadata": {},
     "output_type": "execute_result"
    }
   ],
   "source": [
    "annual_energy_balance.loc[idx[\"TI_EHG_E\", [\"W6210\", \"W6100_6220\"], \"TJ\", :, :]].sum(level=['country', 'year']).rename_axis(index={'country': 'country_code'})"
   ]
  },
  {
   "cell_type": "code",
   "execution_count": 43,
   "metadata": {},
   "outputs": [
    {
     "data": {
      "text/plain": [
       "0.0"
      ]
     },
     "execution_count": 43,
     "metadata": {},
     "output_type": "execute_result"
    }
   ],
   "source": [
    "(\n",
    "    annual_energy_balance.loc[idx[\"TI_EHG_E\", [\"W6210\", \"W6100_6220\"], \"TJ\", :, :]]\n",
    "    .sum(level=['country', 'year', 'unit'])\n",
    "    .apply(util.tj_to_twh)\n",
    "    .rename_axis(index={\"country\": \"country_code\"})\n",
    "    .rename(util.get_alpha3, level='country_code')\n",
    "    .rename({\"TJ\": \"twh\"}, level='unit')\n",
    ").xs((2018, \"twh\"), level=('year', \"unit\"))['ALB']"
   ]
  },
  {
   "cell_type": "code",
   "execution_count": null,
   "metadata": {},
   "outputs": [],
   "source": []
  }
 ],
 "metadata": {
  "kernelspec": {
   "display_name": "Python [conda env:euro-spores]",
   "language": "python",
   "name": "conda-env-euro-spores-py"
  },
  "language_info": {
   "codemirror_mode": {
    "name": "ipython",
    "version": 3
   },
   "file_extension": ".py",
   "mimetype": "text/x-python",
   "name": "python",
   "nbconvert_exporter": "python",
   "pygments_lexer": "ipython3",
   "version": "3.7.6"
  }
 },
 "nbformat": 4,
 "nbformat_minor": 4
}
