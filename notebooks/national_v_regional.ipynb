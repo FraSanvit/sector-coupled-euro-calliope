{
 "cells": [
  {
   "cell_type": "code",
   "execution_count": 2,
   "metadata": {},
   "outputs": [],
   "source": [
    "import os\n",
    "os.chdir('..')"
   ]
  },
  {
   "cell_type": "code",
   "execution_count": 27,
   "metadata": {},
   "outputs": [],
   "source": [
    "import pandas as pd\n",
    "import numpy as np\n",
    "from src.construct import util"
   ]
  },
  {
   "cell_type": "code",
   "execution_count": 4,
   "metadata": {},
   "outputs": [],
   "source": [
    "nat_annual = util.read_tdf('build/national/annual-demand.csv')\n",
    "reg_annual = util.read_tdf('build/eurospores/annual-demand.csv')"
   ]
  },
  {
   "cell_type": "code",
   "execution_count": 5,
   "metadata": {},
   "outputs": [],
   "source": [
    "reg_annual_grouped = reg_annual.unstack('id')\n",
    "reg_annual_grouped.columns = reg_annual_grouped.columns.str.split('_', expand=True)\n",
    "reg_annual_grouped = (\n",
    "    reg_annual_grouped\n",
    "    .groupby(level=0, axis=1).sum()\n",
    "    .rename_axis(columns='id')\n",
    "    .stack()\n",
    "    .reorder_levels(nat_annual.index.names)\n",
    ")"
   ]
  },
  {
   "cell_type": "code",
   "execution_count": 8,
   "metadata": {},
   "outputs": [],
   "source": [
    "all_annual = pd.concat([nat_annual, reg_annual_grouped], keys=['national', 'regional'], axis=1, sort=True)"
   ]
  },
  {
   "cell_type": "code",
   "execution_count": 12,
   "metadata": {},
   "outputs": [
    {
     "name": "stdout",
     "output_type": "stream",
     "text": [
      "maximum deviation between national and regional data is 7.450580596923828e-09\n"
     ]
    }
   ],
   "source": [
    "deviations = (all_annual.national - all_annual.regional)\n",
    "print(f\"maximum deviation between national and regional data is {deviations.max()}\")"
   ]
  },
  {
   "cell_type": "code",
   "execution_count": 13,
   "metadata": {},
   "outputs": [
    {
     "data": {
      "text/plain": [
       "('transport_vehicles', 'road', 2001.0, 'ITA', 'vehicles', 'passenger_car')"
      ]
     },
     "execution_count": 13,
     "metadata": {},
     "output_type": "execute_result"
    }
   ],
   "source": [
    "deviations.idxmax()"
   ]
  },
  {
   "cell_type": "markdown",
   "metadata": {},
   "source": [
    "# Test failing sections in national scale model"
   ]
  },
  {
   "cell_type": "code",
   "execution_count": 50,
   "metadata": {},
   "outputs": [
    {
     "name": "stdout",
     "output_type": "stream",
     "text": [
      "There are 1 missing data points, which will be backfilled\n"
     ]
    }
   ],
   "source": [
    "space_heat = \"build/model/national/space-heat-bau-electricity-demand.csv\"\n",
    "water_heat = \"build/model/national/water-heat-bau-electricity-demand.csv\"\n",
    "cooking = \"build/model/national/cooking-bau-electricity-demand.csv\"\n",
    "public_transport = \"build/national/public-transport-demand.csv\"\n",
    "annual_demand = \"build/national/annual-demand.csv\"\n",
    "hourly_electricity = \"euro-calliope/build/model/national/electricity-demand.csv\"\n",
    "model_year = 2016\n",
    "\n",
    "profiles = {  # all profiles are negative values\n",
    "    k: pd.read_csv(v, index_col=0, parse_dates=True)\n",
    "    for k, v in {\n",
    "        'space_heat': space_heat, 'water_heat': water_heat,\n",
    "        'cooking': cooking, 'transport': public_transport,\n",
    "    }.items()\n",
    "}\n",
    "hourly_electricity_df = pd.read_csv(hourly_electricity, index_col=0, parse_dates=True)\n",
    "print(\"There are {} missing data points, which will be backfilled\".format(hourly_electricity_df.isna().sum().sum()))\n",
    "hourly_electricity_df = hourly_electricity_df.bfill()\n",
    "new_hourly_electricity_df = hourly_electricity_df.copy()\n",
    "annual_demand_df = util.read_tdf(annual_demand)\n",
    "annual_demand_df = annual_demand_df.xs(model_year, level='year').droplevel('unit')\n",
    "bau_electricity = (\n",
    "    annual_demand_df\n",
    "    .filter(regex='bau_electricity')\n",
    "    .rename(lambda x: x.replace('_bau_electricity', '').replace('bau_', ''), level='end_use')\n",
    ")\n",
    "# Subtract old demand\n",
    "# Industry is a flatline and is 'added' since hourly electricity is negative\n",
    "new_hourly_electricity_df = new_hourly_electricity_df.add(\n",
    "    bau_electricity\n",
    "    .xs('industry_demand')\n",
    "    .sum(level='id')\n",
    "    .div(len(new_hourly_electricity_df.index))\n",
    ")\n",
    "# space heating, water heating, cooking, and non-freight transport is based on profiles\n",
    "# We use rail profiles for all non-freight transport, which is a simplification in light\n",
    "# of the small relative constribution of non-rail transport to electricity demand\n",
    "for profile_name, profile in profiles.items():\n",
    "    if profile_name == 'transport':\n",
    "        scaled_profile = profile.apply(lambda x: x.div(x.abs().sum()))\n",
    "        new_hourly_electricity_df = new_hourly_electricity_df.sub(\n",
    "            scaled_profile\n",
    "            # fillna for regions with no rail transport, but with other transport electricity demand\n",
    "            .fillna({i: scaled_profile.mean(axis=1) for i in profile.columns})\n",
    "            .mul(bau_electricity.xs('transport_demand').sum(level='id'))\n",
    "        )\n",
    "    else:\n",
    "        new_hourly_electricity_df = new_hourly_electricity_df.sub(profile)\n",
    "# Add back in new demand\n",
    "# Industry, this time 'subtracted' to make hourly electricity more negative\n",
    "new_hourly_electricity_df = (\n",
    "    new_hourly_electricity_df.sub(\n",
    "        annual_demand_df\n",
    "        .xs('industry_demand')\n",
    "        .xs('electricity', level='end_use')\n",
    "        .sum(level='id')\n",
    "        .div(len(new_hourly_electricity_df.index))\n",
    "    )\n",
    ")\n",
    "# Rail transport (profile is negative, so we add it)\n",
    "new_hourly_electricity_df = new_hourly_electricity_df.add(profiles['transport'])"
   ]
  },
  {
   "cell_type": "code",
   "execution_count": 54,
   "metadata": {},
   "outputs": [
    {
     "data": {
      "text/plain": [
       "ALB     -71.072234\n",
       "AUT    -702.022110\n",
       "BEL    -850.232770\n",
       "BGR    -376.997119\n",
       "BIH    -122.212334\n",
       "CHE    -627.520630\n",
       "CYP     -45.554092\n",
       "CZE    -653.057100\n",
       "DEU   -5162.525660\n",
       "DNK    -339.700948\n",
       "ESP   -2504.051190\n",
       "EST     -81.428898\n",
       "FIN    -850.583299\n",
       "FRA   -4800.591600\n",
       "GBR   -3760.377861\n",
       "GRC    -512.127550\n",
       "HRV    -175.973510\n",
       "HUN    -418.893323\n",
       "IRL    -269.275316\n",
       "ISL    -181.182929\n",
       "ITA   -3143.113550\n",
       "LTU    -114.326920\n",
       "LUX     -64.963088\n",
       "LVA     -72.073300\n",
       "MKD     -74.152670\n",
       "MNE     -32.521578\n",
       "NLD   -1145.305860\n",
       "NOR   -1323.289838\n",
       "POL   -1560.129316\n",
       "PRT    -492.320047\n",
       "ROU    -535.824530\n",
       "SRB    -390.062900\n",
       "SVK    -287.919387\n",
       "SVN    -138.003030\n",
       "SWE   -1393.658730\n",
       "dtype: float64"
      ]
     },
     "execution_count": 54,
     "metadata": {},
     "output_type": "execute_result"
    }
   ],
   "source": [
    "(new_hourly_electricity_df.sum() -\n",
    "        bau_electricity.sum(level='id') +\n",
    "        annual_demand_df.xs('electricity', level='end_use').sum(level='id'))"
   ]
  },
  {
   "cell_type": "code",
   "execution_count": 59,
   "metadata": {},
   "outputs": [
    {
     "data": {
      "text/plain": [
       "array([ True,  True,  True,  True,  True,  True,  True,  True,  True,\n",
       "        True,  True,  True,  True,  True,  True,  True,  True,  True,\n",
       "        True,  True,  True,  True,  True,  True,  True,  True,  True,\n",
       "        True,  True,  True,  True,  True,  True,  True,  True])"
      ]
     },
     "execution_count": 59,
     "metadata": {},
     "output_type": "execute_result"
    }
   ],
   "source": [
    "np.isclose(\n",
    "        hourly_electricity_df.sum(),\n",
    "        new_hourly_electricity_df.sum()\n",
    "        .sub(bau_electricity.sum(level='id'))\n",
    "        .add(annual_demand_df.xs('electricity', level='end_use').sum(level='id'))\n",
    "        .reindex(hourly_electricity_df.columns)\n",
    "    )"
   ]
  },
  {
   "cell_type": "code",
   "execution_count": 60,
   "metadata": {},
   "outputs": [
    {
     "data": {
      "text/plain": [
       "CYP    207\n",
       "dtype: int64"
      ]
     },
     "execution_count": 60,
     "metadata": {},
     "output_type": "execute_result"
    }
   ],
   "source": [
    "new_hourly_electricity_df.where(lambda x: x > 0).dropna(axis=1, how='all').count()"
   ]
  },
  {
   "cell_type": "code",
   "execution_count": null,
   "metadata": {},
   "outputs": [],
   "source": []
  }
 ],
 "metadata": {
  "kernelspec": {
   "display_name": "Python [conda env:euro-spores]",
   "language": "python",
   "name": "conda-env-euro-spores-py"
  },
  "language_info": {
   "codemirror_mode": {
    "name": "ipython",
    "version": 3
   },
   "file_extension": ".py",
   "mimetype": "text/x-python",
   "name": "python",
   "nbconvert_exporter": "python",
   "pygments_lexer": "ipython3",
   "version": "3.7.6"
  }
 },
 "nbformat": 4,
 "nbformat_minor": 4
}
