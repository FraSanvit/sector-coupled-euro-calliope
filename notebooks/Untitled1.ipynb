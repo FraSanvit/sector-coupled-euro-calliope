{
 "cells": [
  {
   "cell_type": "code",
   "execution_count": 1,
   "metadata": {},
   "outputs": [],
   "source": [
    "import geopandas as gpd"
   ]
  },
  {
   "cell_type": "code",
   "execution_count": 5,
   "metadata": {},
   "outputs": [],
   "source": [
    "foo = gpd.read_file('../land-eligibility/build/raw-wdpa.shp')"
   ]
  },
  {
   "cell_type": "code",
   "execution_count": 23,
   "metadata": {},
   "outputs": [],
   "source": [
    "foobar = gpd.read_file('../land-eligibility/build/raw-wdpa.shp')"
   ]
  },
  {
   "cell_type": "code",
   "execution_count": 9,
   "metadata": {},
   "outputs": [],
   "source": [
    "bar = gpd.read_file('../land-eligibility/build/raw-wdpa/WDPA_JUL2020_2/WDPA_Jul2020-shapefile-polygons.shp')"
   ]
  },
  {
   "cell_type": "code",
   "execution_count": 6,
   "metadata": {},
   "outputs": [
    {
     "data": {
      "text/plain": [
       "array([-180.        ,  -55.97987239,  179.9999885 ,   83.73000011])"
      ]
     },
     "execution_count": 6,
     "metadata": {},
     "output_type": "execute_result"
    }
   ],
   "source": [
    "foo.total_bounds"
   ]
  },
  {
   "cell_type": "code",
   "execution_count": 10,
   "metadata": {},
   "outputs": [
    {
     "data": {
      "text/plain": [
       "array([-180.        ,  -69.47777798,  179.9999989 ,   71.93504295])"
      ]
     },
     "execution_count": 10,
     "metadata": {},
     "output_type": "execute_result"
    }
   ],
   "source": [
    "bar.total_bounds"
   ]
  },
  {
   "cell_type": "code",
   "execution_count": 12,
   "metadata": {},
   "outputs": [
    {
     "data": {
      "text/plain": [
       "array(['ATG', 'ARG', 'BHS', 'BRB', 'BOL', 'BRA', 'VGB', 'CHL', 'COL',\n",
       "       'CRI', 'DOM', 'ECU', 'GTM', 'GUY', 'HTI', 'HND', 'JAM', 'MEX',\n",
       "       'BES', 'CUW', 'NIC', 'PAN', 'PRY', 'PER', 'SUR', 'TTO', 'URY',\n",
       "       'VEN', 'USA', 'ALB', 'AGO', 'AUS', 'BEN', 'BWA', 'BGR', 'CMR',\n",
       "       'CAN', 'CAF', 'TCD', 'COG', 'SVK', 'GRL', 'ETH', 'FIN', 'FRA',\n",
       "       'GAB', 'DEU', 'GHA', 'GRC', 'HUN', 'ISL', 'IND', 'IRN', 'ISR',\n",
       "       'ITA', 'CIV', 'JPN', 'KEN', 'KOR', 'MWI', 'MYS', 'MRT', 'MNG',\n",
       "       'MOZ', 'NPL', 'NZL', 'NER', 'NGA', 'SJM', 'NOR', 'PAK', 'PNG',\n",
       "       'PHL', 'POL', 'PRT', 'ROU', 'RWA', 'SAU', 'SEN', 'ZAF', 'NAM',\n",
       "       'ESP', 'LKA', 'SSD', 'SWE', 'CHE', 'TZA', 'THA', 'TUN', 'UGA',\n",
       "       'GBR', 'BFA', 'MKD', 'SRB', 'HRV', 'MNE', 'COD', 'ZMB', 'ZWE',\n",
       "       'AFG', 'AUT', 'BEL', 'MMR', 'IDN', 'MDG', 'MUS', 'SYC', 'SGP',\n",
       "       'FJI', 'ARM', 'AZE', 'BLR', 'EST', 'GEO', 'KAZ', 'KGZ', 'LVA',\n",
       "       'LTU', 'RUS', 'TJK', 'TKM', 'UKR', 'UZB', 'FLK', 'BLR;POL',\n",
       "       'MKD;ALB', 'CAN;USA', 'CZE', 'GRD', 'LCA', 'BLZ', 'DMA', 'GMB',\n",
       "       'MLI', 'SDN', 'TGO', 'KHM', 'SVN', 'WSM', 'CIV;GIN', 'CHN', 'EGY',\n",
       "       'JOR', 'CYP', 'BRN', 'MAR', 'DZA', 'NCL', 'TON', 'PLW', 'OMN',\n",
       "       'BGD', 'BTN', 'IRL', 'NFK', 'SLE', 'DNK', 'LUX', 'ERI', 'LBR',\n",
       "       'SWZ', 'LSO', 'VNM', 'TWN', 'BDI', 'SLV', 'HKG', 'LAO', 'SLB',\n",
       "       'VUT', 'CUB', 'CRI;PAN', 'GNB', 'MLT', 'BMU', 'PRI', 'NLD', 'CYM',\n",
       "       'TCA', 'PCN', 'LBN', 'ABW', 'AIA', 'VCT', 'KWT', 'QAT', 'IRQ',\n",
       "       'ARE', 'LIE', 'MNP', 'GNQ', 'ZMB;ZWE', 'CXR', 'GIN', 'KNA', 'AND',\n",
       "       'NIU', 'REU', 'ALA', 'SHN', 'MDV', 'MTQ', 'GLP', 'GUF', 'SVK;HUN',\n",
       "       'COM', 'TUR', 'CCK', 'BIH', 'CPV', 'ATF', 'STP', 'BFA;NER;BEN',\n",
       "       'TUV', 'MCO', 'HMD', 'FRA;ESP', 'BLM', 'IOT', 'MAF', 'KIR', 'TLS',\n",
       "       'JEY', 'COK', 'FSM', 'SXM'], dtype=object)"
      ]
     },
     "execution_count": 12,
     "metadata": {},
     "output_type": "execute_result"
    }
   ],
   "source": [
    "foo.ISO3.unique()"
   ]
  },
  {
   "cell_type": "code",
   "execution_count": 13,
   "metadata": {},
   "outputs": [
    {
     "data": {
      "text/plain": [
       "array(['CZE', 'MEX', 'GTM', 'HND', 'BLZ', 'BOL', 'NGA', 'AZE', 'ETH',\n",
       "       'IRN', 'KAZ', 'GNB', 'MOZ', 'CYP', 'DEU', 'FIN', 'ATF', 'FRA',\n",
       "       'GUF', 'MAF', 'GLP', 'MTQ', 'REU', 'HUN', 'LVA', 'MLT', 'NOR',\n",
       "       'ISL', 'CHE', 'ESP', 'GRL', 'DNK', 'ROU', 'BGR', 'HRV', 'GRC',\n",
       "       'COD', 'TZA', 'ZAF', 'BRA', 'MDG', 'SEN', 'TLS', 'USA', 'CMR',\n",
       "       'COG', 'UGA', 'IDN', 'ATA', 'AUS', 'ITA', 'FRA;ITA;MCO', 'TUN',\n",
       "       'ARE', 'KOR', 'ECU', 'PNG', 'EST', 'SWE', 'BEL', 'AUT', 'SVN',\n",
       "       'GBR', 'MYT', 'POL', 'IRL', 'SRB', 'PRT', 'SPM', 'BLM', 'SJM',\n",
       "       'LTU', 'NZL', 'KEN', 'URY', 'DOM', 'VNM', 'ABNJ', 'JOR', 'KHM',\n",
       "       'IRQ', 'TUR', 'NLD;DEU;DNK', 'FIN;SWE', 'PRI', 'LSO;ZAF', 'RUS',\n",
       "       'ARG', 'BLR', 'CUB', 'DZA', 'FLK', 'JEY', 'LBN', 'MUS', 'PAK',\n",
       "       'SVK', 'THA', 'CHN', 'GIN', 'MNG', 'CXR', 'NLD', 'CHE;ITA',\n",
       "       'MNG;RUS', 'GNQ', 'PRY', 'CHL', 'LCA', 'UKR', 'JAM', 'PAN', 'JPN',\n",
       "       'EGY', 'IND', 'LKA', 'MHL', 'WSM', 'SYC', 'ATG', 'MAR', 'ESH',\n",
       "       'NER', 'SLV', 'GGY', 'TCD', 'FJI', 'SSD', 'COL', 'STP', 'IMN',\n",
       "       'GMB', 'GAB', 'BIH', 'MKD', 'CAN', 'NCL', 'YEM',\n",
       "       'DEU;SVK;ALB;AUT;BEL;BGR;ESP;HRV;ITA;ROU;SVN;UKR', 'KIR', 'TWN',\n",
       "       'AIA', 'NAM', 'IOT', 'LBR', 'ALB', 'LIE', 'LUX', 'SLE', 'BFA',\n",
       "       'BGD', 'ARM', 'PER', 'SLB', 'KWT', 'CIV', 'QAT', 'GHA', 'KNA',\n",
       "       'SGS', 'NIU', 'TON', 'COK', 'TUV', 'MMR', 'FRO', 'COG;CMR;CAF',\n",
       "       'PLW', 'NFK', 'PHL', 'ISR', 'GEO', 'AND'], dtype=object)"
      ]
     },
     "execution_count": 13,
     "metadata": {},
     "output_type": "execute_result"
    }
   ],
   "source": [
    "bar.ISO3.unique()"
   ]
  },
  {
   "cell_type": "code",
   "execution_count": 22,
   "metadata": {},
   "outputs": [
    {
     "data": {
      "text/plain": [
       "<Geographic 2D CRS: EPSG:4326>\n",
       "Name: WGS 84\n",
       "Axis Info [ellipsoidal]:\n",
       "- Lat[north]: Geodetic latitude (degree)\n",
       "- Lon[east]: Geodetic longitude (degree)\n",
       "Area of Use:\n",
       "- name: World\n",
       "- bounds: (-180.0, -90.0, 180.0, 90.0)\n",
       "Datum: World Geodetic System 1984\n",
       "- Ellipsoid: WGS 84\n",
       "- Prime Meridian: Greenwich"
      ]
     },
     "execution_count": 22,
     "metadata": {},
     "output_type": "execute_result"
    }
   ],
   "source": [
    "bar.crs"
   ]
  },
  {
   "cell_type": "code",
   "execution_count": 26,
   "metadata": {},
   "outputs": [
    {
     "data": {
      "text/plain": [
       "(78194, 29)"
      ]
     },
     "execution_count": 26,
     "metadata": {},
     "output_type": "execute_result"
    }
   ],
   "source": [
    "bar.shape"
   ]
  },
  {
   "cell_type": "code",
   "execution_count": 27,
   "metadata": {},
   "outputs": [
    {
     "data": {
      "text/plain": [
       "(78194, 29)"
      ]
     },
     "execution_count": 27,
     "metadata": {},
     "output_type": "execute_result"
    }
   ],
   "source": [
    "foo.shape"
   ]
  },
  {
   "cell_type": "code",
   "execution_count": 30,
   "metadata": {},
   "outputs": [
    {
     "data": {
      "text/plain": [
       "array([-180.        ,  -69.47777798,  179.9999989 ,   83.73000011])"
      ]
     },
     "execution_count": 30,
     "metadata": {},
     "output_type": "execute_result"
    }
   ],
   "source": [
    "foobar.total_bounds"
   ]
  },
  {
   "cell_type": "code",
   "execution_count": null,
   "metadata": {},
   "outputs": [],
   "source": []
  }
 ],
 "metadata": {
  "kernelspec": {
   "display_name": "Python [conda env:euro-spores]",
   "language": "python",
   "name": "conda-env-euro-spores-py"
  },
  "language_info": {
   "codemirror_mode": {
    "name": "ipython",
    "version": 3
   },
   "file_extension": ".py",
   "mimetype": "text/x-python",
   "name": "python",
   "nbconvert_exporter": "python",
   "pygments_lexer": "ipython3",
   "version": "3.7.6"
  }
 },
 "nbformat": 4,
 "nbformat_minor": 4
}
