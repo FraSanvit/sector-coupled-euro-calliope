{
 "cells": [
  {
   "cell_type": "code",
   "execution_count": 3,
   "metadata": {},
   "outputs": [],
   "source": [
    "import sys\n",
    "import geopandas as gpd\n",
    "import pandas as pd\n",
    "import xarray as xr\n",
    "#import rasterio\n",
    "import math\n",
    "#from rasterstats import zonal_stats\n",
    "#import pycountry\n",
    "import numpy as np\n",
    "#import pytz\n",
    "\n",
    "#sys.path.append('../data/automatic/when2heat/')\n",
    "#from scripts import demand, read, preprocess, misc\n",
    "\n",
    "\n",
    "sys.path.append('../src/construct/')\n",
    "import util\n",
    "\n",
    "population = '../land-eligibility/build/eurospores/population.csv'\n",
    "population_tif = '../land-eligibility/build/population-europe.tif'\n",
    "units = '/cluster/work/cpesm/brynmorp/euro-spores/land-eligibility/build/eurospores/units.geojson'\n",
    "annual_demand = \"../build/annual_heat_demand.csv\"\n",
    "dwellings = \"../data/automatic/dwellings.tsv.gz\"\n",
    "model_year = 2016\n",
    "\n",
    "EPSG_3035_PROJ4 = \"+proj=laea +lat_0=52 +lon_0=10 +x_0=4321000 +y_0=3210000 +ellps=GRS80 +units=m +no_defs \"\n",
    "WGS84 = \"EPSG:4326\"\n",
    "\n",
    "idx = pd.IndexSlice"
   ]
  },
  {
   "cell_type": "code",
   "execution_count": 2,
   "metadata": {},
   "outputs": [],
   "source": [
    "def map_to_merra2(population, air_temp, units):\n",
    "    # Get population per merra-2 site id and country\n",
    "    europe_shape = gpd.read_file(units)\n",
    "    if isinstance(europe_shape.crs, dict):\n",
    "        europe_shape.crs = europe_shape.crs['init']  # {'init': '...'} is deprecated\n",
    "\n",
    "    coords = air_temp[['lat', 'lon']].to_dataframe()\n",
    "\n",
    "    points = gpd.GeoDataFrame(\n",
    "        geometry=gpd.points_from_xy(coords.lon.values, coords.lat.values),\n",
    "        index=coords.index, crs=WGS84\n",
    "    )\n",
    "    points_m = points.to_crs(EPSG_3035_PROJ4)\n",
    "    polys_m = gpd.GeoDataFrame(\n",
    "        index=points_m.index, geometry=points_m.buffer(25000).envelope  # 50km horizontal resolution\n",
    "    )\n",
    "    polys_eu = gpd.overlay(polys_m.to_crs(WGS84).reset_index(), europe_shape.to_crs(WGS84))\n",
    "\n",
    "    with rasterio.open(population) as src:\n",
    "        array = src.read(1)\n",
    "        crs = src.crs\n",
    "        affine = src.transform\n",
    "\n",
    "        pop_polys = zonal_stats(polys_eu.to_crs(crs), array, affine=affine, stats='sum', nodata=0)\n",
    "        polys_eu['population'] = [i['sum'] for i in pop_polys]\n",
    "\n",
    "        pop_eu = zonal_stats(europe_shape.to_crs(crs), array, affine=affine, stats='sum', nodata=0)\n",
    "        europe_shape['population'] = [i['sum'] for i in pop_eu]\n",
    "\n",
    "    assert math.isclose(\n",
    "        europe_shape.population.sum(), polys_eu.population.sum(), abs_tol=10**3\n",
    "    )\n",
    "\n",
    "    return polys_eu.set_index('site').drop(columns=['name', 'type', 'proper'])\n",
    "mapped_pop = map_to_merra2(population_tif, xr.open_dataset('../data/weather/temperature.nc'), units)\n",
    "mapped_pop['longitude'] = mapped_pop.centroid.x\n",
    "mapped_pop['latitude'] = mapped_pop.centroid.y"
   ]
  },
  {
   "cell_type": "code",
   "execution_count": 3,
   "metadata": {},
   "outputs": [],
   "source": [
    "def scale_national_annual_demand(mapped_pop, annual_demand, model_year):\n",
    "    \"\"\"\n",
    "    Re-scale demand data normalised against national population according to\n",
    "    population of considered spatial resolution\n",
    "    \"\"\"\n",
    "    national_annual_demand_ratio = pd.read_csv(annual_demand, index_col=[0, 1]).fillna(0)\n",
    "    population_df = mapped_pop.set_index(['id', 'country_code']).population.groupby(level=[0, 1]).sum()\n",
    "    scaled_annual_demand = (\n",
    "        national_annual_demand_ratio\n",
    "        .xs(model_year, level='year')\n",
    "        .align(population_df, axis=0, level='country_code')[0]\n",
    "        .mul(population_df, axis=0)\n",
    "        .reset_index('country_code', drop=True)\n",
    "        .stack()\n",
    "    )\n",
    "\n",
    "    return scaled_annual_demand\n",
    "\n",
    "scaled_annual_demand = scale_national_annual_demand(mapped_pop, annual_demand, model_year)"
   ]
  },
  {
   "cell_type": "code",
   "execution_count": 4,
   "metadata": {},
   "outputs": [],
   "source": [
    "def prep_weather_data(filepath, variable, model_year, mapped_pop):\n",
    "    _ds = xr.open_dataset(filepath).loc[{'time': str(model_year)}]\n",
    "    _df = _ds[variable].to_pandas()\n",
    "    _df = _df.loc[mapped_pop.index].assign(latitude=mapped_pop.latitude, longitude=mapped_pop.longitude, country=mapped_pop.id).set_index(['country', 'latitude', 'longitude'])\n",
    "    _df.columns = pd.to_datetime(_df.columns)\n",
    "    \n",
    "    return _df.T"
   ]
  },
  {
   "cell_type": "code",
   "execution_count": 5,
   "metadata": {},
   "outputs": [],
   "source": [
    "air_temp = (prep_weather_data('../data/weather/temperature.nc', 'temperature', model_year, mapped_pop) + 273.15)\n",
    "#soil_temp = (prep_weather_data('../data/weather/tsoil5.nc', 'soil_temperture_5', model_year, mapped_pop) + 273.15).filter(regex='AUT|CHE|GRC|GBR')\n",
    "wind_speed = (prep_weather_data('../data/weather/wind10m.nc', 'wind_speed', model_year, mapped_pop))"
   ]
  },
  {
   "cell_type": "code",
   "execution_count": 6,
   "metadata": {},
   "outputs": [],
   "source": [
    "ref_temp = demand.reference_temperature(air_temp)"
   ]
  },
  {
   "cell_type": "code",
   "execution_count": 7,
   "metadata": {},
   "outputs": [],
   "source": [
    "daily_params = read.daily_parameters('../data/automatic/when2heat/input/')\n",
    "wind = wind_speed.mean()\n",
    "daily_heat = demand.daily_heat(ref_temp, \n",
    "                               wind, \n",
    "                               daily_params)"
   ]
  },
  {
   "cell_type": "code",
   "execution_count": 8,
   "metadata": {},
   "outputs": [],
   "source": [
    "daily_water = demand.daily_water(ref_temp,\n",
    "                                 wind,\n",
    "                                 daily_params)"
   ]
  },
  {
   "cell_type": "code",
   "execution_count": 9,
   "metadata": {},
   "outputs": [],
   "source": [
    "hourly_parameters = read.hourly_parameters('../data/automatic/when2heat/input/')"
   ]
  },
  {
   "cell_type": "code",
   "execution_count": 10,
   "metadata": {},
   "outputs": [
    {
     "ename": "KeyboardInterrupt",
     "evalue": "",
     "output_type": "error",
     "traceback": [
      "\u001b[0;31m---------------------------------------------------------------------------\u001b[0m",
      "\u001b[0;31mKeyboardInterrupt\u001b[0m                         Traceback (most recent call last)",
      "\u001b[0;32m<ipython-input-10-646f7ce9bf70>\u001b[0m in \u001b[0;36m<module>\u001b[0;34m\u001b[0m\n\u001b[1;32m      1\u001b[0m hourly_heat = demand.hourly_heat(daily_heat,\n\u001b[1;32m      2\u001b[0m                                  \u001b[0mref_temp\u001b[0m\u001b[0;34m,\u001b[0m\u001b[0;34m\u001b[0m\u001b[0;34m\u001b[0m\u001b[0m\n\u001b[0;32m----> 3\u001b[0;31m                                  hourly_parameters)\n\u001b[0m",
      "\u001b[0;32m/cluster/work/cpesm/brynmorp/euro-spores/data/automatic/when2heat/scripts/demand.py\u001b[0m in \u001b[0;36mhourly_heat\u001b[0;34m(daily_df, temperature, parameters)\u001b[0m\n\u001b[1;32m     83\u001b[0m         \u001b[0;34m(\u001b[0m\u001b[0mnp\u001b[0m\u001b[0;34m.\u001b[0m\u001b[0mceil\u001b[0m\u001b[0;34m(\u001b[0m\u001b[0;34m(\u001b[0m\u001b[0;34m(\u001b[0m\u001b[0mtemperature\u001b[0m \u001b[0;34m-\u001b[0m \u001b[0;36m273.15\u001b[0m\u001b[0;34m)\u001b[0m \u001b[0;34m/\u001b[0m \u001b[0;36m5\u001b[0m\u001b[0;34m)\u001b[0m\u001b[0;34m.\u001b[0m\u001b[0mastype\u001b[0m\u001b[0;34m(\u001b[0m\u001b[0;34m'float64'\u001b[0m\u001b[0;34m)\u001b[0m\u001b[0;34m)\u001b[0m \u001b[0;34m*\u001b[0m \u001b[0;36m5\u001b[0m\u001b[0;34m)\u001b[0m\u001b[0;34m.\u001b[0m\u001b[0mclip\u001b[0m\u001b[0;34m(\u001b[0m\u001b[0mlower\u001b[0m\u001b[0;34m=\u001b[0m\u001b[0;34m-\u001b[0m\u001b[0;36m15\u001b[0m\u001b[0;34m,\u001b[0m \u001b[0mupper\u001b[0m\u001b[0;34m=\u001b[0m\u001b[0;36m30\u001b[0m\u001b[0;34m)\u001b[0m\u001b[0;34m,\u001b[0m\u001b[0;34m\u001b[0m\u001b[0;34m\u001b[0m\u001b[0m\n\u001b[1;32m     84\u001b[0m         \u001b[0;34m'60min'\u001b[0m\u001b[0;34m\u001b[0m\u001b[0;34m\u001b[0m\u001b[0m\n\u001b[0;32m---> 85\u001b[0;31m     ).astype(int).astype(str)\n\u001b[0m\u001b[1;32m     86\u001b[0m \u001b[0;34m\u001b[0m\u001b[0m\n\u001b[1;32m     87\u001b[0m     \u001b[0;32mreturn\u001b[0m \u001b[0mhourly\u001b[0m\u001b[0;34m(\u001b[0m\u001b[0mdaily_df\u001b[0m\u001b[0;34m,\u001b[0m \u001b[0mclasses\u001b[0m\u001b[0;34m,\u001b[0m \u001b[0mparameters\u001b[0m\u001b[0;34m)\u001b[0m\u001b[0;34m\u001b[0m\u001b[0;34m\u001b[0m\u001b[0m\n",
      "\u001b[0;32m/cluster/work/apatt/brynmorp/miniconda/envs/euro-spores/lib/python3.7/site-packages/pandas/core/generic.py\u001b[0m in \u001b[0;36mastype\u001b[0;34m(self, dtype, copy, errors)\u001b[0m\n\u001b[1;32m   5696\u001b[0m         \u001b[0;32melse\u001b[0m\u001b[0;34m:\u001b[0m\u001b[0;34m\u001b[0m\u001b[0;34m\u001b[0m\u001b[0m\n\u001b[1;32m   5697\u001b[0m             \u001b[0;31m# else, only a single dtype is given\u001b[0m\u001b[0;34m\u001b[0m\u001b[0;34m\u001b[0m\u001b[0;34m\u001b[0m\u001b[0m\n\u001b[0;32m-> 5698\u001b[0;31m             \u001b[0mnew_data\u001b[0m \u001b[0;34m=\u001b[0m \u001b[0mself\u001b[0m\u001b[0;34m.\u001b[0m\u001b[0m_data\u001b[0m\u001b[0;34m.\u001b[0m\u001b[0mastype\u001b[0m\u001b[0;34m(\u001b[0m\u001b[0mdtype\u001b[0m\u001b[0;34m=\u001b[0m\u001b[0mdtype\u001b[0m\u001b[0;34m,\u001b[0m \u001b[0mcopy\u001b[0m\u001b[0;34m=\u001b[0m\u001b[0mcopy\u001b[0m\u001b[0;34m,\u001b[0m \u001b[0merrors\u001b[0m\u001b[0;34m=\u001b[0m\u001b[0merrors\u001b[0m\u001b[0;34m)\u001b[0m\u001b[0;34m\u001b[0m\u001b[0;34m\u001b[0m\u001b[0m\n\u001b[0m\u001b[1;32m   5699\u001b[0m             \u001b[0;32mreturn\u001b[0m \u001b[0mself\u001b[0m\u001b[0;34m.\u001b[0m\u001b[0m_constructor\u001b[0m\u001b[0;34m(\u001b[0m\u001b[0mnew_data\u001b[0m\u001b[0;34m)\u001b[0m\u001b[0;34m.\u001b[0m\u001b[0m__finalize__\u001b[0m\u001b[0;34m(\u001b[0m\u001b[0mself\u001b[0m\u001b[0;34m)\u001b[0m\u001b[0;34m\u001b[0m\u001b[0;34m\u001b[0m\u001b[0m\n\u001b[1;32m   5700\u001b[0m \u001b[0;34m\u001b[0m\u001b[0m\n",
      "\u001b[0;32m/cluster/work/apatt/brynmorp/miniconda/envs/euro-spores/lib/python3.7/site-packages/pandas/core/internals/managers.py\u001b[0m in \u001b[0;36mastype\u001b[0;34m(self, dtype, copy, errors)\u001b[0m\n\u001b[1;32m    580\u001b[0m \u001b[0;34m\u001b[0m\u001b[0m\n\u001b[1;32m    581\u001b[0m     \u001b[0;32mdef\u001b[0m \u001b[0mastype\u001b[0m\u001b[0;34m(\u001b[0m\u001b[0mself\u001b[0m\u001b[0;34m,\u001b[0m \u001b[0mdtype\u001b[0m\u001b[0;34m,\u001b[0m \u001b[0mcopy\u001b[0m\u001b[0;34m:\u001b[0m \u001b[0mbool\u001b[0m \u001b[0;34m=\u001b[0m \u001b[0;32mFalse\u001b[0m\u001b[0;34m,\u001b[0m \u001b[0merrors\u001b[0m\u001b[0;34m:\u001b[0m \u001b[0mstr\u001b[0m \u001b[0;34m=\u001b[0m \u001b[0;34m\"raise\"\u001b[0m\u001b[0;34m)\u001b[0m\u001b[0;34m:\u001b[0m\u001b[0;34m\u001b[0m\u001b[0;34m\u001b[0m\u001b[0m\n\u001b[0;32m--> 582\u001b[0;31m         \u001b[0;32mreturn\u001b[0m \u001b[0mself\u001b[0m\u001b[0;34m.\u001b[0m\u001b[0mapply\u001b[0m\u001b[0;34m(\u001b[0m\u001b[0;34m\"astype\"\u001b[0m\u001b[0;34m,\u001b[0m \u001b[0mdtype\u001b[0m\u001b[0;34m=\u001b[0m\u001b[0mdtype\u001b[0m\u001b[0;34m,\u001b[0m \u001b[0mcopy\u001b[0m\u001b[0;34m=\u001b[0m\u001b[0mcopy\u001b[0m\u001b[0;34m,\u001b[0m \u001b[0merrors\u001b[0m\u001b[0;34m=\u001b[0m\u001b[0merrors\u001b[0m\u001b[0;34m)\u001b[0m\u001b[0;34m\u001b[0m\u001b[0;34m\u001b[0m\u001b[0m\n\u001b[0m\u001b[1;32m    583\u001b[0m \u001b[0;34m\u001b[0m\u001b[0m\n\u001b[1;32m    584\u001b[0m     \u001b[0;32mdef\u001b[0m \u001b[0mconvert\u001b[0m\u001b[0;34m(\u001b[0m\u001b[0mself\u001b[0m\u001b[0;34m,\u001b[0m \u001b[0;34m**\u001b[0m\u001b[0mkwargs\u001b[0m\u001b[0;34m)\u001b[0m\u001b[0;34m:\u001b[0m\u001b[0;34m\u001b[0m\u001b[0;34m\u001b[0m\u001b[0m\n",
      "\u001b[0;32m/cluster/work/apatt/brynmorp/miniconda/envs/euro-spores/lib/python3.7/site-packages/pandas/core/internals/managers.py\u001b[0m in \u001b[0;36mapply\u001b[0;34m(self, f, filter, **kwargs)\u001b[0m\n\u001b[1;32m    440\u001b[0m                 \u001b[0mapplied\u001b[0m \u001b[0;34m=\u001b[0m \u001b[0mb\u001b[0m\u001b[0;34m.\u001b[0m\u001b[0mapply\u001b[0m\u001b[0;34m(\u001b[0m\u001b[0mf\u001b[0m\u001b[0;34m,\u001b[0m \u001b[0;34m**\u001b[0m\u001b[0mkwargs\u001b[0m\u001b[0;34m)\u001b[0m\u001b[0;34m\u001b[0m\u001b[0;34m\u001b[0m\u001b[0m\n\u001b[1;32m    441\u001b[0m             \u001b[0;32melse\u001b[0m\u001b[0;34m:\u001b[0m\u001b[0;34m\u001b[0m\u001b[0;34m\u001b[0m\u001b[0m\n\u001b[0;32m--> 442\u001b[0;31m                 \u001b[0mapplied\u001b[0m \u001b[0;34m=\u001b[0m \u001b[0mgetattr\u001b[0m\u001b[0;34m(\u001b[0m\u001b[0mb\u001b[0m\u001b[0;34m,\u001b[0m \u001b[0mf\u001b[0m\u001b[0;34m)\u001b[0m\u001b[0;34m(\u001b[0m\u001b[0;34m**\u001b[0m\u001b[0mkwargs\u001b[0m\u001b[0;34m)\u001b[0m\u001b[0;34m\u001b[0m\u001b[0;34m\u001b[0m\u001b[0m\n\u001b[0m\u001b[1;32m    443\u001b[0m             \u001b[0mresult_blocks\u001b[0m \u001b[0;34m=\u001b[0m \u001b[0m_extend_blocks\u001b[0m\u001b[0;34m(\u001b[0m\u001b[0mapplied\u001b[0m\u001b[0;34m,\u001b[0m \u001b[0mresult_blocks\u001b[0m\u001b[0;34m)\u001b[0m\u001b[0;34m\u001b[0m\u001b[0;34m\u001b[0m\u001b[0m\n\u001b[1;32m    444\u001b[0m \u001b[0;34m\u001b[0m\u001b[0m\n",
      "\u001b[0;32m/cluster/work/apatt/brynmorp/miniconda/envs/euro-spores/lib/python3.7/site-packages/pandas/core/internals/blocks.py\u001b[0m in \u001b[0;36mastype\u001b[0;34m(self, dtype, copy, errors)\u001b[0m\n\u001b[1;32m    623\u001b[0m             \u001b[0mvals1d\u001b[0m \u001b[0;34m=\u001b[0m \u001b[0mvalues\u001b[0m\u001b[0;34m.\u001b[0m\u001b[0mravel\u001b[0m\u001b[0;34m(\u001b[0m\u001b[0;34m)\u001b[0m\u001b[0;34m\u001b[0m\u001b[0;34m\u001b[0m\u001b[0m\n\u001b[1;32m    624\u001b[0m             \u001b[0;32mtry\u001b[0m\u001b[0;34m:\u001b[0m\u001b[0;34m\u001b[0m\u001b[0;34m\u001b[0m\u001b[0m\n\u001b[0;32m--> 625\u001b[0;31m                 \u001b[0mvalues\u001b[0m \u001b[0;34m=\u001b[0m \u001b[0mastype_nansafe\u001b[0m\u001b[0;34m(\u001b[0m\u001b[0mvals1d\u001b[0m\u001b[0;34m,\u001b[0m \u001b[0mdtype\u001b[0m\u001b[0;34m,\u001b[0m \u001b[0mcopy\u001b[0m\u001b[0;34m=\u001b[0m\u001b[0;32mTrue\u001b[0m\u001b[0;34m)\u001b[0m\u001b[0;34m\u001b[0m\u001b[0;34m\u001b[0m\u001b[0m\n\u001b[0m\u001b[1;32m    626\u001b[0m             \u001b[0;32mexcept\u001b[0m \u001b[0;34m(\u001b[0m\u001b[0mValueError\u001b[0m\u001b[0;34m,\u001b[0m \u001b[0mTypeError\u001b[0m\u001b[0;34m)\u001b[0m\u001b[0;34m:\u001b[0m\u001b[0;34m\u001b[0m\u001b[0;34m\u001b[0m\u001b[0m\n\u001b[1;32m    627\u001b[0m                 \u001b[0;31m# e.g. astype_nansafe can fail on object-dtype of strings\u001b[0m\u001b[0;34m\u001b[0m\u001b[0;34m\u001b[0m\u001b[0;34m\u001b[0m\u001b[0m\n",
      "\u001b[0;32m/cluster/work/apatt/brynmorp/miniconda/envs/euro-spores/lib/python3.7/site-packages/pandas/core/dtypes/cast.py\u001b[0m in \u001b[0;36mastype_nansafe\u001b[0;34m(arr, dtype, copy, skipna)\u001b[0m\n\u001b[1;32m    825\u001b[0m \u001b[0;34m\u001b[0m\u001b[0m\n\u001b[1;32m    826\u001b[0m     \u001b[0;32mif\u001b[0m \u001b[0missubclass\u001b[0m\u001b[0;34m(\u001b[0m\u001b[0mdtype\u001b[0m\u001b[0;34m.\u001b[0m\u001b[0mtype\u001b[0m\u001b[0;34m,\u001b[0m \u001b[0mstr\u001b[0m\u001b[0;34m)\u001b[0m\u001b[0;34m:\u001b[0m\u001b[0;34m\u001b[0m\u001b[0;34m\u001b[0m\u001b[0m\n\u001b[0;32m--> 827\u001b[0;31m         \u001b[0;32mreturn\u001b[0m \u001b[0mlib\u001b[0m\u001b[0;34m.\u001b[0m\u001b[0mastype_str\u001b[0m\u001b[0;34m(\u001b[0m\u001b[0marr\u001b[0m\u001b[0;34m.\u001b[0m\u001b[0mravel\u001b[0m\u001b[0;34m(\u001b[0m\u001b[0;34m)\u001b[0m\u001b[0;34m,\u001b[0m \u001b[0mskipna\u001b[0m\u001b[0;34m=\u001b[0m\u001b[0mskipna\u001b[0m\u001b[0;34m)\u001b[0m\u001b[0;34m.\u001b[0m\u001b[0mreshape\u001b[0m\u001b[0;34m(\u001b[0m\u001b[0marr\u001b[0m\u001b[0;34m.\u001b[0m\u001b[0mshape\u001b[0m\u001b[0;34m)\u001b[0m\u001b[0;34m\u001b[0m\u001b[0;34m\u001b[0m\u001b[0m\n\u001b[0m\u001b[1;32m    828\u001b[0m \u001b[0;34m\u001b[0m\u001b[0m\n\u001b[1;32m    829\u001b[0m     \u001b[0;32melif\u001b[0m \u001b[0mis_datetime64_dtype\u001b[0m\u001b[0;34m(\u001b[0m\u001b[0marr\u001b[0m\u001b[0;34m)\u001b[0m\u001b[0;34m:\u001b[0m\u001b[0;34m\u001b[0m\u001b[0;34m\u001b[0m\u001b[0m\n",
      "\u001b[0;32mpandas/_libs/lib.pyx\u001b[0m in \u001b[0;36mpandas._libs.lib.astype_str\u001b[0;34m()\u001b[0m\n",
      "\u001b[0;31mKeyboardInterrupt\u001b[0m: "
     ]
    }
   ],
   "source": [
    "hourly_heat = demand.hourly_heat(daily_heat,\n",
    "                                 ref_temp, \n",
    "                                 hourly_parameters)"
   ]
  },
  {
   "cell_type": "code",
   "execution_count": null,
   "metadata": {},
   "outputs": [],
   "source": [
    "hourly_water = demand.hourly_water(daily_water,\n",
    "                                   ref_temp, \n",
    "                                   hourly_parameters)"
   ]
  },
  {
   "cell_type": "code",
   "execution_count": null,
   "metadata": {},
   "outputs": [],
   "source": []
  },
  {
   "cell_type": "code",
   "execution_count": 11,
   "metadata": {},
   "outputs": [],
   "source": [
    "heat_ref = misc.upsample_df((np.ceil(((ref_temp - 273.15) / 5).astype('float64')) * 5).clip(lower=-15, upper=30), '60min')\n",
    "water_ref = misc.upsample_df(pd.DataFrame(30, index=ref_temp.index, columns=ref_temp.columns), '60min')\n",
    "\n",
    "upsampled_daily_heat = misc.upsample_df(daily_heat, '60min')\n",
    "upsampled_daily_water = misc.upsample_df(daily_water, '60min')"
   ]
  },
  {
   "cell_type": "code",
   "execution_count": 13,
   "metadata": {},
   "outputs": [],
   "source": [
    "hourly_parameters['SFH'].columns = hourly_parameters['SFH'].columns.astype(int)\n",
    "hourly_parameters['MFH'].columns = hourly_parameters['MFH'].columns.astype(int)\n",
    "hourly_parameters['COM'].columns = hourly_parameters['COM'].columns.astype(int)\n",
    "\n",
    "new_time = upsampled_daily_heat.index.map(lambda i: i.strftime('%H:%M'))\n",
    "time_and_weekdays = pd.MultiIndex.from_arrays([upsampled_daily_heat.index.dayofweek, new_time], names=['weekday', 'time'])\n",
    "\n",
    "def hourly_profile(x, _ref):\n",
    "    building_type = x.name[0]\n",
    "    if building_type == 'COM':\n",
    "        return x.mul(hourly_parameters[building_type].lookup(time_and_weekdays, _ref[x.name[1:]].values))\n",
    "    else:\n",
    "        return x.mul(hourly_parameters[building_type].lookup(new_time, _ref[x.name[1:]].values))\n",
    "\n",
    "hourly_heat = upsampled_daily_heat.apply(hourly_profile, _ref=heat_ref) \n",
    "hourly_water = upsampled_daily_water.apply(hourly_profile, _ref=water_ref) "
   ]
  },
  {
   "cell_type": "code",
   "execution_count": 17,
   "metadata": {},
   "outputs": [],
   "source": [
    "hourly_space = (hourly_heat - hourly_water).clip(lower=0)"
   ]
  },
  {
   "cell_type": "code",
   "execution_count": 28,
   "metadata": {},
   "outputs": [
    {
     "name": "stdout",
     "output_type": "stream",
     "text": [
      "Filling missing regions ['HRV_1' 'BIH_1' 'SRB_1' 'MNE_1' 'ALB_1' 'MKD_1'] with average dwelling ratio\n"
     ]
    }
   ],
   "source": [
    "def get_dwelling_ratio(path_to_dwellings, mapped_pop):\n",
    "    dwellings = pd.read_csv(path_to_dwellings, delimiter='\\t', index_col=0)\n",
    "    dwellings.columns = dwellings.columns.str.strip()\n",
    "    country_dwelling_info = dwellings.filter(regex=\"^[A-Z]{2}$\")\n",
    "    countries_SFH = country_dwelling_info.loc[\"DW,RES1,NR,2011\"].astype(float)\n",
    "    countries_MFH = country_dwelling_info.loc[[\"DW,RES2,NR,2011\", \"DW,RES_GE3,NR,2011\"]].astype(float).sum()\n",
    "    \n",
    "    MFH_to_SFH = countries_MFH / (countries_SFH + countries_MFH)\n",
    "    MFH_to_SFH.index = MFH_to_SFH.index.map(util.get_alpha3)\n",
    "    \n",
    "    # extend index from countries to eurospores regions\n",
    "    ids = mapped_pop.set_index('country_code').id.drop_duplicates()\n",
    "    MFH_to_SFH = MFH_to_SFH.reindex(ids.index)\n",
    "    MFH_to_SFH.index = ids.values\n",
    "    \n",
    "    # fill empties\n",
    "    print('Filling missing regions {} with average dwelling ratio'.format(MFH_to_SFH[MFH_to_SFH.isnull()].index.values))\n",
    "    MFH_to_SFH = MFH_to_SFH.fillna(MFH_to_SFH.mean())\n",
    "    \n",
    "    return MFH_to_SFH\n",
    "\n",
    "dwelling_ratio = get_dwelling_ratio(dwellings, mapped_pop)"
   ]
  },
  {
   "cell_type": "code",
   "execution_count": 15,
   "metadata": {},
   "outputs": [],
   "source": [
    "site_pop = mapped_pop[['population', 'longitude', 'latitude']].set_index(['latitude', 'longitude']).population"
   ]
  },
  {
   "cell_type": "code",
   "execution_count": 29,
   "metadata": {},
   "outputs": [],
   "source": [
    "def wavg(x):\n",
    "    weighted_avg = np.average(x, weights=site_pop.reindex(x.droplevel((0, 1), axis=1).columns).fillna(0), axis=1)\n",
    "    return pd.Series(data=weighted_avg, index=x.index)\n",
    "\n",
    "def shift_profiles(x):\n",
    "    model_year = x.index.year.unique().item()\n",
    "    country = pycountry.countries.lookup(x.name.split('_')[0]).alpha_2\n",
    "    tz = pytz.country_timezones[country][0]\n",
    "    try:\n",
    "        idx = x.index.tz_localize(tz, nonexistent='shift_forward').tz_convert('UTC')\n",
    "    except pytz.AmbiguousTimeError as err:\n",
    "        idx = x.index.tz_localize(tz, ambiguous=x.index != err.args[0], nonexistent='shift_forward').tz_convert('UTC')\n",
    "    shift = len(idx[idx.year > model_year]) - len(idx[idx.year < model_year])\n",
    "\n",
    "    x = pd.Series(data=np.roll(x, shift=shift), index=x.index)\n",
    "    \n",
    "    return x\n",
    "\n",
    "results = {}\n",
    "for k, v in {'space_heating': hourly_space, 'water_heating': hourly_water}.items():\n",
    "    regional_hourly = v.groupby(level=['country', 'building'], axis=1).apply(wavg)\n",
    "    residential_hourly = (\n",
    "        (regional_hourly.xs('SFH', level='building', axis=1).mul(1 - dwelling_ratio))\n",
    "        .add(regional_hourly.xs('MFH', level='building', axis=1).mul(dwelling_ratio))\n",
    "        .dropna(axis=1, how='all') \n",
    "        .apply(lambda x: x * scaled_annual_demand[idx[x.name, k]] / x.sum())\n",
    "    )\n",
    "    commercial_hourly = (\n",
    "        regional_hourly.xs('COM', level='building', axis=1)\n",
    "        .apply(lambda x: x * scaled_annual_demand[idx[x.name, f'commercial_{k}']] / x.sum())\n",
    "    )\n",
    "    results[k] = residential_hourly.add(commercial_hourly).apply(shift_profiles)"
   ]
  },
  {
   "cell_type": "code",
   "execution_count": 33,
   "metadata": {},
   "outputs": [
    {
     "data": {
      "text/plain": [
       "63.43502289782302"
      ]
     },
     "execution_count": 33,
     "metadata": {},
     "output_type": "execute_result"
    }
   ],
   "source": [
    "results['space_heating'].filter(regex='AUT').sum().sum()"
   ]
  },
  {
   "cell_type": "code",
   "execution_count": 50,
   "metadata": {},
   "outputs": [
    {
     "data": {
      "text/plain": [
       "ALB_1    155.073724\n",
       "AUT_1    395.947811\n",
       "AUT_2    319.389081\n",
       "AUT_3    290.310608\n",
       "BEL_1    264.421431\n",
       "            ...    \n",
       "SVN_1    284.212550\n",
       "SWE_1    513.492257\n",
       "SWE_2    455.066818\n",
       "SWE_3    356.510036\n",
       "SWE_4    311.476128\n",
       "Length: 98, dtype: float64"
      ]
     },
     "execution_count": 50,
     "metadata": {},
     "output_type": "execute_result"
    }
   ],
   "source": [
    "regional_hourly = hourly_space.groupby(level=['country', 'building'], axis=1).apply(wavg)\n",
    "((regional_hourly.xs('SFH', level='building', axis=1).mul(1 - dwelling_ratio))\n",
    "        .add(regional_hourly.xs('MFH', level='building', axis=1).mul(dwelling_ratio))\n",
    "        .dropna(axis=1, how='all') ).sum()"
   ]
  },
  {
   "cell_type": "code",
   "execution_count": 62,
   "metadata": {},
   "outputs": [
    {
     "data": {
      "text/plain": [
       "48.49071087110707"
      ]
     },
     "execution_count": 62,
     "metadata": {},
     "output_type": "execute_result"
    }
   ],
   "source": [
    "foo = ((regional_hourly.xs('SFH', level='building', axis=1).mul(1 - dwelling_ratio))\n",
    "        .add(regional_hourly.xs('MFH', level='building', axis=1).mul(dwelling_ratio))\n",
    "        .dropna(axis=1, how='all') )\n",
    "foo.apply(lambda x: x * scaled_annual_demand[idx[x.name, 'space_heating']] / x.sum()).filter(regex='AUT').sum().sum()"
   ]
  },
  {
   "cell_type": "code",
   "execution_count": 63,
   "metadata": {},
   "outputs": [
    {
     "data": {
      "text/plain": [
       "14.944312026716172"
      ]
     },
     "execution_count": 63,
     "metadata": {},
     "output_type": "execute_result"
    }
   ],
   "source": [
    "(\n",
    "        regional_hourly.xs('COM', level='building', axis=1)\n",
    "        .apply(lambda x: x * scaled_annual_demand[idx[x.name, f'commercial_space_heating']] / x.sum())\n",
    "    ).filter(regex='AUT').sum().sum()"
   ]
  },
  {
   "cell_type": "code",
   "execution_count": 360,
   "metadata": {},
   "outputs": [],
   "source": [
    "foo = all_hourly.copy(deep=True)\n",
    "\n",
    "def bar(x, ambiguous=None):\n",
    "    x.index = x.index.tz_localize('Europe/Athens', ambiguous='NaT', nonexistent='shift_forward')\n",
    "    return x"
   ]
  },
  {
   "cell_type": "code",
   "execution_count": 361,
   "metadata": {},
   "outputs": [
    {
     "data": {
      "text/html": [
       "<div>\n",
       "<style scoped>\n",
       "    .dataframe tbody tr th:only-of-type {\n",
       "        vertical-align: middle;\n",
       "    }\n",
       "\n",
       "    .dataframe tbody tr th {\n",
       "        vertical-align: top;\n",
       "    }\n",
       "\n",
       "    .dataframe thead th {\n",
       "        text-align: right;\n",
       "    }\n",
       "</style>\n",
       "<table border=\"1\" class=\"dataframe\">\n",
       "  <thead>\n",
       "    <tr style=\"text-align: right;\">\n",
       "      <th></th>\n",
       "      <th>AUT_1</th>\n",
       "      <th>AUT_2</th>\n",
       "      <th>AUT_3</th>\n",
       "      <th>CHE_1</th>\n",
       "      <th>CHE_2</th>\n",
       "    </tr>\n",
       "    <tr>\n",
       "      <th>time</th>\n",
       "      <th></th>\n",
       "      <th></th>\n",
       "      <th></th>\n",
       "      <th></th>\n",
       "      <th></th>\n",
       "    </tr>\n",
       "  </thead>\n",
       "  <tbody>\n",
       "    <tr>\n",
       "      <th>2016-03-24 00:00:00+00:00</th>\n",
       "      <td>0.000182</td>\n",
       "      <td>0.000249</td>\n",
       "      <td>0.000334</td>\n",
       "      <td>0.000614</td>\n",
       "      <td>0.000078</td>\n",
       "    </tr>\n",
       "    <tr>\n",
       "      <th>2016-03-24 01:00:00+00:00</th>\n",
       "      <td>0.000186</td>\n",
       "      <td>0.000255</td>\n",
       "      <td>0.000341</td>\n",
       "      <td>0.000620</td>\n",
       "      <td>0.000079</td>\n",
       "    </tr>\n",
       "    <tr>\n",
       "      <th>2016-03-24 02:00:00+00:00</th>\n",
       "      <td>0.000299</td>\n",
       "      <td>0.000410</td>\n",
       "      <td>0.000549</td>\n",
       "      <td>0.000971</td>\n",
       "      <td>0.000123</td>\n",
       "    </tr>\n",
       "    <tr>\n",
       "      <th>2016-03-24 03:00:00+00:00</th>\n",
       "      <td>0.000498</td>\n",
       "      <td>0.000682</td>\n",
       "      <td>0.000911</td>\n",
       "      <td>0.001557</td>\n",
       "      <td>0.000198</td>\n",
       "    </tr>\n",
       "    <tr>\n",
       "      <th>2016-03-24 04:00:00+00:00</th>\n",
       "      <td>0.000544</td>\n",
       "      <td>0.000746</td>\n",
       "      <td>0.000994</td>\n",
       "      <td>0.001653</td>\n",
       "      <td>0.000210</td>\n",
       "    </tr>\n",
       "    <tr>\n",
       "      <th>2016-03-24 05:00:00+00:00</th>\n",
       "      <td>0.000573</td>\n",
       "      <td>0.000785</td>\n",
       "      <td>0.001048</td>\n",
       "      <td>0.001767</td>\n",
       "      <td>0.000224</td>\n",
       "    </tr>\n",
       "    <tr>\n",
       "      <th>2016-03-24 06:00:00+00:00</th>\n",
       "      <td>0.000472</td>\n",
       "      <td>0.000646</td>\n",
       "      <td>0.000863</td>\n",
       "      <td>0.001452</td>\n",
       "      <td>0.000185</td>\n",
       "    </tr>\n",
       "    <tr>\n",
       "      <th>2016-03-24 07:00:00+00:00</th>\n",
       "      <td>0.000463</td>\n",
       "      <td>0.000634</td>\n",
       "      <td>0.000848</td>\n",
       "      <td>0.001422</td>\n",
       "      <td>0.000181</td>\n",
       "    </tr>\n",
       "    <tr>\n",
       "      <th>2016-03-24 08:00:00+00:00</th>\n",
       "      <td>0.000437</td>\n",
       "      <td>0.000599</td>\n",
       "      <td>0.000800</td>\n",
       "      <td>0.001351</td>\n",
       "      <td>0.000172</td>\n",
       "    </tr>\n",
       "    <tr>\n",
       "      <th>2016-03-24 09:00:00+00:00</th>\n",
       "      <td>0.000426</td>\n",
       "      <td>0.000583</td>\n",
       "      <td>0.000779</td>\n",
       "      <td>0.001306</td>\n",
       "      <td>0.000166</td>\n",
       "    </tr>\n",
       "    <tr>\n",
       "      <th>2016-03-24 10:00:00+00:00</th>\n",
       "      <td>0.000418</td>\n",
       "      <td>0.000573</td>\n",
       "      <td>0.000765</td>\n",
       "      <td>0.001281</td>\n",
       "      <td>0.000163</td>\n",
       "    </tr>\n",
       "    <tr>\n",
       "      <th>2016-03-24 11:00:00+00:00</th>\n",
       "      <td>0.000363</td>\n",
       "      <td>0.000497</td>\n",
       "      <td>0.000664</td>\n",
       "      <td>0.001110</td>\n",
       "      <td>0.000141</td>\n",
       "    </tr>\n",
       "    <tr>\n",
       "      <th>2016-03-24 12:00:00+00:00</th>\n",
       "      <td>0.000358</td>\n",
       "      <td>0.000490</td>\n",
       "      <td>0.000655</td>\n",
       "      <td>0.001089</td>\n",
       "      <td>0.000138</td>\n",
       "    </tr>\n",
       "    <tr>\n",
       "      <th>2016-03-24 13:00:00+00:00</th>\n",
       "      <td>0.000326</td>\n",
       "      <td>0.000447</td>\n",
       "      <td>0.000597</td>\n",
       "      <td>0.000998</td>\n",
       "      <td>0.000127</td>\n",
       "    </tr>\n",
       "    <tr>\n",
       "      <th>2016-03-24 14:00:00+00:00</th>\n",
       "      <td>0.000329</td>\n",
       "      <td>0.000451</td>\n",
       "      <td>0.000603</td>\n",
       "      <td>0.000987</td>\n",
       "      <td>0.000125</td>\n",
       "    </tr>\n",
       "    <tr>\n",
       "      <th>2016-03-24 15:00:00+00:00</th>\n",
       "      <td>0.000362</td>\n",
       "      <td>0.000496</td>\n",
       "      <td>0.000663</td>\n",
       "      <td>0.001077</td>\n",
       "      <td>0.000137</td>\n",
       "    </tr>\n",
       "    <tr>\n",
       "      <th>2016-03-24 16:00:00+00:00</th>\n",
       "      <td>0.000372</td>\n",
       "      <td>0.000510</td>\n",
       "      <td>0.000681</td>\n",
       "      <td>0.001114</td>\n",
       "      <td>0.000142</td>\n",
       "    </tr>\n",
       "    <tr>\n",
       "      <th>2016-03-24 17:00:00+00:00</th>\n",
       "      <td>0.000392</td>\n",
       "      <td>0.000538</td>\n",
       "      <td>0.000718</td>\n",
       "      <td>0.001182</td>\n",
       "      <td>0.000150</td>\n",
       "    </tr>\n",
       "    <tr>\n",
       "      <th>2016-03-24 18:00:00+00:00</th>\n",
       "      <td>0.000419</td>\n",
       "      <td>0.000574</td>\n",
       "      <td>0.000767</td>\n",
       "      <td>0.001263</td>\n",
       "      <td>0.000160</td>\n",
       "    </tr>\n",
       "    <tr>\n",
       "      <th>2016-03-24 19:00:00+00:00</th>\n",
       "      <td>0.000390</td>\n",
       "      <td>0.000535</td>\n",
       "      <td>0.000715</td>\n",
       "      <td>0.001184</td>\n",
       "      <td>0.000150</td>\n",
       "    </tr>\n",
       "    <tr>\n",
       "      <th>2016-03-24 20:00:00+00:00</th>\n",
       "      <td>0.000327</td>\n",
       "      <td>0.000448</td>\n",
       "      <td>0.000600</td>\n",
       "      <td>0.001024</td>\n",
       "      <td>0.000130</td>\n",
       "    </tr>\n",
       "    <tr>\n",
       "      <th>2016-03-24 21:00:00+00:00</th>\n",
       "      <td>0.000226</td>\n",
       "      <td>0.000309</td>\n",
       "      <td>0.000415</td>\n",
       "      <td>0.000725</td>\n",
       "      <td>0.000092</td>\n",
       "    </tr>\n",
       "    <tr>\n",
       "      <th>2016-03-24 22:00:00+00:00</th>\n",
       "      <td>0.000174</td>\n",
       "      <td>0.000238</td>\n",
       "      <td>0.000319</td>\n",
       "      <td>0.000578</td>\n",
       "      <td>0.000073</td>\n",
       "    </tr>\n",
       "    <tr>\n",
       "      <th>2016-03-24 23:00:00+00:00</th>\n",
       "      <td>0.000186</td>\n",
       "      <td>0.000255</td>\n",
       "      <td>0.000342</td>\n",
       "      <td>0.000623</td>\n",
       "      <td>0.000079</td>\n",
       "    </tr>\n",
       "  </tbody>\n",
       "</table>\n",
       "</div>"
      ],
      "text/plain": [
       "                              AUT_1     AUT_2     AUT_3     CHE_1     CHE_2\n",
       "time                                                                       \n",
       "2016-03-24 00:00:00+00:00  0.000182  0.000249  0.000334  0.000614  0.000078\n",
       "2016-03-24 01:00:00+00:00  0.000186  0.000255  0.000341  0.000620  0.000079\n",
       "2016-03-24 02:00:00+00:00  0.000299  0.000410  0.000549  0.000971  0.000123\n",
       "2016-03-24 03:00:00+00:00  0.000498  0.000682  0.000911  0.001557  0.000198\n",
       "2016-03-24 04:00:00+00:00  0.000544  0.000746  0.000994  0.001653  0.000210\n",
       "2016-03-24 05:00:00+00:00  0.000573  0.000785  0.001048  0.001767  0.000224\n",
       "2016-03-24 06:00:00+00:00  0.000472  0.000646  0.000863  0.001452  0.000185\n",
       "2016-03-24 07:00:00+00:00  0.000463  0.000634  0.000848  0.001422  0.000181\n",
       "2016-03-24 08:00:00+00:00  0.000437  0.000599  0.000800  0.001351  0.000172\n",
       "2016-03-24 09:00:00+00:00  0.000426  0.000583  0.000779  0.001306  0.000166\n",
       "2016-03-24 10:00:00+00:00  0.000418  0.000573  0.000765  0.001281  0.000163\n",
       "2016-03-24 11:00:00+00:00  0.000363  0.000497  0.000664  0.001110  0.000141\n",
       "2016-03-24 12:00:00+00:00  0.000358  0.000490  0.000655  0.001089  0.000138\n",
       "2016-03-24 13:00:00+00:00  0.000326  0.000447  0.000597  0.000998  0.000127\n",
       "2016-03-24 14:00:00+00:00  0.000329  0.000451  0.000603  0.000987  0.000125\n",
       "2016-03-24 15:00:00+00:00  0.000362  0.000496  0.000663  0.001077  0.000137\n",
       "2016-03-24 16:00:00+00:00  0.000372  0.000510  0.000681  0.001114  0.000142\n",
       "2016-03-24 17:00:00+00:00  0.000392  0.000538  0.000718  0.001182  0.000150\n",
       "2016-03-24 18:00:00+00:00  0.000419  0.000574  0.000767  0.001263  0.000160\n",
       "2016-03-24 19:00:00+00:00  0.000390  0.000535  0.000715  0.001184  0.000150\n",
       "2016-03-24 20:00:00+00:00  0.000327  0.000448  0.000600  0.001024  0.000130\n",
       "2016-03-24 21:00:00+00:00  0.000226  0.000309  0.000415  0.000725  0.000092\n",
       "2016-03-24 22:00:00+00:00  0.000174  0.000238  0.000319  0.000578  0.000073\n",
       "2016-03-24 23:00:00+00:00  0.000186  0.000255  0.000342  0.000623  0.000079"
      ]
     },
     "execution_count": 361,
     "metadata": {},
     "output_type": "execute_result"
    }
   ],
   "source": [
    "baz = bar(foo).tz_convert('UTC')\n",
    "baz.loc['2016-03-24']"
   ]
  },
  {
   "cell_type": "code",
   "execution_count": 406,
   "metadata": {},
   "outputs": [
    {
     "data": {
      "text/plain": [
       "array([False, False, False, ..., False, False, False])"
      ]
     },
     "execution_count": 406,
     "metadata": {},
     "output_type": "execute_result"
    }
   ],
   "source": [
    "foo.index.isin(['2016-10-30 03:00:00', '2016-03-27 03:00:00'])"
   ]
  },
  {
   "cell_type": "code",
   "execution_count": 501,
   "metadata": {},
   "outputs": [
    {
     "data": {
      "text/html": [
       "<div>\n",
       "<style scoped>\n",
       "    .dataframe tbody tr th:only-of-type {\n",
       "        vertical-align: middle;\n",
       "    }\n",
       "\n",
       "    .dataframe tbody tr th {\n",
       "        vertical-align: top;\n",
       "    }\n",
       "\n",
       "    .dataframe thead th {\n",
       "        text-align: right;\n",
       "    }\n",
       "</style>\n",
       "<table border=\"1\" class=\"dataframe\">\n",
       "  <thead>\n",
       "    <tr style=\"text-align: right;\">\n",
       "      <th></th>\n",
       "      <th>AUT_1</th>\n",
       "      <th>AUT_2</th>\n",
       "      <th>AUT_3</th>\n",
       "      <th>CHE_1</th>\n",
       "      <th>CHE_2</th>\n",
       "    </tr>\n",
       "    <tr>\n",
       "      <th>time</th>\n",
       "      <th></th>\n",
       "      <th></th>\n",
       "      <th></th>\n",
       "      <th></th>\n",
       "      <th></th>\n",
       "    </tr>\n",
       "  </thead>\n",
       "  <tbody>\n",
       "    <tr>\n",
       "      <th>2016-01-01 00:00:00</th>\n",
       "      <td>0.000174</td>\n",
       "      <td>0.000238</td>\n",
       "      <td>0.000319</td>\n",
       "      <td>0.000578</td>\n",
       "      <td>0.000073</td>\n",
       "    </tr>\n",
       "    <tr>\n",
       "      <th>2016-01-01 01:00:00</th>\n",
       "      <td>0.000186</td>\n",
       "      <td>0.000255</td>\n",
       "      <td>0.000342</td>\n",
       "      <td>0.000623</td>\n",
       "      <td>0.000079</td>\n",
       "    </tr>\n",
       "    <tr>\n",
       "      <th>2016-01-01 02:00:00</th>\n",
       "      <td>0.000182</td>\n",
       "      <td>0.000249</td>\n",
       "      <td>0.000333</td>\n",
       "      <td>0.000612</td>\n",
       "      <td>0.000078</td>\n",
       "    </tr>\n",
       "    <tr>\n",
       "      <th>2016-01-01 03:00:00</th>\n",
       "      <td>0.000184</td>\n",
       "      <td>0.000252</td>\n",
       "      <td>0.000337</td>\n",
       "      <td>0.000612</td>\n",
       "      <td>0.000078</td>\n",
       "    </tr>\n",
       "    <tr>\n",
       "      <th>2016-01-01 04:00:00</th>\n",
       "      <td>0.000293</td>\n",
       "      <td>0.000401</td>\n",
       "      <td>0.000538</td>\n",
       "      <td>0.000945</td>\n",
       "      <td>0.000120</td>\n",
       "    </tr>\n",
       "    <tr>\n",
       "      <th>...</th>\n",
       "      <td>...</td>\n",
       "      <td>...</td>\n",
       "      <td>...</td>\n",
       "      <td>...</td>\n",
       "      <td>...</td>\n",
       "    </tr>\n",
       "    <tr>\n",
       "      <th>2016-12-31 19:00:00</th>\n",
       "      <td>0.000382</td>\n",
       "      <td>0.000524</td>\n",
       "      <td>0.000700</td>\n",
       "      <td>0.001138</td>\n",
       "      <td>0.000145</td>\n",
       "    </tr>\n",
       "    <tr>\n",
       "      <th>2016-12-31 20:00:00</th>\n",
       "      <td>0.000405</td>\n",
       "      <td>0.000555</td>\n",
       "      <td>0.000742</td>\n",
       "      <td>0.001204</td>\n",
       "      <td>0.000153</td>\n",
       "    </tr>\n",
       "    <tr>\n",
       "      <th>2016-12-31 21:00:00</th>\n",
       "      <td>0.000388</td>\n",
       "      <td>0.000531</td>\n",
       "      <td>0.000710</td>\n",
       "      <td>0.001171</td>\n",
       "      <td>0.000149</td>\n",
       "    </tr>\n",
       "    <tr>\n",
       "      <th>2016-12-31 22:00:00</th>\n",
       "      <td>0.000321</td>\n",
       "      <td>0.000439</td>\n",
       "      <td>0.000588</td>\n",
       "      <td>0.000996</td>\n",
       "      <td>0.000127</td>\n",
       "    </tr>\n",
       "    <tr>\n",
       "      <th>2016-12-31 23:00:00</th>\n",
       "      <td>0.000220</td>\n",
       "      <td>0.000302</td>\n",
       "      <td>0.000405</td>\n",
       "      <td>0.000701</td>\n",
       "      <td>0.000089</td>\n",
       "    </tr>\n",
       "  </tbody>\n",
       "</table>\n",
       "<p>8784 rows × 5 columns</p>\n",
       "</div>"
      ],
      "text/plain": [
       "                        AUT_1     AUT_2     AUT_3     CHE_1     CHE_2\n",
       "time                                                                 \n",
       "2016-01-01 00:00:00  0.000174  0.000238  0.000319  0.000578  0.000073\n",
       "2016-01-01 01:00:00  0.000186  0.000255  0.000342  0.000623  0.000079\n",
       "2016-01-01 02:00:00  0.000182  0.000249  0.000333  0.000612  0.000078\n",
       "2016-01-01 03:00:00  0.000184  0.000252  0.000337  0.000612  0.000078\n",
       "2016-01-01 04:00:00  0.000293  0.000401  0.000538  0.000945  0.000120\n",
       "...                       ...       ...       ...       ...       ...\n",
       "2016-12-31 19:00:00  0.000382  0.000524  0.000700  0.001138  0.000145\n",
       "2016-12-31 20:00:00  0.000405  0.000555  0.000742  0.001204  0.000153\n",
       "2016-12-31 21:00:00  0.000388  0.000531  0.000710  0.001171  0.000149\n",
       "2016-12-31 22:00:00  0.000321  0.000439  0.000588  0.000996  0.000127\n",
       "2016-12-31 23:00:00  0.000220  0.000302  0.000405  0.000701  0.000089\n",
       "\n",
       "[8784 rows x 5 columns]"
      ]
     },
     "execution_count": 501,
     "metadata": {},
     "output_type": "execute_result"
    }
   ],
   "source": []
  },
  {
   "cell_type": "code",
   "execution_count": 492,
   "metadata": {},
   "outputs": [
    {
     "data": {
      "text/plain": [
       "<matplotlib.axes._subplots.AxesSubplot at 0x2af629490610>"
      ]
     },
     "execution_count": 492,
     "metadata": {},
     "output_type": "execute_result"
    },
    {
     "data": {
      "image/png": "[encoded data removed]",
      "text/plain": [
       "<Figure size 432x288 with 1 Axes>"
      ]
     },
     "metadata": {
      "needs_background": "light"
     },
     "output_type": "display_data"
    }
   ],
   "source": [
    "foo = all_hourly.copy(deep=True)\n",
    "foo.index = foo.index.tz_localize('America/St_Johns', ambiguous=foo.index != '2016-10-30 03:00:00', nonexistent='shift_backward').tz_convert('UTC')\n",
    "foo.loc[slice('2016-03-26', '2016-03-27')].plot()"
   ]
  },
  {
   "cell_type": "code",
   "execution_count": 493,
   "metadata": {},
   "outputs": [
    {
     "data": {
      "text/plain": [
       "DatetimeIndex(['2017-01-01 00:30:00+00:00', '2017-01-01 01:30:00+00:00',\n",
       "               '2017-01-01 02:30:00+00:00'],\n",
       "              dtype='datetime64[ns, UTC]', name='time', freq='60T')"
      ]
     },
     "execution_count": 493,
     "metadata": {},
     "output_type": "execute_result"
    }
   ],
   "source": [
    "foo.index[foo.index.year < 2016]"
   ]
  },
  {
   "cell_type": "code",
   "execution_count": 471,
   "metadata": {},
   "outputs": [
    {
     "data": {
      "text/html": [
       "<div>\n",
       "<style scoped>\n",
       "    .dataframe tbody tr th:only-of-type {\n",
       "        vertical-align: middle;\n",
       "    }\n",
       "\n",
       "    .dataframe tbody tr th {\n",
       "        vertical-align: top;\n",
       "    }\n",
       "\n",
       "    .dataframe thead th {\n",
       "        text-align: right;\n",
       "    }\n",
       "</style>\n",
       "<table border=\"1\" class=\"dataframe\">\n",
       "  <thead>\n",
       "    <tr style=\"text-align: right;\">\n",
       "      <th></th>\n",
       "      <th>time</th>\n",
       "      <th>AUT_1</th>\n",
       "      <th>AUT_2</th>\n",
       "      <th>AUT_3</th>\n",
       "      <th>CHE_1</th>\n",
       "      <th>CHE_2</th>\n",
       "    </tr>\n",
       "  </thead>\n",
       "  <tbody>\n",
       "  </tbody>\n",
       "</table>\n",
       "</div>"
      ],
      "text/plain": [
       "Empty DataFrame\n",
       "Columns: [time, AUT_1, AUT_2, AUT_3, CHE_1, CHE_2]\n",
       "Index: []"
      ]
     },
     "execution_count": 471,
     "metadata": {},
     "output_type": "execute_result"
    }
   ],
   "source": [
    "foo.reset_index()[foo.index.isnull()]#foo.index.where(foo.index == 'NaT', other=0)"
   ]
  },
  {
   "cell_type": "code",
   "execution_count": 491,
   "metadata": {},
   "outputs": [
    {
     "data": {
      "text/plain": [
       "'America/St_Johns'"
      ]
     },
     "execution_count": 491,
     "metadata": {},
     "output_type": "execute_result"
    }
   ],
   "source": [
    "pytz.country_timezones['CA'][0]"
   ]
  },
  {
   "cell_type": "code",
   "execution_count": 495,
   "metadata": {},
   "outputs": [
    {
     "data": {
      "text/plain": [
       "time\n",
       "2016-01-01 03:30:00+00:00    0.000174\n",
       "2016-01-01 04:30:00+00:00    0.000186\n",
       "2016-01-01 05:30:00+00:00    0.000182\n",
       "2016-01-01 06:30:00+00:00    0.000184\n",
       "2016-01-01 07:30:00+00:00    0.000293\n",
       "                               ...   \n",
       "2016-12-31 22:30:00+00:00    0.000382\n",
       "2016-12-31 23:30:00+00:00    0.000405\n",
       "2017-01-01 00:30:00+00:00    0.000388\n",
       "2017-01-01 01:30:00+00:00    0.000321\n",
       "2017-01-01 02:30:00+00:00    0.000220\n",
       "Freq: 60T, Name: AUT_1, Length: 8784, dtype: float64"
      ]
     },
     "execution_count": 495,
     "metadata": {},
     "output_type": "execute_result"
    }
   ],
   "source": [
    "foo['AUT_1'].apply(np.roll, shift=2)"
   ]
  },
  {
   "cell_type": "code",
   "execution_count": 514,
   "metadata": {},
   "outputs": [
    {
     "data": {
      "text/plain": [
       "array([0.00018633, 0.00018151, 0.00018402, ..., 0.00032076, 0.00022036,\n",
       "       0.00017361])"
      ]
     },
     "execution_count": 514,
     "metadata": {},
     "output_type": "execute_result"
    }
   ],
   "source": [
    "np.roll(foo['AUT_1'], shift=-1)"
   ]
  },
  {
   "cell_type": "code",
   "execution_count": 56,
   "metadata": {},
   "outputs": [
    {
     "name": "stderr",
     "output_type": "stream",
     "text": [
      "/Users/brynmorp/miniconda3/envs/euro-spores/lib/python3.7/site-packages/numpy/lib/arraysetops.py:569: FutureWarning: elementwise comparison failed; returning scalar instead, but in the future will perform elementwise comparison\n",
      "  mask |= (ar1 == a)\n"
     ]
    }
   ],
   "source": [
    "cooking = pd.read_csv('../data/cooking_profiles.csv.gz', index_col=[0, 1, 2], parse_dates=[0], squeeze=True)"
   ]
  },
  {
   "cell_type": "code",
   "execution_count": 33,
   "metadata": {},
   "outputs": [],
   "source": [
    "annual_demand = pd.read_csv('../build/eurospores/annual_demand.csv', index_col=[0, 1, 2, 3, 4, 5], squeeze=True)"
   ]
  },
  {
   "cell_type": "code",
   "execution_count": 35,
   "metadata": {},
   "outputs": [],
   "source": [
    "units = gpd.read_file('../build/units.geojson')"
   ]
  },
  {
   "cell_type": "code",
   "execution_count": 37,
   "metadata": {},
   "outputs": [],
   "source": [
    "eurospore_to_country = units.set_index('id').country_code"
   ]
  },
  {
   "cell_type": "code",
   "execution_count": 59,
   "metadata": {},
   "outputs": [],
   "source": [
    "annual_cooking = annual_demand.xs(('heat_demand', 'cooking'), level=('dataset', 'end_use')).sum(level=['year', 'id'])\n",
    "annual_cooking = (\n",
    "    pd.merge(\n",
    "        annual_cooking.to_frame('cooking_profile'), \n",
    "        eurospore_to_country.to_frame('country_code'), \n",
    "        left_index=True, right_index=True\n",
    "    )\n",
    "    .set_index('country_code', append=True)\n",
    ")\n",
    "df = pd.merge(cooking, annual_cooking, left_index=True, right_index=True)\n",
    "hourly_cooking = df['cooking_profile'].mul(df['cooking'])\n",
    "hourly_cooking = hourly_cooking.droplevel(['year', 'country_code']).unstack()"
   ]
  },
  {
   "cell_type": "code",
   "execution_count": 71,
   "metadata": {},
   "outputs": [
    {
     "data": {
      "text/plain": [
       "<matplotlib.axes._subplots.AxesSubplot at 0x7fc514a72c90>"
      ]
     },
     "execution_count": 71,
     "metadata": {},
     "output_type": "execute_result"
    },
    {
     "data": {
      "image/png": "[encoded data removed]",
      "text/plain": [
       "<Figure size 432x288 with 1 Axes>"
      ]
     },
     "metadata": {
      "needs_background": "light"
     },
     "output_type": "display_data"
    }
   ],
   "source": [
    "hourly_cooking.sum(axis=1).groupby([hourly_cooking.index.hour]).mean().plot()"
   ]
  },
  {
   "cell_type": "code",
   "execution_count": 68,
   "metadata": {},
   "outputs": [
    {
     "ename": "AttributeError",
     "evalue": "module 'pandas' has no attribute 'Timegrouper'",
     "output_type": "error",
     "traceback": [
      "\u001b[0;31m---------------------------------------------------------------------------\u001b[0m",
      "\u001b[0;31mAttributeError\u001b[0m                            Traceback (most recent call last)",
      "\u001b[0;32m<ipython-input-68-d02e65466ba5>\u001b[0m in \u001b[0;36m<module>\u001b[0;34m\u001b[0m\n\u001b[0;32m----> 1\u001b[0;31m \u001b[0mpd\u001b[0m\u001b[0;34m.\u001b[0m\u001b[0mTimegrouper\u001b[0m\u001b[0;34m.\u001b[0m\u001b[0mdayofyear\u001b[0m\u001b[0;34m\u001b[0m\u001b[0;34m\u001b[0m\u001b[0m\n\u001b[0m",
      "\u001b[0;32m~/miniconda3/envs/euro-spores/lib/python3.7/site-packages/pandas/__init__.py\u001b[0m in \u001b[0;36m__getattr__\u001b[0;34m(name)\u001b[0m\n\u001b[1;32m    261\u001b[0m             \u001b[0;32mreturn\u001b[0m \u001b[0m_SparseArray\u001b[0m\u001b[0;34m\u001b[0m\u001b[0;34m\u001b[0m\u001b[0m\n\u001b[1;32m    262\u001b[0m \u001b[0;34m\u001b[0m\u001b[0m\n\u001b[0;32m--> 263\u001b[0;31m         \u001b[0;32mraise\u001b[0m \u001b[0mAttributeError\u001b[0m\u001b[0;34m(\u001b[0m\u001b[0;34mf\"module 'pandas' has no attribute '{name}'\"\u001b[0m\u001b[0;34m)\u001b[0m\u001b[0;34m\u001b[0m\u001b[0;34m\u001b[0m\u001b[0m\n\u001b[0m\u001b[1;32m    264\u001b[0m \u001b[0;34m\u001b[0m\u001b[0m\n\u001b[1;32m    265\u001b[0m \u001b[0;34m\u001b[0m\u001b[0m\n",
      "\u001b[0;31mAttributeError\u001b[0m: module 'pandas' has no attribute 'Timegrouper'"
     ]
    }
   ],
   "source": [
    "pd.Timegrouper.dayofyear"
   ]
  },
  {
   "cell_type": "code",
   "execution_count": null,
   "metadata": {},
   "outputs": [],
   "source": []
  }
 ],
 "metadata": {
  "kernelspec": {
   "display_name": "Python [conda env:euro-spores]",
   "language": "python",
   "name": "conda-env-euro-spores-py"
  },
  "language_info": {
   "codemirror_mode": {
    "name": "ipython",
    "version": 3
   },
   "file_extension": ".py",
   "mimetype": "text/x-python",
   "name": "python",
   "nbconvert_exporter": "python",
   "pygments_lexer": "ipython3",
   "version": "3.7.6"
  }
 },
 "nbformat": 4,
 "nbformat_minor": 4
}
