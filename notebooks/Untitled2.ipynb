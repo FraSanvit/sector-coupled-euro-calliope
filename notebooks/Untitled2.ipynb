{
 "cells": [
  {
   "cell_type": "code",
   "execution_count": 10,
   "metadata": {},
   "outputs": [],
   "source": [
    "import calliope\n",
    "import pyomo.core as po"
   ]
  },
  {
   "cell_type": "code",
   "execution_count": 2,
   "metadata": {},
   "outputs": [
    {
     "name": "stderr",
     "output_type": "stream",
     "text": [
      "/Users/brynmorp/OneDrive/Projects/project-calliope/repos/calliope_fl/calliope/core/preprocess/model_run.py:227: FutureWarning:\n",
      "\n",
      "There will be no default cost class for the objective function in v0.7.0 (currently \"monetary\" with a weight of 1). Explicitly specify the cost class(es) you would like to use under `run.objective_options.cost_class`. E.g. `{\"monetary\": 1}` to replicate the current default.\n",
      "\n"
     ]
    }
   ],
   "source": [
    "m = calliope.examples.urban_scale()"
   ]
  },
  {
   "cell_type": "code",
   "execution_count": 4,
   "metadata": {},
   "outputs": [],
   "source": [
    "m.run()"
   ]
  },
  {
   "cell_type": "code",
   "execution_count": 7,
   "metadata": {},
   "outputs": [
    {
     "data": {
      "text/plain": [
       "loc_techs\n",
       "X3::supply_gas              0.018353\n",
       "N1::heat_pipes:X1         598.055620\n",
       "X1::demand_heat             1.719711\n",
       "X2::heat_pipes:N1         190.242620\n",
       "X3::boiler                  0.015600\n",
       "X2::demand_electricity    269.344350\n",
       "X1::pv                      0.000000\n",
       "X3::demand_heat             9.398229\n",
       "X2::boiler                192.830470\n",
       "N1::heat_pipes:X2         190.242620\n",
       "N1::heat_pipes:X3          10.382599\n",
       "X2::pv                     63.309509\n",
       "X1::power_lines:X2        274.511700\n",
       "X1::demand_electricity      1.307938\n",
       "X1::supply_gas            644.312830\n",
       "X1::power_lines:X3         45.778336\n",
       "X1::supply_grid_power      33.620147\n",
       "X3::demand_electricity     64.927357\n",
       "X2::power_lines:X1        274.511700\n",
       "X3::power_lines:X1         45.778336\n",
       "X2::demand_heat           365.137670\n",
       "X2::supply_gas            226.859380\n",
       "X3::pv                     50.000000\n",
       "X3::heat_pipes:N1          10.382599\n",
       "X1::chp                   260.946700\n",
       "X1::heat_pipes:N1         598.055620\n",
       "Name: energy_cap, dtype: float64"
      ]
     },
     "execution_count": 7,
     "metadata": {},
     "output_type": "execute_result"
    }
   ],
   "source": [
    "m.results.energy_cap.to_series().dropna()"
   ]
  },
  {
   "cell_type": "code",
   "execution_count": 17,
   "metadata": {},
   "outputs": [
    {
     "name": "stdout",
     "output_type": "stream",
     "text": [
      "loc_techs_cost_var_constraint : Dim=0, Dimen=1, Size=6, Domain=None, Ordered=Insertion, Bounds=None\n",
      "    ['X3::supply_gas', 'X1::supply_gas', 'X1::supply_grid_power', 'X2::supply_gas', 'X3::pv', 'X2::pv']\n"
     ]
    }
   ],
   "source": [
    "m._backend_model.cost_var_constraint_index.set_tuple[1].pprint()"
   ]
  },
  {
   "cell_type": "code",
   "execution_count": null,
   "metadata": {},
   "outputs": [],
   "source": []
  }
 ],
 "metadata": {
  "kernelspec": {
   "display_name": "Python [conda env:calliope_fl]",
   "language": "python",
   "name": "conda-env-calliope_fl-py"
  },
  "language_info": {
   "codemirror_mode": {
    "name": "ipython",
    "version": 3
   },
   "file_extension": ".py",
   "mimetype": "text/x-python",
   "name": "python",
   "nbconvert_exporter": "python",
   "pygments_lexer": "ipython3",
   "version": "3.8.1"
  }
 },
 "nbformat": 4,
 "nbformat_minor": 4
}
