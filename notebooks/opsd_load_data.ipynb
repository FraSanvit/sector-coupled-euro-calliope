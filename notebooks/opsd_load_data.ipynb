{
 "cells": [
  {
   "cell_type": "markdown",
   "metadata": {},
   "source": [
    "# Compare load data from OPSD\n",
    "see https://github.com/calliope-project/euro-calliope/issues/41 for more info"
   ]
  },
  {
   "cell_type": "code",
   "execution_count": 8,
   "metadata": {},
   "outputs": [],
   "source": [
    "SOURCE_PRIORITY = [\n",
    "    'actual_entsoe_power_statistics',\n",
    "    'actual_entsoe_transparency',\n",
    "    'actual_tso',\n",
    "    'actual_net_consumption_tso'\n",
    "]"
   ]
  },
  {
   "cell_type": "code",
   "execution_count": 1,
   "metadata": {},
   "outputs": [],
   "source": [
    "import os\n",
    "os.chdir('../euro-calliope')"
   ]
  },
  {
   "cell_type": "code",
   "execution_count": 2,
   "metadata": {},
   "outputs": [],
   "source": [
    "import pandas as pd"
   ]
  },
  {
   "cell_type": "code",
   "execution_count": 4,
   "metadata": {},
   "outputs": [],
   "source": [
    "opsd_data = pd.read_csv('data/automatic/raw-load-data.csv', nrows=20950674, parse_dates=[3])"
   ]
  },
  {
   "cell_type": "code",
   "execution_count": 6,
   "metadata": {},
   "outputs": [],
   "source": [
    "load_data = opsd_data[(opsd_data[\"variable\"] == \"load\")]"
   ]
  },
  {
   "cell_type": "code",
   "execution_count": 7,
   "metadata": {},
   "outputs": [],
   "source": [
    "# old method\n",
    "def remove_entsoe_power_statistic_data_where_possible(load):\n",
    "    sorted_load = load.sort_values(\n",
    "        \"attribute\",\n",
    "        ascending=False\n",
    "    ) # will end with entsoe-transparency ahead of entsoe-power-statistics\n",
    "    return sorted_load.drop_duplicates([\"region\", \"utc_timestamp\"], keep=\"first\")\n",
    "\n",
    "#new method\n",
    "def select_statistics_by_source_priority(load):\n",
    "    \"\"\"\n",
    "    Choosing `entsoe_power_statistics` as main source since OPSD states:\n",
    "        The two sources differ Values on PS (~500 TWh annaually in Germany) are\n",
    "        usually slightly higher than on the TP (~490 TWh). The reason probably\n",
    "        lies with different reporting deadlines: Values on the TP have to be\n",
    "        reported \"no later than one hour after the end of the operating period\".\n",
    "        For the PS, the data is published with a delay of up to 3 months,\n",
    "        which might allow for more accurate metering.\n",
    "        For a comparison of the two sources see Hirth, et al. (2018).\n",
    "    See https://nbviewer.jupyter.org/github/Open-Power-System-Data/datapackage_timeseries/blob/2020-10-06/main.ipynb for more info.\n",
    "    \"\"\"\n",
    "    load_by_attribute = (\n",
    "        load\n",
    "        .set_index([\"region\", \"utc_timestamp\", \"attribute\"])\n",
    "        [\"data\"]\n",
    "        .unstack(\"attribute\")\n",
    "    )\n",
    "    load_top_priority = load_by_attribute[SOURCE_PRIORITY[0]]\n",
    "    for source in SOURCE_PRIORITY[1:]:\n",
    "        load_top_priority = load_top_priority.fillna(load_by_attribute[source])\n",
    "\n",
    "    return load_top_priority"
   ]
  },
  {
   "cell_type": "code",
   "execution_count": 9,
   "metadata": {},
   "outputs": [],
   "source": [
    "old_data = remove_entsoe_power_statistic_data_where_possible(load_data)\n",
    "new_data = select_statistics_by_source_priority(load_data)"
   ]
  },
  {
   "cell_type": "code",
   "execution_count": null,
   "metadata": {},
   "outputs": [],
   "source": []
  }
 ],
 "metadata": {
  "kernelspec": {
   "display_name": "Python [conda env:euro-spores]",
   "language": "python",
   "name": "conda-env-euro-spores-py"
  },
  "language_info": {
   "codemirror_mode": {
    "name": "ipython",
    "version": 3
   },
   "file_extension": ".py",
   "mimetype": "text/x-python",
   "name": "python",
   "nbconvert_exporter": "python",
   "pygments_lexer": "ipython3",
   "version": "3.7.6"
  }
 },
 "nbformat": 4,
 "nbformat_minor": 4
}
