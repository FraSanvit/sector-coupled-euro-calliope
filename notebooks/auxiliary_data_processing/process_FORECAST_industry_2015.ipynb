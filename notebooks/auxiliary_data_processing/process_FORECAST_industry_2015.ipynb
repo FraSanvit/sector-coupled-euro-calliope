{
 "cells": [
  {
   "cell_type": "code",
   "execution_count": 1,
   "metadata": {},
   "outputs": [],
   "source": [
    "import sys\n",
    "\n",
    "import pandas as pd\n",
    "\n",
    "sys.path.append('../../src/construct/')\n",
    "import util\n",
    "\n",
    "idx = pd.IndexSlice"
   ]
  },
  {
   "cell_type": "code",
   "execution_count": 2,
   "metadata": {},
   "outputs": [],
   "source": [
    "# HRE data\n",
    "HRE_dfs = []\n",
    "for k, v in {\n",
    "    'household': dict(sheet_name='Residential data', skiprows=6, index_col=[0, 1], usecols=\"F,K,V:X\"), \n",
    "    'commercial': dict(sheet_name='Tertiary data', skiprows=4, index_col=[0, 1], usecols=\"F,L,O:Q\"),\n",
    "    'industry': dict(sheet_name='Industry data', skiprows=7, index_col=[0, 1], usecols=\"N,S,X:AB\")\n",
    "}.items():\n",
    "    _df = pd.read_excel('https://heatroadmap.eu/wp-content/uploads/2018/09/HRE4-Exchange-Template-WP3_v22b_website.xlsx', **v)\n",
    "    if k == 'household':\n",
    "        _df.columns = pd.Index(['water_heating', 'space_heating', 'cooking'], name='end_use')  # Assume HRE 'other heating' is just cooking\n",
    "    elif k == 'commercial':\n",
    "        _df.columns = pd.Index(['water_heating', 'space_heating', 'process_heating'], name='end_use')\n",
    "    elif k == 'industry':\n",
    "        _df = _df.groupby({\n",
    "            'PH <100 (FED)': 'process_heating',\n",
    "            'PH 100-200 (FED)': 'process_heating',\n",
    "            'PH 200-500 (FED)': 'process_heating',\n",
    "            'PH >500 (FED)': 'process_heating',\n",
    "            'SH (FED)': 'space_heating'\n",
    "        }, axis=1).sum().rename_axis(columns='end_use')\n",
    "\n",
    "    _df.index = (\n",
    "        _df.index.set_names(['country_code', 'carrier_name'])\n",
    "    )\n",
    "\n",
    "    _df = (\n",
    "        _df\n",
    "        .apply(util.to_numeric)\n",
    "        .dropna(how='all')\n",
    "        .groupby([\n",
    "            {i: util.get_alpha3(i) for i in _df.index.levels[0]},\n",
    "            {'Biomass': 'biomass',\n",
    "            'Coal': 'solid_fossil',\n",
    "            'Compression cooling (electricity)': 'electricity',\n",
    "            'District heating': 'heat',\n",
    "            'Electric Heating': 'electricity',\n",
    "            'Gas': 'natural_gas',\n",
    "            'Heat pumps total (electric)': 'electricity',\n",
    "            'Micro CHP (biomass)': 'biomass',\n",
    "            'Micro CHP (natural gas)': 'natural_gas',\n",
    "            'Oil': 'oil',\n",
    "            'Others (RES)': 'other_renewable',\n",
    "            'Others (fossil)': 'solid_fossil',  # This is where things like 'peat' and shale sand oil has gone from Eurostat...\n",
    "            'Solar thermal': 'solar_thermal'},\n",
    "        ], level=[0, 1]).sum()\n",
    "        .assign(cat_name=k)\n",
    "        .set_index('cat_name', append=True)\n",
    "        .stack()\n",
    "        .reorder_levels(['country_code', 'cat_name', 'end_use', 'carrier_name'])\n",
    "    )\n",
    "    HRE_dfs.append(_df)\n",
    "HRE_df = pd.concat(HRE_dfs)"
   ]
  },
  {
   "cell_type": "code",
   "execution_count": 3,
   "metadata": {},
   "outputs": [],
   "source": [
    "HRE_df.to_csv('../data/industry/FORECAST-industry_2015_end_use_consumption.csv')"
   ]
  }
 ],
 "metadata": {
  "kernelspec": {
   "display_name": "Python [conda env:euro-spores]",
   "language": "python",
   "name": "conda-env-euro-spores-py"
  },
  "language_info": {
   "codemirror_mode": {
    "name": "ipython",
    "version": 3
   },
   "file_extension": ".py",
   "mimetype": "text/x-python",
   "name": "python",
   "nbconvert_exporter": "python",
   "pygments_lexer": "ipython3",
   "version": "3.7.6"
  }
 },
 "nbformat": 4,
 "nbformat_minor": 4
}
