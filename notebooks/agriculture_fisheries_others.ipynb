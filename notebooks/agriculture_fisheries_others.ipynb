{
 "cells": [
  {
   "cell_type": "code",
   "execution_count": 1,
   "metadata": {},
   "outputs": [],
   "source": [
    "import os\n",
    "os.chdir('..')"
   ]
  },
  {
   "cell_type": "code",
   "execution_count": 5,
   "metadata": {},
   "outputs": [],
   "source": [
    "import pandas as pd\n",
    "\n",
    "from src.construct import util\n",
    "\n",
    "idx = pd.IndexSlice"
   ]
  },
  {
   "cell_type": "code",
   "execution_count": 3,
   "metadata": {},
   "outputs": [],
   "source": [
    "annual_energy_balance = util.read_tdf('build/annual_energy_balances.csv')"
   ]
  },
  {
   "cell_type": "code",
   "execution_count": 30,
   "metadata": {},
   "outputs": [],
   "source": [
    "year = 2016\n",
    "other_energy = annual_energy_balance.loc[idx[['FC_OTH_AF_E', 'FC_OTH_FISH_E', 'FC_OTH_NSP_E'], :, 'TJ', :, :]]"
   ]
  },
  {
   "cell_type": "code",
   "execution_count": 32,
   "metadata": {},
   "outputs": [],
   "source": [
    "other_energy_fuels = other_energy.loc[idx[:, ['C0000X0350-0370', 'O4000XBIO', 'G3000', 'RA000', 'W6100_6220', 'H8000'], :, :, year]]"
   ]
  },
  {
   "cell_type": "code",
   "execution_count": 33,
   "metadata": {},
   "outputs": [
    {
     "data": {
      "text/html": [
       "<div>\n",
       "<style scoped>\n",
       "    .dataframe tbody tr th:only-of-type {\n",
       "        vertical-align: middle;\n",
       "    }\n",
       "\n",
       "    .dataframe tbody tr th {\n",
       "        vertical-align: top;\n",
       "    }\n",
       "\n",
       "    .dataframe thead th {\n",
       "        text-align: right;\n",
       "    }\n",
       "</style>\n",
       "<table border=\"1\" class=\"dataframe\">\n",
       "  <thead>\n",
       "    <tr style=\"text-align: right;\">\n",
       "      <th>carrier_code</th>\n",
       "      <th>C0000X0350-0370</th>\n",
       "      <th>G3000</th>\n",
       "      <th>H8000</th>\n",
       "      <th>O4000XBIO</th>\n",
       "      <th>RA000</th>\n",
       "      <th>W6100_6220</th>\n",
       "    </tr>\n",
       "    <tr>\n",
       "      <th>cat_code</th>\n",
       "      <th></th>\n",
       "      <th></th>\n",
       "      <th></th>\n",
       "      <th></th>\n",
       "      <th></th>\n",
       "      <th></th>\n",
       "    </tr>\n",
       "  </thead>\n",
       "  <tbody>\n",
       "    <tr>\n",
       "      <th>FC_OTH_AF_E</th>\n",
       "      <td>43018.088</td>\n",
       "      <td>158319.597</td>\n",
       "      <td>11122.292</td>\n",
       "      <td>581115.237</td>\n",
       "      <td>119341.045</td>\n",
       "      <td>35.0</td>\n",
       "    </tr>\n",
       "    <tr>\n",
       "      <th>FC_OTH_FISH_E</th>\n",
       "      <td>0.000</td>\n",
       "      <td>48.812</td>\n",
       "      <td>1474.700</td>\n",
       "      <td>69491.858</td>\n",
       "      <td>2924.047</td>\n",
       "      <td>0.0</td>\n",
       "    </tr>\n",
       "    <tr>\n",
       "      <th>FC_OTH_NSP_E</th>\n",
       "      <td>1660.167</td>\n",
       "      <td>35913.550</td>\n",
       "      <td>6011.851</td>\n",
       "      <td>82109.109</td>\n",
       "      <td>60565.692</td>\n",
       "      <td>0.0</td>\n",
       "    </tr>\n",
       "  </tbody>\n",
       "</table>\n",
       "</div>"
      ],
      "text/plain": [
       "carrier_code   C0000X0350-0370       G3000      H8000   O4000XBIO       RA000  \\\n",
       "cat_code                                                                        \n",
       "FC_OTH_AF_E          43018.088  158319.597  11122.292  581115.237  119341.045   \n",
       "FC_OTH_FISH_E            0.000      48.812   1474.700   69491.858    2924.047   \n",
       "FC_OTH_NSP_E          1660.167   35913.550   6011.851   82109.109   60565.692   \n",
       "\n",
       "carrier_code   W6100_6220  \n",
       "cat_code                   \n",
       "FC_OTH_AF_E          35.0  \n",
       "FC_OTH_FISH_E         0.0  \n",
       "FC_OTH_NSP_E          0.0  "
      ]
     },
     "execution_count": 33,
     "metadata": {},
     "output_type": "execute_result"
    }
   ],
   "source": [
    "other_energy_fuels.sum(level=['cat_code', 'carrier_code']).unstack()"
   ]
  },
  {
   "cell_type": "code",
   "execution_count": 36,
   "metadata": {},
   "outputs": [
    {
     "data": {
      "text/plain": [
       "cat_code      carrier_code     unit  country  year  \n",
       "FC_OTH_AF_E   C0000X0350-0370  TJ    AL       1990.0    0.0\n",
       "                                              1991.0    0.0\n",
       "                                              1992.0    0.0\n",
       "                                              1993.0    0.0\n",
       "                                              1994.0    0.0\n",
       "                                                       ... \n",
       "FC_OTH_NSP_E  W6100_6220       TJ    UK       2014.0    0.0\n",
       "                                              2015.0    0.0\n",
       "                                              2016.0    0.0\n",
       "                                              2017.0    0.0\n",
       "                                              2018.0    0.0\n",
       "Name: 0, Length: 14205, dtype: float64"
      ]
     },
     "execution_count": 36,
     "metadata": {},
     "output_type": "execute_result"
    }
   ],
   "source": [
    "other_energy.loc[idx[['FC_OTH_AF_E', 'FC_OTH_FISH_E', 'FC_OTH_NSP_E'], ['C0000X0350-0370', 'G3000', 'RA000', 'W6100_6220', 'H8000'], :, :, :]]"
   ]
  },
  {
   "cell_type": "code",
   "execution_count": 88,
   "metadata": {},
   "outputs": [
    {
     "data": {
      "text/html": [
       "<div>\n",
       "<style scoped>\n",
       "    .dataframe tbody tr th:only-of-type {\n",
       "        vertical-align: middle;\n",
       "    }\n",
       "\n",
       "    .dataframe tbody tr th {\n",
       "        vertical-align: top;\n",
       "    }\n",
       "\n",
       "    .dataframe thead th {\n",
       "        text-align: right;\n",
       "    }\n",
       "</style>\n",
       "<table border=\"1\" class=\"dataframe\">\n",
       "  <thead>\n",
       "    <tr style=\"text-align: right;\">\n",
       "      <th>year</th>\n",
       "      <th>1990.0</th>\n",
       "      <th>1991.0</th>\n",
       "      <th>1992.0</th>\n",
       "      <th>1993.0</th>\n",
       "      <th>1994.0</th>\n",
       "      <th>1995.0</th>\n",
       "      <th>1996.0</th>\n",
       "      <th>1997.0</th>\n",
       "      <th>1998.0</th>\n",
       "      <th>1999.0</th>\n",
       "      <th>...</th>\n",
       "      <th>2009.0</th>\n",
       "      <th>2010.0</th>\n",
       "      <th>2011.0</th>\n",
       "      <th>2012.0</th>\n",
       "      <th>2013.0</th>\n",
       "      <th>2014.0</th>\n",
       "      <th>2015.0</th>\n",
       "      <th>2016.0</th>\n",
       "      <th>2017.0</th>\n",
       "      <th>2018.0</th>\n",
       "    </tr>\n",
       "    <tr>\n",
       "      <th>carrier_name</th>\n",
       "      <th></th>\n",
       "      <th></th>\n",
       "      <th></th>\n",
       "      <th></th>\n",
       "      <th></th>\n",
       "      <th></th>\n",
       "      <th></th>\n",
       "      <th></th>\n",
       "      <th></th>\n",
       "      <th></th>\n",
       "      <th></th>\n",
       "      <th></th>\n",
       "      <th></th>\n",
       "      <th></th>\n",
       "      <th></th>\n",
       "      <th></th>\n",
       "      <th></th>\n",
       "      <th></th>\n",
       "      <th></th>\n",
       "      <th></th>\n",
       "      <th></th>\n",
       "    </tr>\n",
       "  </thead>\n",
       "  <tbody>\n",
       "    <tr>\n",
       "      <th>ambient_heat</th>\n",
       "      <td>0.011667</td>\n",
       "      <td>0.011389</td>\n",
       "      <td>0.012222</td>\n",
       "      <td>0.013056</td>\n",
       "      <td>0.013611</td>\n",
       "      <td>0.014167</td>\n",
       "      <td>0.014722</td>\n",
       "      <td>0.015556</td>\n",
       "      <td>0.016389</td>\n",
       "      <td>0.016944</td>\n",
       "      <td>...</td>\n",
       "      <td>0.127272</td>\n",
       "      <td>0.136805</td>\n",
       "      <td>12.252376</td>\n",
       "      <td>12.745948</td>\n",
       "      <td>13.258128</td>\n",
       "      <td>13.064488</td>\n",
       "      <td>13.115267</td>\n",
       "      <td>15.277671</td>\n",
       "      <td>15.416773</td>\n",
       "      <td>16.237124</td>\n",
       "    </tr>\n",
       "    <tr>\n",
       "      <th>biofuel</th>\n",
       "      <td>21.024806</td>\n",
       "      <td>21.236417</td>\n",
       "      <td>20.581083</td>\n",
       "      <td>16.861306</td>\n",
       "      <td>16.186333</td>\n",
       "      <td>16.205528</td>\n",
       "      <td>15.984639</td>\n",
       "      <td>15.682139</td>\n",
       "      <td>15.234500</td>\n",
       "      <td>15.465417</td>\n",
       "      <td>...</td>\n",
       "      <td>20.562651</td>\n",
       "      <td>22.346836</td>\n",
       "      <td>19.735773</td>\n",
       "      <td>20.443988</td>\n",
       "      <td>21.337307</td>\n",
       "      <td>21.955028</td>\n",
       "      <td>20.277586</td>\n",
       "      <td>20.918876</td>\n",
       "      <td>21.144970</td>\n",
       "      <td>19.801697</td>\n",
       "    </tr>\n",
       "    <tr>\n",
       "      <th>gas</th>\n",
       "      <td>139.341136</td>\n",
       "      <td>158.026616</td>\n",
       "      <td>121.801516</td>\n",
       "      <td>126.851560</td>\n",
       "      <td>110.424439</td>\n",
       "      <td>117.647750</td>\n",
       "      <td>140.454311</td>\n",
       "      <td>131.562365</td>\n",
       "      <td>129.207406</td>\n",
       "      <td>128.483336</td>\n",
       "      <td>...</td>\n",
       "      <td>64.025730</td>\n",
       "      <td>78.916013</td>\n",
       "      <td>73.742762</td>\n",
       "      <td>74.902406</td>\n",
       "      <td>75.395499</td>\n",
       "      <td>70.843942</td>\n",
       "      <td>63.842062</td>\n",
       "      <td>64.440376</td>\n",
       "      <td>64.000974</td>\n",
       "      <td>60.751810</td>\n",
       "    </tr>\n",
       "    <tr>\n",
       "      <th>heat</th>\n",
       "      <td>31.493333</td>\n",
       "      <td>33.615833</td>\n",
       "      <td>40.888611</td>\n",
       "      <td>35.829444</td>\n",
       "      <td>32.030278</td>\n",
       "      <td>34.980556</td>\n",
       "      <td>41.036111</td>\n",
       "      <td>32.389444</td>\n",
       "      <td>32.561944</td>\n",
       "      <td>32.150000</td>\n",
       "      <td>...</td>\n",
       "      <td>5.753614</td>\n",
       "      <td>5.272012</td>\n",
       "      <td>4.325896</td>\n",
       "      <td>4.538072</td>\n",
       "      <td>4.374532</td>\n",
       "      <td>5.576782</td>\n",
       "      <td>4.970719</td>\n",
       "      <td>5.169123</td>\n",
       "      <td>4.733960</td>\n",
       "      <td>4.323800</td>\n",
       "    </tr>\n",
       "    <tr>\n",
       "      <th>oil</th>\n",
       "      <td>0.006161</td>\n",
       "      <td>0.006842</td>\n",
       "      <td>0.007584</td>\n",
       "      <td>0.026218</td>\n",
       "      <td>0.069133</td>\n",
       "      <td>0.011051</td>\n",
       "      <td>0.011986</td>\n",
       "      <td>0.015536</td>\n",
       "      <td>0.013989</td>\n",
       "      <td>0.015392</td>\n",
       "      <td>...</td>\n",
       "      <td>1.303906</td>\n",
       "      <td>1.109597</td>\n",
       "      <td>0.759171</td>\n",
       "      <td>0.935342</td>\n",
       "      <td>1.085510</td>\n",
       "      <td>1.211502</td>\n",
       "      <td>1.324092</td>\n",
       "      <td>1.501760</td>\n",
       "      <td>1.730798</td>\n",
       "      <td>3.011452</td>\n",
       "    </tr>\n",
       "    <tr>\n",
       "      <th>renewable_heat</th>\n",
       "      <td>2.729448</td>\n",
       "      <td>2.753146</td>\n",
       "      <td>2.938960</td>\n",
       "      <td>3.027023</td>\n",
       "      <td>3.060634</td>\n",
       "      <td>3.454712</td>\n",
       "      <td>3.446474</td>\n",
       "      <td>3.480820</td>\n",
       "      <td>3.542051</td>\n",
       "      <td>3.528815</td>\n",
       "      <td>...</td>\n",
       "      <td>2.231369</td>\n",
       "      <td>1.544019</td>\n",
       "      <td>1.711061</td>\n",
       "      <td>1.723810</td>\n",
       "      <td>1.736223</td>\n",
       "      <td>2.180394</td>\n",
       "      <td>2.363206</td>\n",
       "      <td>2.624578</td>\n",
       "      <td>2.739519</td>\n",
       "      <td>2.948468</td>\n",
       "    </tr>\n",
       "    <tr>\n",
       "      <th>solid_fossil</th>\n",
       "      <td>43.758950</td>\n",
       "      <td>45.386346</td>\n",
       "      <td>36.322564</td>\n",
       "      <td>40.232045</td>\n",
       "      <td>34.585149</td>\n",
       "      <td>29.078817</td>\n",
       "      <td>25.074527</td>\n",
       "      <td>23.307037</td>\n",
       "      <td>20.241672</td>\n",
       "      <td>21.949206</td>\n",
       "      <td>...</td>\n",
       "      <td>15.187431</td>\n",
       "      <td>16.608547</td>\n",
       "      <td>14.450404</td>\n",
       "      <td>14.802296</td>\n",
       "      <td>14.343481</td>\n",
       "      <td>13.495664</td>\n",
       "      <td>12.289181</td>\n",
       "      <td>13.093691</td>\n",
       "      <td>13.934666</td>\n",
       "      <td>13.579621</td>\n",
       "    </tr>\n",
       "  </tbody>\n",
       "</table>\n",
       "<p>7 rows × 29 columns</p>\n",
       "</div>"
      ],
      "text/plain": [
       "year                1990.0      1991.0      1992.0      1993.0      1994.0  \\\n",
       "carrier_name                                                                 \n",
       "ambient_heat      0.011667    0.011389    0.012222    0.013056    0.013611   \n",
       "biofuel          21.024806   21.236417   20.581083   16.861306   16.186333   \n",
       "gas             139.341136  158.026616  121.801516  126.851560  110.424439   \n",
       "heat             31.493333   33.615833   40.888611   35.829444   32.030278   \n",
       "oil               0.006161    0.006842    0.007584    0.026218    0.069133   \n",
       "renewable_heat    2.729448    2.753146    2.938960    3.027023    3.060634   \n",
       "solid_fossil     43.758950   45.386346   36.322564   40.232045   34.585149   \n",
       "\n",
       "year                1995.0      1996.0      1997.0      1998.0      1999.0  \\\n",
       "carrier_name                                                                 \n",
       "ambient_heat      0.014167    0.014722    0.015556    0.016389    0.016944   \n",
       "biofuel          16.205528   15.984639   15.682139   15.234500   15.465417   \n",
       "gas             117.647750  140.454311  131.562365  129.207406  128.483336   \n",
       "heat             34.980556   41.036111   32.389444   32.561944   32.150000   \n",
       "oil               0.011051    0.011986    0.015536    0.013989    0.015392   \n",
       "renewable_heat    3.454712    3.446474    3.480820    3.542051    3.528815   \n",
       "solid_fossil     29.078817   25.074527   23.307037   20.241672   21.949206   \n",
       "\n",
       "year            ...     2009.0     2010.0     2011.0     2012.0     2013.0  \\\n",
       "carrier_name    ...                                                          \n",
       "ambient_heat    ...   0.127272   0.136805  12.252376  12.745948  13.258128   \n",
       "biofuel         ...  20.562651  22.346836  19.735773  20.443988  21.337307   \n",
       "gas             ...  64.025730  78.916013  73.742762  74.902406  75.395499   \n",
       "heat            ...   5.753614   5.272012   4.325896   4.538072   4.374532   \n",
       "oil             ...   1.303906   1.109597   0.759171   0.935342   1.085510   \n",
       "renewable_heat  ...   2.231369   1.544019   1.711061   1.723810   1.736223   \n",
       "solid_fossil    ...  15.187431  16.608547  14.450404  14.802296  14.343481   \n",
       "\n",
       "year               2014.0     2015.0     2016.0     2017.0     2018.0  \n",
       "carrier_name                                                           \n",
       "ambient_heat    13.064488  13.115267  15.277671  15.416773  16.237124  \n",
       "biofuel         21.955028  20.277586  20.918876  21.144970  19.801697  \n",
       "gas             70.843942  63.842062  64.440376  64.000974  60.751810  \n",
       "heat             5.576782   4.970719   5.169123   4.733960   4.323800  \n",
       "oil              1.211502   1.324092   1.501760   1.730798   3.011452  \n",
       "renewable_heat   2.180394   2.363206   2.624578   2.739519   2.948468  \n",
       "solid_fossil    13.495664  12.289181  13.093691  13.934666  13.579621  \n",
       "\n",
       "[7 rows x 29 columns]"
      ]
     },
     "execution_count": 88,
     "metadata": {},
     "output_type": "execute_result"
    }
   ],
   "source": [
    "carrier_names_df = pd.read_csv('data/energy_balance_carrier_names.csv', index_col=0, header=0)\n",
    "balance_code = 'oth'\n",
    "country_codes = {\n",
    "        i: util.get_alpha3(i) for i in annual_energy_balance.index.get_level_values('country').unique()\n",
    "    }\n",
    "annual_energy_balance.loc[['FC_OTH_AF_E', 'FC_OTH_FISH_E', 'FC_OTH_NSP_E']].xs('TJ', level='unit').apply(util.tj_to_twh).unstack('year').groupby(\n",
    "                [carrier_names_df[f'{balance_code}_carrier_name'].dropna().to_dict(), country_codes],\n",
    "                level=['carrier_code', 'country']\n",
    "            ).sum().rename_axis(['carrier_name', 'country_code'], axis=0).sum(level='carrier_name')"
   ]
  },
  {
   "cell_type": "code",
   "execution_count": 68,
   "metadata": {},
   "outputs": [
    {
     "data": {
      "text/plain": [
       "cat_code     carrier_code  unit  country  year  \n",
       "FC_OTH_HH_E  BIOE          TJ    AL       1990.0    15199.0\n",
       "                                          1991.0    15199.0\n",
       "                                          1992.0    15199.0\n",
       "                                          1993.0    14507.0\n",
       "                                          1994.0    13847.0\n",
       "                                                     ...   \n",
       "             W6220         TJ    UK       2014.0      295.0\n",
       "                                          2015.0      248.0\n",
       "                                          2016.0        0.0\n",
       "                                          2017.0        0.0\n",
       "                                          2018.0        0.0\n",
       "Name: 0, Length: 59971, dtype: float64"
      ]
     },
     "execution_count": 68,
     "metadata": {},
     "output_type": "execute_result"
    }
   ],
   "source": [
    "annual_energy_balance[\n",
    "            annual_energy_balance.index.get_level_values('cat_code').str.contains(r'^FC_OTH_HH_E')\n",
    "        ]"
   ]
  },
  {
   "cell_type": "code",
   "execution_count": 64,
   "metadata": {},
   "outputs": [
    {
     "data": {
      "text/plain": [
       "15877.024468055555"
      ]
     },
     "execution_count": 64,
     "metadata": {},
     "output_type": "execute_result"
    }
   ],
   "source": [
    "annual_energy_balance.loc[['FC_TRA_DAVI_E', 'INTAVI']].unstack('carrier_code')['O4000XBIO'].sum(level=['country', 'year']).sub(other_energy.loc[idx['FC_OTH_NSP_E', ['O4651', 'O4653', 'O4661XR5230B', 'O4669'], 'TJ', :, :]].sum(level=['country', 'year']), fill_value=0).apply(util.tj_to_twh).sum()"
   ]
  },
  {
   "cell_type": "code",
   "execution_count": 40,
   "metadata": {},
   "outputs": [],
   "source": [
    "# assumption: agriculture oil use goes to heavy-duty transport demand; fisheries' oil use goes to marine fuel demand; others oil use goes predominantly to heavy-duty transport, except kerosene which goes to aviation\n",
    "# electricity goes to everything else (solid fossils, nat gas, biofuels, direct heat, waste) goes to heat demand\n",
    "\n",
    "heat_demand_approx = x\n",
    "aviation_demand_approx = other_energy.loc[idx['FC_OTH_NSP_E', ['O4651', 'O4653', 'O4661XR5230B', 'O4669'], 'TJ', :, :]].sum(level=['country', 'year'])\n",
    "hdv_demand_approx = other_energy.loc[idx[['FC_OTH_AF_E', 'FC_OTH_NSP_E'], 'O4000XBIO', 'TJ', :, :]].sum(level=['country', 'year']) - aviation_demand_approx\n",
    "marine_demand_approx = other_energy.loc[idx[['FC_OTH_FISH_E'], 'O4000XBIO', 'TJ', :, :]].sum(level=['country', 'year'])"
   ]
  },
  {
   "cell_type": "code",
   "execution_count": 44,
   "metadata": {},
   "outputs": [
    {
     "data": {
      "text/plain": [
       "year\n",
       "1990.0       0.000\n",
       "1991.0       0.000\n",
       "1992.0       0.000\n",
       "1993.0       0.000\n",
       "1994.0       0.000\n",
       "1995.0       0.000\n",
       "1996.0       0.000\n",
       "1997.0       0.000\n",
       "1998.0       0.000\n",
       "1999.0       0.000\n",
       "2000.0       0.000\n",
       "2001.0       0.000\n",
       "2002.0       0.000\n",
       "2003.0       0.000\n",
       "2004.0       0.000\n",
       "2005.0       0.000\n",
       "2006.0       0.000\n",
       "2007.0       0.000\n",
       "2008.0       0.000\n",
       "2009.0       0.000\n",
       "2010.0    3786.683\n",
       "2011.0    3541.942\n",
       "2012.0    3355.794\n",
       "2013.0    3299.835\n",
       "2014.0    3171.788\n",
       "2015.0    5987.331\n",
       "2016.0    6052.215\n",
       "2017.0    3331.950\n",
       "2018.0    6205.245\n",
       "Name: 0, dtype: float64"
      ]
     },
     "execution_count": 44,
     "metadata": {},
     "output_type": "execute_result"
    }
   ],
   "source": [
    "marine_demand_approx.xs('UK')"
   ]
  },
  {
   "cell_type": "code",
   "execution_count": 20,
   "metadata": {},
   "outputs": [
    {
     "data": {
      "text/plain": [
       "5.538206000000001"
      ]
     },
     "execution_count": 20,
     "metadata": {},
     "output_type": "execute_result"
    }
   ],
   "source": [
    "util.ktoe_to_twh(69.4+406.8)"
   ]
  },
  {
   "cell_type": "code",
   "execution_count": 21,
   "metadata": {},
   "outputs": [
    {
     "data": {
      "text/plain": [
       "13.953249999999999"
      ]
     },
     "execution_count": 21,
     "metadata": {},
     "output_type": "execute_result"
    }
   ],
   "source": [
    "util.tj_to_twh(hdv_demand_approx.sum(level='country').xs('UK'))"
   ]
  },
  {
   "cell_type": "code",
   "execution_count": 22,
   "metadata": {},
   "outputs": [
    {
     "data": {
      "text/plain": [
       "2.330652"
      ]
     },
     "execution_count": 22,
     "metadata": {},
     "output_type": "execute_result"
    }
   ],
   "source": [
    "util.ktoe_to_twh(190.9+9.5)"
   ]
  },
  {
   "cell_type": "code",
   "execution_count": 27,
   "metadata": {},
   "outputs": [
    {
     "data": {
      "text/plain": [
       "cat_code\n",
       "FC_OTH_AF_E      15751.602\n",
       "FC_OTH_FISH_E        0.000\n",
       "FC_OTH_NSP_E     39498.351\n",
       "Name: 0, dtype: float64"
      ]
     },
     "execution_count": 27,
     "metadata": {},
     "output_type": "execute_result"
    }
   ],
   "source": [
    "other_energy.loc[idx[['FC_OTH_AF_E', 'FC_OTH_FISH_E', 'FC_OTH_NSP_E'], ['O4651', 'O4653', 'O4661XR5230B', 'O4669'], :, :, year]].sum(level=['cat_code'])"
   ]
  },
  {
   "cell_type": "code",
   "execution_count": null,
   "metadata": {},
   "outputs": [],
   "source": []
  }
 ],
 "metadata": {
  "kernelspec": {
   "display_name": "Python [conda env:euro-spores]",
   "language": "python",
   "name": "conda-env-euro-spores-py"
  },
  "language_info": {
   "codemirror_mode": {
    "name": "ipython",
    "version": 3
   },
   "file_extension": ".py",
   "mimetype": "text/x-python",
   "name": "python",
   "nbconvert_exporter": "python",
   "pygments_lexer": "ipython3",
   "version": "3.7.6"
  }
 },
 "nbformat": 4,
 "nbformat_minor": 4
}
