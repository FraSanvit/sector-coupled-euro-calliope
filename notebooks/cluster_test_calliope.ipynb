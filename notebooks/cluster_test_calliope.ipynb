{
 "cells": [
  {
   "cell_type": "code",
   "execution_count": 1,
   "metadata": {},
   "outputs": [],
   "source": [
    "%load_ext autoreload\n",
    "%autoreload 2"
   ]
  },
  {
   "cell_type": "code",
   "execution_count": 2,
   "metadata": {},
   "outputs": [],
   "source": [
    "import calliope\n",
    "import pandas as pd\n",
    "import xarray as xr\n",
    "import pyomo.core as po\n",
    "import numpy as np"
   ]
  },
  {
   "cell_type": "code",
   "execution_count": 3,
   "metadata": {},
   "outputs": [],
   "source": [
    "model = calliope.Model('../build/model/eurospores/model.yaml', scenario=\"industry_fuel,transport,heat,config_overrides\")"
   ]
  },
  {
   "cell_type": "code",
   "execution_count": 4,
   "metadata": {},
   "outputs": [],
   "source": [
    "calliope.set_log_verbosity()"
   ]
  },
  {
   "cell_type": "code",
   "execution_count": 5,
   "metadata": {},
   "outputs": [
    {
     "name": "stdout",
     "output_type": "stream",
     "text": [
      "[2020-12-21 11:16:27] INFO     Backend: starting model run\n",
      "[2020-12-21 11:16:27] INFO     Loading sets\n",
      "[2020-12-21 11:16:33] INFO     Loading parameters\n",
      "[2020-12-21 11:18:24] INFO     constraints are loaded in the following order: ['eurocalliope', 'costs', 'energy_balance', 'policy', 'capacity', 'network', 'dispatch', 'conversion', 'group', 'conversion_plus', 'export', 'milp']\n",
      "[2020-12-21 12:02:00] INFO     Backend: model generated. Time since start of model run: 0:45:32.915283\n"
     ]
    }
   ],
   "source": [
    "model.run(build_only=True)"
   ]
  },
  {
   "cell_type": "code",
   "execution_count": 7,
   "metadata": {},
   "outputs": [],
   "source": [
    "model.run_config['solver_options'] = {'Method': 2, 'Crossover': 0, 'Threads': 3, 'FeasibilityTol': 1e-3, 'OptimalityTol': 1e-4}\n",
    "model.run_config['solver_io'] = 'python'"
   ]
  },
  {
   "cell_type": "code",
   "execution_count": 8,
   "metadata": {},
   "outputs": [
    {
     "name": "stdout",
     "output_type": "stream",
     "text": [
      "[2020-12-21 12:07:11] INFO     model_creation\n",
      "[2020-12-21 12:07:11] INFO     Backend: starting model run\n",
      "[2020-12-21 12:07:11] INFO     Backend: sending model to solver\n",
      "[2020-12-21 12:07:11] DEBUG    Using license file /cluster/apps/gurobi/9.0.0/x86_64/gurobi.lic\n",
      "[2020-12-21 12:07:11] DEBUG    Set parameter TokenServer to value lic-gurobi.ethz.ch\n",
      "[2020-12-21 12:55:39] DEBUG    Parameter OutputFlag unchanged\n",
      "[2020-12-21 12:55:40] DEBUG    Value: 1  Min: 0  Max: 1  Default: 1\n",
      "[2020-12-21 12:55:40] DEBUG    Changed value of parameter LogFile to /scratch/156831649_8889.tmpdir/tmp6zhic4at.log\n",
      "[2020-12-21 12:55:40] DEBUG    Prev:   Default:\n",
      "[2020-12-21 12:55:40] DEBUG    Changed value of parameter Method to 2\n",
      "[2020-12-21 12:55:40] DEBUG    Prev: -1  Min: -1  Max: 5  Default: -1\n",
      "[2020-12-21 12:55:40] DEBUG    Changed value of parameter Crossover to 0\n",
      "[2020-12-21 12:55:40] DEBUG    Prev: -1  Min: -1  Max: 5  Default: -1\n",
      "[2020-12-21 12:55:40] DEBUG    Changed value of parameter Threads to 3\n",
      "[2020-12-21 12:55:40] DEBUG    Prev: 0  Min: 0  Max: 1024  Default: 0\n",
      "[2020-12-21 12:55:40] DEBUG    Changed value of parameter FeasibilityTol to 0.001\n",
      "[2020-12-21 12:55:40] DEBUG    Prev: 1e-06  Min: 1e-09  Max: 0.01  Default: 1e-06\n",
      "[2020-12-21 12:55:40] DEBUG    Changed value of parameter OptimalityTol to 0.0001\n",
      "[2020-12-21 12:55:40] DEBUG    Prev: 1e-06  Min: 1e-09  Max: 0.01  Default: 1e-06\n",
      "[2020-12-21 12:56:01] DEBUG    Gurobi Optimizer version 9.1.0 build v9.1.0rc0 (linux64)\n",
      "[2020-12-21 12:56:01] DEBUG    Thread count: 128 physical cores, 128 logical processors, using up to 3 threads\n",
      "[2020-12-21 12:56:01] DEBUG    Optimize a model with 11697621 rows, 9166293 columns and 31357058 nonzeros\n",
      "[2020-12-21 12:56:02] DEBUG    Model fingerprint: 0x91bf9f4c\n",
      "[2020-12-21 12:56:02] DEBUG    Coefficient statistics:\n",
      "[2020-12-21 12:56:02] DEBUG    Matrix range     [4e-05, 6e+02]\n",
      "[2020-12-21 12:56:02] DEBUG    Objective range  [1e+00, 1e+00]\n",
      "[2020-12-21 12:56:02] DEBUG    Bounds range     [1e-05, 2e+02]\n",
      "[2020-12-21 12:56:02] DEBUG    RHS range        [4e-06, 2e+03]\n",
      "[2020-12-21 12:56:07] DEBUG    Presolve removed 4409868 rows and 2822200 columns (presolve time = 5s) ...\n",
      "[2020-12-21 12:56:15] DEBUG    Presolve removed 4485609 rows and 3071660 columns (presolve time = 13s) ...\n",
      "[2020-12-21 12:56:17] DEBUG    Presolve removed 4733949 rows and 3320000 columns (presolve time = 15s) ...\n",
      "[2020-12-21 12:56:22] DEBUG    Presolve removed 7373949 rows and 5960000 columns (presolve time = 20s) ...\n",
      "[2020-12-21 12:56:36] DEBUG    Presolve removed 7480638 rows and 6066689 columns (presolve time = 34s) ...\n",
      "[2020-12-21 12:56:40] DEBUG    Presolve removed 7552712 rows and 6138035 columns (presolve time = 38s) ...\n",
      "[2020-12-21 12:56:42] DEBUG    Presolve removed 7629880 rows and 6138035 columns (presolve time = 40s) ...\n",
      "[2020-12-21 12:56:48] DEBUG    Presolve removed 7629880 rows and 6138035 columns (presolve time = 46s) ...\n",
      "[2020-12-21 12:56:48] DEBUG    Presolve removed 7629880 rows and 6138035 columns\n",
      "[2020-12-21 12:56:48] DEBUG    Presolve time: 46.76s\n",
      "[2020-12-21 12:56:48] DEBUG    Presolved: 4067741 rows, 3028258 columns, 13823377 nonzeros\n",
      "[2020-12-21 12:56:56] DEBUG    Elapsed ordering time = 5s\n",
      "[2020-12-21 12:57:37] DEBUG    Elapsed ordering time = 46s\n",
      "[2020-12-21 12:57:41] DEBUG    Elapsed ordering time = 50s\n",
      "[2020-12-21 12:57:46] DEBUG    Elapsed ordering time = 55s\n",
      "[2020-12-21 12:57:51] DEBUG    Elapsed ordering time = 60s\n",
      "[2020-12-21 12:57:56] DEBUG    Elapsed ordering time = 65s\n",
      "[2020-12-21 12:59:02] DEBUG    Ordering time: 131.21s\n",
      "[2020-12-21 12:59:15] DEBUG    Barrier statistics:\n",
      "[2020-12-21 12:59:15] DEBUG    Dense cols : 2915\n",
      "[2020-12-21 12:59:15] DEBUG    AA' NZ     : 1.609e+07\n",
      "[2020-12-21 12:59:15] DEBUG    Factor NZ  : 2.899e+08 (roughly 5.0 GBytes of memory)\n",
      "[2020-12-21 12:59:15] DEBUG    Factor Ops : 1.360e+12 (roughly 35 seconds per iteration)\n",
      "[2020-12-21 12:59:15] DEBUG    Threads    : 3\n",
      "[2020-12-21 13:00:38] DEBUG    Objective                Residual\n",
      "[2020-12-21 13:00:38] DEBUG    Iter       Primal          Dual         Primal    Dual     Compl     Time\n",
      "[2020-12-21 13:00:39] DEBUG    0   3.75586971e+06 -3.26520438e+05  3.14e+05 1.61e-01  7.18e+02   278s\n",
      "[2020-12-21 13:02:06] DEBUG    1   3.82519626e+06 -4.16185497e+05  2.72e+05 2.67e+00  4.79e+02   365s\n",
      "[2020-12-21 13:03:37] DEBUG    2   3.88535708e+06 -4.33909304e+05  2.39e+05 2.44e+00  4.33e+02   455s\n",
      "[2020-12-21 13:05:12] DEBUG    3   3.90336007e+06 -1.52688425e+06  1.88e+05 1.06e+00  2.59e+02   550s\n",
      "[2020-12-21 13:06:52] DEBUG    4   3.39038972e+06 -2.48278522e+06  8.28e+04 4.05e-01  1.16e+02   651s\n",
      "[2020-12-21 13:08:30] DEBUG    5   2.97734275e+06 -2.61521597e+06  2.80e+04 2.82e-01  5.11e+01   748s\n",
      "[2020-12-21 13:10:18] DEBUG    6   2.90623834e+06 -2.47840337e+06  1.08e+04 1.40e-01  2.35e+01   857s\n",
      "[2020-12-21 13:12:09] DEBUG    7   2.40731042e+06 -1.73198070e+06  1.02e+03 1.69e-02  3.55e+00   967s\n",
      "[2020-12-21 13:13:53] DEBUG    8   1.33820781e+06 -4.50332283e+05  1.36e+02 7.31e-04  6.92e-01  1072s\n",
      "[2020-12-21 13:15:57] DEBUG    9   1.28457120e+05 -6.33204351e+04  8.02e+00 3.71e-09  6.25e-02  1195s\n",
      "[2020-12-21 13:17:33] DEBUG    10   3.10965933e+04 -2.10986157e+04  1.42e+00 3.41e-09  1.63e-02  1292s\n",
      "[2020-12-21 13:19:24] DEBUG    11   2.29974156e+04 -1.27055447e+04  9.83e-01 2.70e-09  1.11e-02  1402s\n",
      "[2020-12-21 13:21:08] DEBUG    12   1.86302183e+04 -9.33093613e+03  7.65e-01 2.14e-09  8.63e-03  1507s\n",
      "[2020-12-21 13:22:30] DEBUG    13   1.60085078e+04 -6.79069977e+03  6.28e-01 1.49e-09  7.02e-03  1589s\n",
      "[2020-12-21 13:24:05] DEBUG    14   1.08215298e+04 -5.67137833e+03  3.63e-01 1.29e-09  5.05e-03  1684s\n",
      "[2020-12-21 13:25:35] DEBUG    15   9.14024630e+03 -3.64550315e+03  2.90e-01 1.29e-09  3.91e-03  1773s\n",
      "[2020-12-21 13:27:05] DEBUG    16   6.78143289e+03 -1.83434610e+03  1.92e-01 7.58e-10  2.63e-03  1864s\n",
      "[2020-12-21 13:28:35] DEBUG    17   4.73016245e+03 -1.08571417e+03  1.12e-01 7.52e-10  1.77e-03  1954s\n",
      "[2020-12-21 13:30:06] DEBUG    18   3.84026459e+03 -3.91756655e+02  8.11e-02 1.01e-09  1.29e-03  2045s\n",
      "[2020-12-21 13:31:35] DEBUG    19   3.51036086e+03 -5.56753360e+01  7.01e-02 8.79e-10  1.08e-03  2134s\n",
      "[2020-12-21 13:33:10] DEBUG    20   2.66956247e+03  3.22305422e+02  4.28e-02 3.52e-08  7.13e-04  2228s\n",
      "[2020-12-21 13:34:44] DEBUG    21   2.09590595e+03  5.86101652e+02  2.47e-02 4.09e-08  4.58e-04  2323s\n",
      "[2020-12-21 13:36:12] DEBUG    22   1.96299130e+03  7.04392488e+02  2.07e-02 2.86e-10  3.82e-04  2411s\n",
      "[2020-12-21 13:37:46] DEBUG    23   1.80618323e+03  8.00998183e+02  1.60e-02 2.43e-10  3.05e-04  2505s\n",
      "[2020-12-21 13:39:26] DEBUG    24   1.70555281e+03  9.32803446e+02  1.30e-02 9.87e-11  2.34e-04  2605s\n",
      "[2020-12-21 13:40:59] DEBUG    25   1.61577843e+03  9.74667216e+02  1.04e-02 3.86e-08  1.94e-04  2697s\n",
      "[2020-12-21 13:42:36] DEBUG    26   1.56074556e+03  1.03169642e+03  8.83e-03 1.00e-07  1.60e-04  2794s\n",
      "[2020-12-21 13:44:04] DEBUG    27   1.51353378e+03  1.07019460e+03  7.47e-03 1.29e-07  1.34e-04  2883s\n",
      "[2020-12-21 13:45:34] DEBUG    28   1.47387676e+03  1.09514103e+03  6.35e-03 2.45e-07  1.15e-04  2973s\n",
      "[2020-12-21 13:47:28] DEBUG    29   1.43423931e+03  1.13360561e+03  5.23e-03 2.31e-07  9.12e-05  3087s\n",
      "[2020-12-21 13:49:10] DEBUG    30   1.39837537e+03  1.15217551e+03  4.22e-03 2.13e-07  7.47e-05  3189s\n",
      "[2020-12-21 13:50:57] DEBUG    31   1.37341997e+03  1.17327925e+03  3.52e-03 3.87e-07  6.07e-05  3296s\n",
      "[2020-12-21 13:52:38] DEBUG    32   1.35360634e+03  1.18279125e+03  2.97e-03 3.96e-07  5.18e-05  3397s\n",
      "[2020-12-21 13:54:10] DEBUG    33   1.34168397e+03  1.19027791e+03  2.65e-03 2.68e-07  4.59e-05  3489s\n",
      "[2020-12-21 13:55:32] DEBUG    34   1.33696786e+03  1.19275475e+03  2.51e-03 2.74e-07  4.37e-05  3571s\n",
      "[2020-12-21 13:57:01] DEBUG    35   1.33351835e+03  1.19544984e+03  2.42e-03 3.43e-07  4.19e-05  3660s\n",
      "[2020-12-21 13:58:28] DEBUG    36   1.32631832e+03  1.19866634e+03  2.22e-03 4.48e-07  3.87e-05  3747s\n",
      "[2020-12-21 13:59:48] DEBUG    37   1.32326054e+03  1.20256596e+03  2.14e-03 3.84e-07  3.66e-05  3827s\n",
      "[2020-12-21 14:01:19] DEBUG    38   1.31636915e+03  1.20855011e+03  1.95e-03 8.63e-07  3.27e-05  3917s\n",
      "[2020-12-21 14:02:45] DEBUG    39   1.30627434e+03  1.21211782e+03  1.67e-03 9.59e-07  2.86e-05  4004s\n",
      "[2020-12-21 14:04:13] DEBUG    40   1.29749758e+03  1.21609432e+03  1.44e-03 6.05e-07  2.47e-05  4092s\n",
      "[2020-12-21 14:05:36] DEBUG    41   1.29619399e+03  1.21835412e+03  1.40e-03 5.79e-07  2.36e-05  4175s\n",
      "[2020-12-21 14:07:04] DEBUG    42   1.28765232e+03  1.22264014e+03  1.17e-03 7.38e-08  1.97e-05  4263s\n",
      "[2020-12-21 14:08:30] DEBUG    43   1.28250909e+03  1.22549854e+03  1.03e-03 8.26e-12  1.73e-05  4349s\n",
      "[2020-12-21 14:10:06] DEBUG    44   1.27743042e+03  1.22804420e+03  8.90e-04 4.80e-07  1.50e-05  4444s\n",
      "[2020-12-21 14:11:48] DEBUG    45   1.27274319e+03  1.23036344e+03  7.62e-04 1.38e-06  1.29e-05  4547s\n",
      "[2020-12-21 14:13:30] DEBUG    46   1.26999600e+03  1.23338259e+03  6.88e-04 1.74e-06  1.11e-05  4649s\n",
      "[2020-12-21 14:15:04] DEBUG    47   1.26556869e+03  1.23458386e+03  5.68e-04 1.79e-06  9.40e-06  4743s\n",
      "[2020-12-21 14:16:44] DEBUG    48   1.26234343e+03  1.23699485e+03  4.80e-04 4.94e-07  7.69e-06  4842s\n",
      "[2020-12-21 14:18:20] DEBUG    49   1.25869289e+03  1.23824976e+03  3.82e-04 6.93e-07  6.20e-06  4939s\n",
      "[2020-12-21 14:19:52] DEBUG    50   1.25725258e+03  1.23889264e+03  3.43e-04 8.99e-07  5.57e-06  5029s\n",
      "[2020-12-21 14:21:19] DEBUG    51   1.25561117e+03  1.23939730e+03  2.98e-04 1.03e-06  4.92e-06  5118s\n",
      "[2020-12-21 14:22:44] DEBUG    52   1.25458888e+03  1.23991003e+03  2.70e-04 1.06e-06  4.46e-06  5202s\n",
      "[2020-12-21 14:24:13] DEBUG    53   1.25381453e+03  1.24031450e+03  2.49e-04 2.06e-06  4.10e-06  5292s\n",
      "[2020-12-21 14:25:41] DEBUG    54   1.25281845e+03  1.24039974e+03  2.22e-04 2.14e-06  3.77e-06  5380s\n",
      "[2020-12-21 14:27:03] DEBUG    55   1.25178358e+03  1.24096867e+03  1.94e-04 3.33e-06  3.28e-06  5462s\n",
      "[2020-12-21 14:28:35] DEBUG    56   1.25079972e+03  1.24150851e+03  1.67e-04 2.89e-06  2.82e-06  5554s\n",
      "[2020-12-21 14:30:08] DEBUG    57   1.24985837e+03  1.24189128e+03  1.42e-04 2.86e-06  2.42e-06  5647s\n",
      "[2020-12-21 14:31:50] DEBUG    58   1.24912435e+03  1.24250101e+03  1.22e-04 3.18e-06  2.01e-06  5749s\n",
      "[2020-12-21 14:33:37] DEBUG    59   1.24824760e+03  1.24282043e+03  9.86e-05 2.25e-06  1.65e-06  5855s\n",
      "[2020-12-21 14:35:02] DEBUG    60   1.24775664e+03  1.24300201e+03  8.56e-05 1.76e-06  1.44e-06  5941s\n",
      "[2020-12-21 14:36:36] DEBUG    61   1.24740079e+03  1.24317705e+03  7.62e-05 2.12e-06  1.28e-06  6035s\n",
      "[2020-12-21 14:38:00] DEBUG    62   1.24722304e+03  1.24332178e+03  7.16e-05 1.85e-06  1.18e-06  6119s\n",
      "[2020-12-21 14:39:36] DEBUG    63   1.24682355e+03  1.24349245e+03  6.10e-05 1.79e-06  1.01e-06  6215s\n",
      "[2020-12-21 14:41:10] DEBUG    64   1.24656086e+03  1.24367578e+03  5.41e-05 9.28e-07  8.76e-07  6308s\n",
      "[2020-12-21 14:42:36] DEBUG    65   1.24641765e+03  1.24384155e+03  5.04e-05 7.93e-07  7.82e-07  6394s\n",
      "[2020-12-21 14:44:08] DEBUG    66   1.24624227e+03  1.24391086e+03  4.58e-05 7.61e-07  7.08e-07  6486s\n",
      "[2020-12-21 14:45:42] DEBUG    67   1.24605342e+03  1.24397005e+03  4.10e-05 7.22e-07  6.33e-07  6581s\n",
      "[2020-12-21 14:47:24] DEBUG    68   1.24582172e+03  1.24403445e+03  3.51e-05 6.59e-07  5.43e-07  6683s\n",
      "[2020-12-21 14:48:49] DEBUG    69   1.24575816e+03  1.24404531e+03  3.34e-05 3.04e-07  5.20e-07  6767s\n",
      "[2020-12-21 14:50:17] DEBUG    70   1.24568286e+03  1.24408379e+03  3.15e-05 4.38e-07  4.86e-07  6856s\n",
      "[2020-12-21 14:51:51] DEBUG    71   1.24557118e+03  1.24412713e+03  2.87e-05 4.00e-07  4.39e-07  6950s\n",
      "[2020-12-21 14:53:25] DEBUG    72   1.24546529e+03  1.24415431e+03  2.60e-05 3.70e-07  3.98e-07  7044s\n",
      "[2020-12-21 14:55:07] DEBUG    73   1.24538675e+03  1.24419006e+03  2.40e-05 8.94e-07  3.63e-07  7145s\n",
      "[2020-12-21 14:56:35] DEBUG    74   1.24531935e+03  1.24420616e+03  2.22e-05 8.45e-07  3.38e-07  7233s\n",
      "[2020-12-21 14:58:10] DEBUG    75   1.24526440e+03  1.24423108e+03  2.08e-05 9.35e-07  3.14e-07  7328s\n",
      "[2020-12-21 14:59:50] DEBUG    76   1.24519182e+03  1.24428223e+03  1.90e-05 1.43e-06  2.76e-07  7429s\n",
      "[2020-12-21 15:01:16] DEBUG    77   1.24513287e+03  1.24429964e+03  1.74e-05 1.26e-06  2.53e-07  7515s\n",
      "[2020-12-21 15:02:45] DEBUG    78   1.24506178e+03  1.24431509e+03  1.56e-05 1.10e-06  2.27e-07  7604s\n",
      "[2020-12-21 15:04:13] DEBUG    79   1.24498289e+03  1.24432799e+03  1.36e-05 1.02e-06  1.99e-07  7691s\n",
      "[2020-12-21 15:05:31] DEBUG    80   1.24495613e+03  1.24433332e+03  1.29e-05 9.79e-07  1.89e-07  7769s\n",
      "[2020-12-21 15:06:51] DEBUG    81   1.24492371e+03  1.24434809e+03  1.21e-05 8.90e-07  1.75e-07  7850s\n",
      "[2020-12-21 15:08:18] DEBUG    82   1.24487659e+03  1.24436021e+03  1.09e-05 8.72e-07  1.57e-07  7937s\n",
      "[2020-12-21 15:09:45] DEBUG    83   1.24483824e+03  1.24436610e+03  9.87e-06 4.67e-07  1.43e-07  8023s\n",
      "[2020-12-21 15:11:04] DEBUG    84   1.24481997e+03  1.24437630e+03  9.42e-06 4.13e-07  1.35e-07  8103s\n",
      "[2020-12-21 15:12:20] DEBUG    85   1.24478230e+03  1.24438146e+03  8.43e-06 3.95e-07  1.22e-07  8179s\n",
      "[2020-12-21 15:13:49] DEBUG    86   1.24475479e+03  1.24439066e+03  7.73e-06 4.72e-07  1.11e-07  8268s\n",
      "[2020-12-21 15:15:06] DEBUG    87   1.24473520e+03  1.24439455e+03  7.22e-06 4.21e-07  1.04e-07  8344s\n",
      "[2020-12-21 15:16:36] DEBUG    88   1.24471973e+03  1.24440217e+03  6.83e-06 3.92e-07  9.65e-08  8434s\n",
      "[2020-12-21 15:17:59] DEBUG    89   1.24470242e+03  1.24440359e+03  6.38e-06 3.83e-07  9.08e-08  8518s\n",
      "[2020-12-21 15:19:37] DEBUG    90   1.24469615e+03  1.24440601e+03  6.21e-06 4.55e-07  8.82e-08  8615s\n",
      "[2020-12-21 15:21:11] DEBUG    91   1.24467770e+03  1.24441031e+03  5.74e-06 4.34e-07  8.13e-08  8709s\n",
      "[2020-12-21 15:22:50] DEBUG    92   1.24465207e+03  1.24441433e+03  5.08e-06 3.88e-07  7.22e-08  8809s\n",
      "[2020-12-21 15:24:22] DEBUG    93   1.24463642e+03  1.24441840e+03  4.67e-06 7.26e-07  6.63e-08  8901s\n",
      "[2020-12-21 15:26:07] DEBUG    94   1.24461056e+03  1.24442283e+03  4.01e-06 7.76e-07  5.71e-08  9005s\n",
      "[2020-12-21 15:27:25] DEBUG    95   1.24459599e+03  1.24442607e+03  3.63e-06 8.75e-07  5.16e-08  9084s\n",
      "[2020-12-21 15:28:47] DEBUG    96   1.24458813e+03  1.24442805e+03  3.42e-06 8.24e-07  4.87e-08  9166s\n",
      "[2020-12-21 15:30:18] DEBUG    97   1.24458166e+03  1.24443107e+03  3.25e-06 7.32e-07  4.58e-08  9256s\n",
      "[2020-12-21 15:31:37] DEBUG    98   1.24457167e+03  1.24443293e+03  2.99e-06 6.84e-07  4.22e-08  9336s\n",
      "[2020-12-21 15:32:55] DEBUG    99   1.24456247e+03  1.24443600e+03  2.74e-06 6.11e-07  3.84e-08  9413s\n",
      "[2020-12-21 15:34:09] DEBUG    100   1.24456022e+03  1.24443758e+03  2.69e-06 5.56e-07  3.73e-08  9487s\n",
      "[2020-12-21 15:35:28] DEBUG    101   1.24454369e+03  1.24443892e+03  2.25e-06 5.48e-07  3.18e-08  9566s\n",
      "[2020-12-21 15:36:47] DEBUG    102   1.24454249e+03  1.24443947e+03  2.22e-06 4.95e-07  3.13e-08  9646s\n",
      "[2020-12-21 15:38:04] DEBUG    103   1.24453934e+03  1.24444120e+03  2.14e-06 4.33e-07  2.98e-08  9723s\n",
      "[2020-12-21 15:39:26] DEBUG    104   1.24452578e+03  1.24444249e+03  1.79e-06 4.62e-07  2.53e-08  9805s\n",
      "[2020-12-21 15:40:55] DEBUG    105   1.24452013e+03  1.24444493e+03  1.64e-06 2.97e-07  2.29e-08  9894s\n",
      "[2020-12-21 15:42:19] DEBUG    106   1.24451779e+03  1.24444581e+03  1.58e-06 3.07e-07  2.19e-08  9977s\n",
      "[2020-12-21 15:43:45] DEBUG    107   1.24451540e+03  1.24444668e+03  1.52e-06 2.23e-07  2.09e-08  10063s\n",
      "[2020-12-21 15:45:15] DEBUG    108   1.24451063e+03  1.24444826e+03  1.39e-06 2.57e-07  1.90e-08  10153s\n",
      "[2020-12-21 15:46:40] DEBUG    109   1.24450212e+03  1.24444969e+03  1.17e-06 2.14e-07  1.59e-08  10239s\n",
      "[2020-12-21 15:48:01] DEBUG    110   1.24449748e+03  1.24445085e+03  1.05e-06 1.78e-07  1.42e-08  10320s\n",
      "[2020-12-21 15:49:18] DEBUG    111   1.24449086e+03  1.24445133e+03  8.73e-07 1.94e-07  1.20e-08  10397s\n",
      "[2020-12-21 15:50:38] DEBUG    112   1.24448889e+03  1.24445190e+03  8.22e-07 1.83e-07  1.12e-08  10476s\n",
      "[2020-12-21 15:52:08] DEBUG    113   1.24448580e+03  1.24445234e+03  7.41e-07 1.68e-07  1.02e-08  10566s\n",
      "[2020-12-21 15:53:26] DEBUG    114   1.24448386e+03  1.24445261e+03  6.89e-07 1.59e-07  9.50e-09  10645s\n",
      "[2020-12-21 15:54:53] DEBUG    115   1.24448194e+03  1.24445331e+03  6.39e-07 1.40e-07  8.71e-09  10731s\n",
      "[2020-12-21 15:56:33] DEBUG    116   1.24447892e+03  1.24445377e+03  5.59e-07 1.24e-07  7.65e-09  10831s\n",
      "[2020-12-21 15:58:06] DEBUG    117   1.24447750e+03  1.24445447e+03  5.23e-07 9.98e-08  7.00e-09  10925s\n",
      "[2020-12-21 15:59:34] DEBUG    118   1.24447682e+03  1.24445470e+03  5.05e-07 9.19e-08  6.73e-09  11013s\n",
      "[2020-12-21 16:01:04] DEBUG    119   1.24447414e+03  1.24445484e+03  4.37e-07 8.64e-08  5.87e-09  11102s\n",
      "[2020-12-21 16:02:32] DEBUG    120   1.24447245e+03  1.24445532e+03  3.92e-07 6.97e-08  5.21e-09  11190s\n",
      "[2020-12-21 16:03:58] DEBUG    121   1.24447023e+03  1.24445582e+03  3.35e-07 5.26e-08  4.38e-09  11277s\n",
      "[2020-12-21 16:05:29] DEBUG    122   1.24446905e+03  1.24445590e+03  3.05e-07 4.95e-08  4.00e-09  11367s\n",
      "[2020-12-21 16:07:13] DEBUG    123   1.24446840e+03  1.24445609e+03  2.89e-07 4.28e-08  3.74e-09  11472s\n",
      "[2020-12-21 16:08:43] DEBUG    124   1.24446785e+03  1.24445615e+03  2.74e-07 4.08e-08  3.56e-09  11562s\n",
      "[2020-12-21 16:10:02] DEBUG    125   1.24446700e+03  1.24445622e+03  2.52e-07 3.80e-08  3.28e-09  11641s\n",
      "[2020-12-21 16:11:34] DEBUG    126   1.24446654e+03  1.24445629e+03  2.40e-07 3.54e-08  3.12e-09  11732s\n",
      "[2020-12-21 16:13:03] DEBUG    127   1.24446624e+03  1.24445638e+03  2.33e-07 3.25e-08  3.00e-09  11822s\n",
      "[2020-12-21 16:14:31] DEBUG    128   1.24446528e+03  1.24445645e+03  2.08e-07 3.01e-08  2.69e-09  11910s\n",
      "[2020-12-21 16:16:01] DEBUG    129   1.24446493e+03  1.24445654e+03  1.99e-07 2.69e-08  2.55e-09  11999s\n",
      "[2020-12-21 16:17:33] DEBUG    130   1.24446447e+03  1.24445655e+03  1.87e-07 2.64e-08  2.41e-09  12092s\n",
      "[2020-12-21 16:19:15] DEBUG    131   1.24446402e+03  1.24445670e+03  1.75e-07 2.11e-08  2.23e-09  12194s\n",
      "[2020-12-21 16:20:46] DEBUG    132   1.24446328e+03  1.24445676e+03  1.55e-07 1.90e-08  1.98e-09  12284s\n",
      "[2020-12-21 16:22:07] DEBUG    133   1.24446289e+03  1.24445679e+03  1.45e-07 1.88e-08  1.85e-09  12366s\n",
      "[2020-12-21 16:23:41] DEBUG    134   1.24446250e+03  1.24445687e+03  1.35e-07 1.58e-08  1.71e-09  12460s\n",
      "[2020-12-21 16:25:13] DEBUG    135   1.24446209e+03  1.24445691e+03  1.25e-07 1.43e-08  1.57e-09  12552s\n",
      "[2020-12-21 16:26:31] DEBUG    136   1.24446188e+03  1.24445693e+03  1.19e-07 1.36e-08  1.51e-09  12630s\n",
      "[2020-12-21 16:28:21] DEBUG    137   1.24446143e+03  1.24445696e+03  1.08e-07 1.17e-08  1.36e-09  12739s\n",
      "[2020-12-21 16:30:01] DEBUG    138   1.24446097e+03  1.24445699e+03  9.57e-08 1.09e-08  1.21e-09  12839s\n",
      "[2020-12-21 16:31:37] DEBUG    139   1.24446083e+03  1.24445702e+03  9.23e-08 9.68e-09  1.16e-09  12935s\n",
      "[2020-12-21 16:33:23] DEBUG    140   1.24446052e+03  1.24445706e+03  8.41e-08 9.22e-09  1.05e-09  13041s\n",
      "[2020-12-21 16:35:06] DEBUG    141   1.24446041e+03  1.24445708e+03  8.12e-08 8.73e-09  1.01e-09  13144s\n",
      "[2020-12-21 16:36:53] DEBUG    142   1.24446034e+03  1.24445709e+03  7.95e-08 8.22e-09  9.89e-10  13251s\n",
      "[2020-12-21 16:38:45] DEBUG    143   1.24446001e+03  1.24445709e+03  7.10e-08 7.96e-09  8.88e-10  13364s\n",
      "[2020-12-21 16:40:32] DEBUG    144   1.24445978e+03  1.24445711e+03  6.51e-08 7.06e-08  8.13e-10  13470s\n",
      "[2020-12-21 16:42:26] DEBUG    145   1.24445946e+03  1.24445713e+03  1.05e-07 6.45e-08  7.11e-10  13584s\n",
      "[2020-12-21 16:44:03] DEBUG    146   1.24445946e+03  1.24445713e+03  2.38e-07 6.44e-08  7.10e-10  13682s\n",
      "[2020-12-21 16:45:44] DEBUG    147   1.24445933e+03  1.24445713e+03  2.23e-07 2.71e-07  6.70e-10  13783s\n",
      "[2020-12-21 16:47:33] DEBUG    148   1.24445924e+03  1.24445713e+03  2.14e-07 3.37e-07  6.42e-10  13892s\n",
      "[2020-12-21 16:49:36] DEBUG    149   1.24445915e+03  1.24445713e+03  2.04e-07 5.73e-06  6.15e-10  14015s\n",
      "[2020-12-21 16:51:51] DEBUG    150   1.24445912e+03  1.24445715e+03  2.00e-07 6.83e-06  6.00e-10  14149s\n",
      "[2020-12-21 16:53:56] DEBUG    151   1.24445912e+03  1.24445715e+03  2.84e-07 6.83e-06  6.00e-10  14275s\n",
      "[2020-12-21 16:56:04] DEBUG    152   1.24445911e+03  1.24445715e+03  4.02e-07 6.82e-06  5.97e-10  14403s\n",
      "[2020-12-21 16:58:25] DEBUG    153   1.24445900e+03  1.24445716e+03  3.78e-07 6.11e-06  5.60e-10  14544s\n",
      "[2020-12-21 17:00:26] DEBUG    154   1.24445889e+03  1.24445717e+03  3.54e-07 5.59e-06  5.24e-10  14665s\n",
      "[2020-12-21 17:02:31] DEBUG    155   1.24445889e+03  1.24445717e+03  3.54e-07 5.59e-06  5.24e-10  14790s\n",
      "[2020-12-21 17:04:29] DEBUG    156   1.24445883e+03  1.24445717e+03  3.40e-07 5.44e-06  5.03e-10  14908s\n",
      "[2020-12-21 17:06:23] DEBUG    157   1.24445883e+03  1.24445717e+03  3.40e-07 5.44e-06  5.03e-10  15022s\n",
      "[2020-12-21 17:08:14] DEBUG    158   1.24445883e+03  1.24445717e+03  3.40e-07 5.44e-06  5.03e-10  15132s\n",
      "[2020-12-21 17:10:05] DEBUG    159   1.24445877e+03  1.24445718e+03  3.26e-07 5.05e-06  4.83e-10  15244s\n",
      "[2020-12-21 17:11:59] DEBUG    160   1.24445877e+03  1.24445718e+03  3.26e-07 5.04e-06  4.81e-10  15357s\n",
      "[2020-12-21 17:13:50] DEBUG    161   1.24445877e+03  1.24445718e+03  3.35e-07 5.04e-06  4.81e-10  15469s\n",
      "[2020-12-21 17:15:48] DEBUG    162   1.24445877e+03  1.24445718e+03  4.40e-07 6.94e-06  4.81e-10  15586s\n",
      "[2020-12-21 17:17:42] DEBUG    163   1.24445876e+03  1.24445718e+03  4.40e-07 6.93e-06  4.81e-10  15701s\n",
      "[2020-12-21 17:19:36] DEBUG    164   1.24445876e+03  1.24445718e+03  4.91e-07 6.92e-06  4.80e-10  15815s\n",
      "[2020-12-21 17:19:37] DEBUG    Barrier solved model in 164 iterations and 15814.84 seconds\n",
      "[2020-12-21 17:19:37] DEBUG    Optimal objective 1.24445978e+03\n",
      "[2020-12-21 17:19:42] DEBUG    Changed value of parameter LogFile to\n",
      "[2020-12-21 17:19:42] DEBUG    Prev: /scratch/156831649_8889.tmpdir/tmp6zhic4at.log  Default:\n",
      "[2020-12-21 17:34:50] INFO     Backend: solver finished running. Time since start of model run: 5:27:38.904173\n",
      "[2020-12-21 17:35:02] INFO     Backend: loaded results\n",
      "[2020-12-21 17:37:09] INFO     Backend: generated solution array. Time since start of model run: 5:29:58.396186\n"
     ]
    },
    {
     "ename": "ValueError",
     "evalue": "Error evaluating Param value (energy_cap_max_time_varying[out_3,ESP_9::hp::heat,2016-01-01 00:00:00]):\n\tThe Param value is currently set to an invalid value.  This is\n\ttypically from a scalar Param or mutable Indexed Param without\n\tan initial or default value.",
     "output_type": "error",
     "traceback": [
      "\u001b[0;31m---------------------------------------------------------------------------\u001b[0m",
      "\u001b[0;31mValueError\u001b[0m                                Traceback (most recent call last)",
      "\u001b[0;32m<ipython-input-8-b4055f0469db>\u001b[0m in \u001b[0;36m<module>\u001b[0;34m\u001b[0m\n\u001b[0;32m----> 1\u001b[0;31m \u001b[0mmodel1\u001b[0m \u001b[0;34m=\u001b[0m \u001b[0mmodel\u001b[0m\u001b[0;34m.\u001b[0m\u001b[0mbackend\u001b[0m\u001b[0;34m.\u001b[0m\u001b[0mrerun\u001b[0m\u001b[0;34m(\u001b[0m\u001b[0;34m)\u001b[0m\u001b[0;34m\u001b[0m\u001b[0;34m\u001b[0m\u001b[0m\n\u001b[0m",
      "\u001b[0;32m/cluster/work/cpesm/brynmorp/calliope/calliope/backend/pyomo/interface.py\u001b[0m in \u001b[0;36mrerun\u001b[0;34m(self, *args, **kwargs)\u001b[0m\n\u001b[1;32m    293\u001b[0m \u001b[0;34m\u001b[0m\u001b[0m\n\u001b[1;32m    294\u001b[0m     \u001b[0;32mdef\u001b[0m \u001b[0mrerun\u001b[0m\u001b[0;34m(\u001b[0m\u001b[0mself\u001b[0m\u001b[0;34m,\u001b[0m \u001b[0;34m*\u001b[0m\u001b[0margs\u001b[0m\u001b[0;34m,\u001b[0m \u001b[0;34m**\u001b[0m\u001b[0mkwargs\u001b[0m\u001b[0;34m)\u001b[0m\u001b[0;34m:\u001b[0m\u001b[0;34m\u001b[0m\u001b[0;34m\u001b[0m\u001b[0m\n\u001b[0;32m--> 295\u001b[0;31m         \u001b[0;32mreturn\u001b[0m \u001b[0mrerun_pyomo_model\u001b[0m\u001b[0;34m(\u001b[0m\u001b[0mself\u001b[0m\u001b[0;34m.\u001b[0m\u001b[0m_model_data\u001b[0m\u001b[0;34m,\u001b[0m \u001b[0mself\u001b[0m\u001b[0;34m.\u001b[0m\u001b[0m_backend\u001b[0m\u001b[0;34m,\u001b[0m \u001b[0;34m*\u001b[0m\u001b[0margs\u001b[0m\u001b[0;34m,\u001b[0m \u001b[0;34m**\u001b[0m\u001b[0mkwargs\u001b[0m\u001b[0;34m)\u001b[0m\u001b[0;34m\u001b[0m\u001b[0;34m\u001b[0m\u001b[0m\n\u001b[0m\u001b[1;32m    296\u001b[0m \u001b[0;34m\u001b[0m\u001b[0m\n\u001b[1;32m    297\u001b[0m     \u001b[0mrerun\u001b[0m\u001b[0;34m.\u001b[0m\u001b[0m__doc__\u001b[0m \u001b[0;34m=\u001b[0m \u001b[0mrerun_pyomo_model\u001b[0m\u001b[0;34m.\u001b[0m\u001b[0m__doc__\u001b[0m\u001b[0;34m\u001b[0m\u001b[0;34m\u001b[0m\u001b[0m\n",
      "\u001b[0;32m/cluster/work/cpesm/brynmorp/calliope/calliope/backend/pyomo/interface.py\u001b[0m in \u001b[0;36mrerun_pyomo_model\u001b[0;34m(model_data, backend_model)\u001b[0m\n\u001b[1;32m    129\u001b[0m     )\n\u001b[1;32m    130\u001b[0m \u001b[0;34m\u001b[0m\u001b[0m\n\u001b[0;32m--> 131\u001b[0;31m     \u001b[0minputs\u001b[0m \u001b[0;34m=\u001b[0m \u001b[0maccess_pyomo_model_inputs\u001b[0m\u001b[0;34m(\u001b[0m\u001b[0mbackend_model\u001b[0m\u001b[0;34m)\u001b[0m\u001b[0;34m\u001b[0m\u001b[0;34m\u001b[0m\u001b[0m\n\u001b[0m\u001b[1;32m    132\u001b[0m \u001b[0;34m\u001b[0m\u001b[0m\n\u001b[1;32m    133\u001b[0m     \u001b[0;31m# Add additional post-processed result variables to results\u001b[0m\u001b[0;34m\u001b[0m\u001b[0;34m\u001b[0m\u001b[0;34m\u001b[0m\u001b[0m\n",
      "\u001b[0;32m/cluster/work/cpesm/brynmorp/calliope/calliope/backend/pyomo/interface.py\u001b[0m in \u001b[0;36maccess_pyomo_model_inputs\u001b[0;34m(backend_model)\u001b[0m\n\u001b[1;32m     27\u001b[0m     all_params = {\n\u001b[1;32m     28\u001b[0m         \u001b[0mi\u001b[0m\u001b[0;34m.\u001b[0m\u001b[0mname\u001b[0m\u001b[0;34m:\u001b[0m \u001b[0mget_var\u001b[0m\u001b[0;34m(\u001b[0m\u001b[0mbackend_model\u001b[0m\u001b[0;34m,\u001b[0m \u001b[0mi\u001b[0m\u001b[0;34m.\u001b[0m\u001b[0mname\u001b[0m\u001b[0;34m,\u001b[0m \u001b[0msparse\u001b[0m\u001b[0;34m=\u001b[0m\u001b[0;32mTrue\u001b[0m\u001b[0;34m)\u001b[0m\u001b[0;34m\u001b[0m\u001b[0;34m\u001b[0m\u001b[0m\n\u001b[0;32m---> 29\u001b[0;31m         \u001b[0;32mfor\u001b[0m \u001b[0mi\u001b[0m \u001b[0;32min\u001b[0m \u001b[0mbackend_model\u001b[0m\u001b[0;34m.\u001b[0m\u001b[0mcomponent_objects\u001b[0m\u001b[0;34m(\u001b[0m\u001b[0;34m)\u001b[0m\u001b[0;34m\u001b[0m\u001b[0;34m\u001b[0m\u001b[0m\n\u001b[0m\u001b[1;32m     30\u001b[0m         \u001b[0;32mif\u001b[0m \u001b[0misinstance\u001b[0m\u001b[0;34m(\u001b[0m\u001b[0mi\u001b[0m\u001b[0;34m,\u001b[0m \u001b[0mpo\u001b[0m\u001b[0;34m.\u001b[0m\u001b[0mbase\u001b[0m\u001b[0;34m.\u001b[0m\u001b[0mparam\u001b[0m\u001b[0;34m.\u001b[0m\u001b[0mIndexedParam\u001b[0m\u001b[0;34m)\u001b[0m\u001b[0;34m\u001b[0m\u001b[0;34m\u001b[0m\u001b[0m\n\u001b[1;32m     31\u001b[0m     }\n",
      "\u001b[0;32m/cluster/work/cpesm/brynmorp/calliope/calliope/backend/pyomo/interface.py\u001b[0m in \u001b[0;36m<dictcomp>\u001b[0;34m(.0)\u001b[0m\n\u001b[1;32m     28\u001b[0m         \u001b[0mi\u001b[0m\u001b[0;34m.\u001b[0m\u001b[0mname\u001b[0m\u001b[0;34m:\u001b[0m \u001b[0mget_var\u001b[0m\u001b[0;34m(\u001b[0m\u001b[0mbackend_model\u001b[0m\u001b[0;34m,\u001b[0m \u001b[0mi\u001b[0m\u001b[0;34m.\u001b[0m\u001b[0mname\u001b[0m\u001b[0;34m,\u001b[0m \u001b[0msparse\u001b[0m\u001b[0;34m=\u001b[0m\u001b[0;32mTrue\u001b[0m\u001b[0;34m)\u001b[0m\u001b[0;34m\u001b[0m\u001b[0;34m\u001b[0m\u001b[0m\n\u001b[1;32m     29\u001b[0m         \u001b[0;32mfor\u001b[0m \u001b[0mi\u001b[0m \u001b[0;32min\u001b[0m \u001b[0mbackend_model\u001b[0m\u001b[0;34m.\u001b[0m\u001b[0mcomponent_objects\u001b[0m\u001b[0;34m(\u001b[0m\u001b[0;34m)\u001b[0m\u001b[0;34m\u001b[0m\u001b[0;34m\u001b[0m\u001b[0m\n\u001b[0;32m---> 30\u001b[0;31m         \u001b[0;32mif\u001b[0m \u001b[0misinstance\u001b[0m\u001b[0;34m(\u001b[0m\u001b[0mi\u001b[0m\u001b[0;34m,\u001b[0m \u001b[0mpo\u001b[0m\u001b[0;34m.\u001b[0m\u001b[0mbase\u001b[0m\u001b[0;34m.\u001b[0m\u001b[0mparam\u001b[0m\u001b[0;34m.\u001b[0m\u001b[0mIndexedParam\u001b[0m\u001b[0;34m)\u001b[0m\u001b[0;34m\u001b[0m\u001b[0;34m\u001b[0m\u001b[0m\n\u001b[0m\u001b[1;32m     31\u001b[0m     }\n\u001b[1;32m     32\u001b[0m \u001b[0;34m\u001b[0m\u001b[0m\n",
      "\u001b[0;32m/cluster/work/cpesm/brynmorp/calliope/calliope/backend/pyomo/util.py\u001b[0m in \u001b[0;36mget_var\u001b[0;34m(backend_model, var, dims, sparse)\u001b[0m\n\u001b[1;32m    158\u001b[0m         \u001b[0;32melse\u001b[0m\u001b[0;34m:\u001b[0m\u001b[0;34m\u001b[0m\u001b[0;34m\u001b[0m\u001b[0m\n\u001b[1;32m    159\u001b[0m             \u001b[0mdims\u001b[0m \u001b[0;34m=\u001b[0m \u001b[0;34m[\u001b[0m\u001b[0mvar_container\u001b[0m\u001b[0;34m.\u001b[0m\u001b[0mindex_set\u001b[0m\u001b[0;34m(\u001b[0m\u001b[0;34m)\u001b[0m\u001b[0;34m.\u001b[0m\u001b[0mname\u001b[0m\u001b[0;34m]\u001b[0m\u001b[0;34m\u001b[0m\u001b[0;34m\u001b[0m\u001b[0m\n\u001b[0;32m--> 160\u001b[0;31m \u001b[0;34m\u001b[0m\u001b[0m\n\u001b[0m\u001b[1;32m    161\u001b[0m     \u001b[0;32mif\u001b[0m \u001b[0msparse\u001b[0m \u001b[0;32mand\u001b[0m \u001b[0;32mnot\u001b[0m \u001b[0mexpr\u001b[0m\u001b[0;34m:\u001b[0m\u001b[0;34m\u001b[0m\u001b[0;34m\u001b[0m\u001b[0m\n\u001b[1;32m    162\u001b[0m         result = pd.DataFrame.from_dict(\n",
      "\u001b[0;32m/cluster/work/apatt/brynmorp/miniconda/envs/eurocalliope/lib/python3.7/site-packages/pyomo/core/base/param.py\u001b[0m in \u001b[0;36mextract_values_sparse\u001b[0;34m(self)\u001b[0m\n\u001b[1;32m    366\u001b[0m             \u001b[0mans\u001b[0m \u001b[0;34m=\u001b[0m \u001b[0;34m{\u001b[0m\u001b[0;34m}\u001b[0m\u001b[0;34m\u001b[0m\u001b[0;34m\u001b[0m\u001b[0m\n\u001b[1;32m    367\u001b[0m             \u001b[0;32mfor\u001b[0m \u001b[0mkey\u001b[0m\u001b[0;34m,\u001b[0m \u001b[0mparam_value\u001b[0m \u001b[0;32min\u001b[0m \u001b[0mself\u001b[0m\u001b[0;34m.\u001b[0m\u001b[0msparse_iteritems\u001b[0m\u001b[0;34m(\u001b[0m\u001b[0;34m)\u001b[0m\u001b[0;34m:\u001b[0m\u001b[0;34m\u001b[0m\u001b[0;34m\u001b[0m\u001b[0m\n\u001b[0;32m--> 368\u001b[0;31m                 \u001b[0mans\u001b[0m\u001b[0;34m[\u001b[0m\u001b[0mkey\u001b[0m\u001b[0;34m]\u001b[0m \u001b[0;34m=\u001b[0m \u001b[0mparam_value\u001b[0m\u001b[0;34m(\u001b[0m\u001b[0;34m)\u001b[0m\u001b[0;34m\u001b[0m\u001b[0;34m\u001b[0m\u001b[0m\n\u001b[0m\u001b[1;32m    369\u001b[0m             \u001b[0;32mreturn\u001b[0m \u001b[0mans\u001b[0m\u001b[0;34m\u001b[0m\u001b[0;34m\u001b[0m\u001b[0m\n\u001b[1;32m    370\u001b[0m         \u001b[0;32melif\u001b[0m \u001b[0;32mnot\u001b[0m \u001b[0mself\u001b[0m\u001b[0;34m.\u001b[0m\u001b[0mis_indexed\u001b[0m\u001b[0;34m(\u001b[0m\u001b[0;34m)\u001b[0m\u001b[0;34m:\u001b[0m\u001b[0;34m\u001b[0m\u001b[0;34m\u001b[0m\u001b[0m\n",
      "\u001b[0;32m/cluster/work/apatt/brynmorp/miniconda/envs/eurocalliope/lib/python3.7/site-packages/pyomo/core/base/param.py\u001b[0m in \u001b[0;36m__call__\u001b[0;34m(self, exception)\u001b[0m\n\u001b[1;32m    153\u001b[0m                     \u001b[0;34m\"from a scalar Param or mutable Indexed Param without\\n\"\u001b[0m\u001b[0;34m\u001b[0m\u001b[0;34m\u001b[0m\u001b[0m\n\u001b[1;32m    154\u001b[0m                     \u001b[0;34m\"\\tan initial or default value.\"\u001b[0m\u001b[0;34m\u001b[0m\u001b[0;34m\u001b[0m\u001b[0m\n\u001b[0;32m--> 155\u001b[0;31m                     % ( self.name, ))\n\u001b[0m\u001b[1;32m    156\u001b[0m             \u001b[0;32melse\u001b[0m\u001b[0;34m:\u001b[0m\u001b[0;34m\u001b[0m\u001b[0;34m\u001b[0m\u001b[0m\n\u001b[1;32m    157\u001b[0m                 \u001b[0;32mreturn\u001b[0m \u001b[0;32mNone\u001b[0m\u001b[0;34m\u001b[0m\u001b[0;34m\u001b[0m\u001b[0m\n",
      "\u001b[0;31mValueError\u001b[0m: Error evaluating Param value (energy_cap_max_time_varying[out_3,ESP_9::hp::heat,2016-01-01 00:00:00]):\n\tThe Param value is currently set to an invalid value.  This is\n\ttypically from a scalar Param or mutable Indexed Param without\n\tan initial or default value."
     ]
    }
   ],
   "source": [
    "model1 = model.backend.rerun()"
   ]
  },
  {
   "cell_type": "code",
   "execution_count": 40,
   "metadata": {},
   "outputs": [],
   "source": [
    "from calliope.backend.pyomo.util import get_var"
   ]
  },
  {
   "cell_type": "code",
   "execution_count": 18,
   "metadata": {},
   "outputs": [
    {
     "name": "stdout",
     "output_type": "stream",
     "text": [
      "WARNING: DEPRECATED: SetProduct.set_tuple is deprecated.  Use\n",
      "    SetProduct.subsets() to get the operator arguments.  (deprecated in 5.7)\n",
      "    (called from <ipython-input-18-d070bba85ae0>:1)\n",
      "[2020-12-21 19:50:49] WARNING  DEPRECATED: SetProduct.set_tuple is deprecated.  Use\n",
      "SetProduct.subsets() to get the operator arguments.  (deprecated in\n",
      "5.7)\n",
      "(called from <ipython-input-18-d070bba85ae0>:1)\n"
     ]
    },
    {
     "data": {
      "text/plain": [
       "['carrier_tiers', 'loc_tech_carriers_conversion_plus', 'timesteps']"
      ]
     },
     "execution_count": 18,
     "metadata": {},
     "output_type": "execute_result"
    }
   ],
   "source": [
    "[i.name for i in model._backend_model.energy_cap_max_time_varying.index_set().set_tuple]"
   ]
  },
  {
   "cell_type": "code",
   "execution_count": 33,
   "metadata": {},
   "outputs": [
    {
     "data": {
      "text/plain": [
       "True"
      ]
     },
     "execution_count": 33,
     "metadata": {},
     "output_type": "execute_result"
    }
   ],
   "source": [
    "model._backend_model.energy_cap_max_time_varying.name in model._model_data.data_vars.keys()"
   ]
  },
  {
   "cell_type": "code",
   "execution_count": null,
   "metadata": {},
   "outputs": [],
   "source": []
  }
 ],
 "metadata": {
  "kernelspec": {
   "display_name": "Python [conda env:eurocalliope]",
   "language": "python",
   "name": "conda-env-eurocalliope-py"
  },
  "language_info": {
   "codemirror_mode": {
    "name": "ipython",
    "version": 3
   },
   "file_extension": ".py",
   "mimetype": "text/x-python",
   "name": "python",
   "nbconvert_exporter": "python",
   "pygments_lexer": "ipython3",
   "version": "3.7.9"
  }
 },
 "nbformat": 4,
 "nbformat_minor": 4
}
