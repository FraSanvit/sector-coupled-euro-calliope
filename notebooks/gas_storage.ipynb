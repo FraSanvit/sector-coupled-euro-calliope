{
 "cells": [
  {
   "cell_type": "code",
   "execution_count": 1,
   "metadata": {},
   "outputs": [],
   "source": [
    "import os\n",
    "os.chdir('..')"
   ]
  },
  {
   "cell_type": "code",
   "execution_count": 2,
   "metadata": {},
   "outputs": [],
   "source": [
    "import pandas as pd\n",
    "import numpy as np\n",
    "import geopandas as gpd\n",
    "\n",
    "from src.construct import util"
   ]
  },
  {
   "cell_type": "code",
   "execution_count": 4,
   "metadata": {},
   "outputs": [],
   "source": [
    "data_dir = \"data/automatic/gas_storage.xlsx\"\n",
    "gas_storage_cap = pd.read_excel(data_dir, sheet_name=\"WGV by type TWh\", skiprows=3, index_col=0)"
   ]
  },
  {
   "cell_type": "code",
   "execution_count": 5,
   "metadata": {},
   "outputs": [],
   "source": [
    "all_sites = pd.read_excel(data_dir, sheet_name=\"Storage DB \", skiprows=1, index_col=0)"
   ]
  },
  {
   "cell_type": "code",
   "execution_count": 6,
   "metadata": {},
   "outputs": [],
   "source": [
    "daily_energy_cap = (\n",
    "    all_sites\n",
    "    .loc[(all_sites.index == 'Serbia') | (all_sites[\"in EU28 SUM\"] == \"y\"), [\"Withdrawal\\ntechnical\\nGWh/day\", \"Injection\\ntechnical\\nGWh/day\"]]\n",
    "    .where(lambda x: x > 0)\n",
    "    .mean(axis=1)\n",
    ")\n",
    "hourly_energy_cap = (daily_energy_cap / 24).groupby(level=0).sum()"
   ]
  },
  {
   "cell_type": "code",
   "execution_count": 15,
   "metadata": {},
   "outputs": [],
   "source": [
    "gas_storage_data = pd.concat(\n",
    "    [hourly_energy_cap * 1e3, # Scale GW to MW\n",
    "     gas_storage_cap.reindex(hourly_energy_cap.index).Total * 1e6],  # scale TWh to MWh\n",
    "    keys=['energy_cap_gas_storage_mw', 'storage_cap_gas_storage_mwh'],\n",
    "    axis=1\n",
    ").index.map(util.get_alpha3).rename('country_code')"
   ]
  },
  {
   "cell_type": "code",
   "execution_count": 16,
   "metadata": {},
   "outputs": [
    {
     "data": {
      "text/plain": [
       "Index(['AUT', 'BEL', 'BGR', 'HRV', 'CZE', 'DNK', 'FRA', 'DEU', 'GRC', 'HUN',\n",
       "       'ITA', 'LVA', 'NLD', 'POL', 'PRT', 'ROU', 'SRB', 'SVK', 'ESP', 'SWE',\n",
       "       'GBR'],\n",
       "      dtype='object', name='country_code')"
      ]
     },
     "execution_count": 16,
     "metadata": {},
     "output_type": "execute_result"
    }
   ],
   "source": [
    "gas_storage_data"
   ]
  },
  {
   "cell_type": "code",
   "execution_count": 106,
   "metadata": {},
   "outputs": [
    {
     "name": "stderr",
     "output_type": "stream",
     "text": [
      "/Users/brynmorp/miniconda3/envs/euro-spores/lib/python3.7/site-packages/ipykernel/ipkernel.py:287: DeprecationWarning:`should_run_async` will not call `transform_cell` automatically in the future. Please pass the result to `transformed_cell` argument and any exception that happen during thetransform in `preprocessing_exc_tuple` in IPython 7.17 and above.\n"
     ]
    }
   ],
   "source": [
    "units = gpd.read_file('build/units.geojson')"
   ]
  },
  {
   "cell_type": "code",
   "execution_count": 107,
   "metadata": {},
   "outputs": [
    {
     "name": "stderr",
     "output_type": "stream",
     "text": [
      "/Users/brynmorp/miniconda3/envs/euro-spores/lib/python3.7/site-packages/ipykernel/ipkernel.py:287: DeprecationWarning:`should_run_async` will not call `transform_cell` automatically in the future. Please pass the result to `transformed_cell` argument and any exception that happen during thetransform in `preprocessing_exc_tuple` in IPython 7.17 and above.\n"
     ]
    }
   ],
   "source": [
    "gas_data = pd.concat([gas_storage_cap.reindex(hourly_energy_cap.index).Total, hourly_energy_cap], axis=1, keys=['storage_cap', 'energy_cap'])"
   ]
  },
  {
   "cell_type": "code",
   "execution_count": 124,
   "metadata": {},
   "outputs": [
    {
     "name": "stderr",
     "output_type": "stream",
     "text": [
      "/Users/brynmorp/miniconda3/envs/euro-spores/lib/python3.7/site-packages/ipykernel/ipkernel.py:287: DeprecationWarning:`should_run_async` will not call `transform_cell` automatically in the future. Please pass the result to `transformed_cell` argument and any exception that happen during thetransform in `preprocessing_exc_tuple` in IPython 7.17 and above.\n"
     ]
    },
    {
     "data": {
      "text/html": [
       "<div>\n",
       "<style scoped>\n",
       "    .dataframe tbody tr th:only-of-type {\n",
       "        vertical-align: middle;\n",
       "    }\n",
       "\n",
       "    .dataframe tbody tr th {\n",
       "        vertical-align: top;\n",
       "    }\n",
       "\n",
       "    .dataframe thead th {\n",
       "        text-align: right;\n",
       "    }\n",
       "</style>\n",
       "<table border=\"1\" class=\"dataframe\">\n",
       "  <thead>\n",
       "    <tr style=\"text-align: right;\">\n",
       "      <th></th>\n",
       "      <th>storage_cap</th>\n",
       "      <th>energy_cap</th>\n",
       "    </tr>\n",
       "    <tr>\n",
       "      <th>id</th>\n",
       "      <th></th>\n",
       "      <th></th>\n",
       "    </tr>\n",
       "  </thead>\n",
       "  <tbody>\n",
       "    <tr>\n",
       "      <th>ALB_1</th>\n",
       "      <td>NaN</td>\n",
       "      <td>NaN</td>\n",
       "    </tr>\n",
       "    <tr>\n",
       "      <th>AUT_1</th>\n",
       "      <td>30.73950</td>\n",
       "      <td>13.073122</td>\n",
       "    </tr>\n",
       "    <tr>\n",
       "      <th>AUT_2</th>\n",
       "      <td>30.73950</td>\n",
       "      <td>13.073122</td>\n",
       "    </tr>\n",
       "    <tr>\n",
       "      <th>AUT_3</th>\n",
       "      <td>30.73950</td>\n",
       "      <td>13.073122</td>\n",
       "    </tr>\n",
       "    <tr>\n",
       "      <th>BEL_1</th>\n",
       "      <td>9.00130</td>\n",
       "      <td>5.367500</td>\n",
       "    </tr>\n",
       "    <tr>\n",
       "      <th>...</th>\n",
       "      <td>...</td>\n",
       "      <td>...</td>\n",
       "    </tr>\n",
       "    <tr>\n",
       "      <th>SVN_1</th>\n",
       "      <td>NaN</td>\n",
       "      <td>NaN</td>\n",
       "    </tr>\n",
       "    <tr>\n",
       "      <th>SWE_1</th>\n",
       "      <td>0.02425</td>\n",
       "      <td>0.082500</td>\n",
       "    </tr>\n",
       "    <tr>\n",
       "      <th>SWE_2</th>\n",
       "      <td>0.02425</td>\n",
       "      <td>0.082500</td>\n",
       "    </tr>\n",
       "    <tr>\n",
       "      <th>SWE_3</th>\n",
       "      <td>0.02425</td>\n",
       "      <td>0.082500</td>\n",
       "    </tr>\n",
       "    <tr>\n",
       "      <th>SWE_4</th>\n",
       "      <td>0.02425</td>\n",
       "      <td>0.082500</td>\n",
       "    </tr>\n",
       "  </tbody>\n",
       "</table>\n",
       "<p>98 rows × 2 columns</p>\n",
       "</div>"
      ],
      "text/plain": [
       "       storage_cap  energy_cap\n",
       "id                            \n",
       "ALB_1          NaN         NaN\n",
       "AUT_1     30.73950   13.073122\n",
       "AUT_2     30.73950   13.073122\n",
       "AUT_3     30.73950   13.073122\n",
       "BEL_1      9.00130    5.367500\n",
       "...            ...         ...\n",
       "SVN_1          NaN         NaN\n",
       "SWE_1      0.02425    0.082500\n",
       "SWE_2      0.02425    0.082500\n",
       "SWE_3      0.02425    0.082500\n",
       "SWE_4      0.02425    0.082500\n",
       "\n",
       "[98 rows x 2 columns]"
      ]
     },
     "execution_count": 124,
     "metadata": {},
     "output_type": "execute_result"
    }
   ],
   "source": [
    "gas_data.index = gas_data.index.map(util.get_alpha3).rename(\"country_code\")\n",
    "bar = units.set_index([\"id\", \"country_code\"])\n",
    "foo = gas_data.reindex(bar.index, level=\"country_code\")#.set_index(units.set_index([\"id\", \"country_code\"]).index)\n",
    "foo.div(foo.count(level='country_code')).droplevel('country_code')"
   ]
  }
 ],
 "metadata": {
  "kernelspec": {
   "display_name": "Python [conda env:euro-spores]",
   "language": "python",
   "name": "conda-env-euro-spores-py"
  },
  "language_info": {
   "codemirror_mode": {
    "name": "ipython",
    "version": 3
   },
   "file_extension": ".py",
   "mimetype": "text/x-python",
   "name": "python",
   "nbconvert_exporter": "python",
   "pygments_lexer": "ipython3",
   "version": "3.7.6"
  }
 },
 "nbformat": 4,
 "nbformat_minor": 4
}
