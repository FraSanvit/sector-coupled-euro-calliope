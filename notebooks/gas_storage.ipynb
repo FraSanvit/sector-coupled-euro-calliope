{
 "cells": [
  {
   "cell_type": "code",
   "execution_count": 1,
   "metadata": {},
   "outputs": [],
   "source": [
    "import os\n",
    "os.chdir('..')"
   ]
  },
  {
   "cell_type": "code",
   "execution_count": 2,
   "metadata": {},
   "outputs": [],
   "source": [
    "import pandas as pd\n",
    "import numpy as np\n",
    "import geopandas as gpd\n",
    "\n",
    "from src.construct import util"
   ]
  },
  {
   "cell_type": "code",
   "execution_count": 4,
   "metadata": {},
   "outputs": [],
   "source": [
    "data_dir = \"data/automatic/gas_storage.xlsx\"\n",
    "gas_storage_cap = pd.read_excel(data_dir, sheet_name=\"WGV by type TWh\", skiprows=3, index_col=0)"
   ]
  },
  {
   "cell_type": "code",
   "execution_count": 5,
   "metadata": {},
   "outputs": [],
   "source": [
    "all_sites = pd.read_excel(data_dir, sheet_name=\"Storage DB \", skiprows=1, index_col=0)"
   ]
  },
  {
   "cell_type": "code",
   "execution_count": 6,
   "metadata": {},
   "outputs": [],
   "source": [
    "daily_energy_cap = (\n",
    "    all_sites\n",
    "    .loc[(all_sites.index == 'Serbia') | (all_sites[\"in EU28 SUM\"] == \"y\"), [\"Withdrawal\\ntechnical\\nGWh/day\", \"Injection\\ntechnical\\nGWh/day\"]]\n",
    "    .where(lambda x: x > 0)\n",
    "    .mean(axis=1)\n",
    ")\n",
    "hourly_energy_cap = (daily_energy_cap / 24).groupby(level=0).sum()"
   ]
  },
  {
   "cell_type": "code",
   "execution_count": 17,
   "metadata": {},
   "outputs": [],
   "source": [
    "gas_storage_data = pd.concat(\n",
    "    [hourly_energy_cap * 1e3, # Scale GW to MW\n",
    "     gas_storage_cap.reindex(hourly_energy_cap.index).Total * 1e6],  # scale TWh to MWh\n",
    "    keys=['energy_cap_gas_storage_mw', 'storage_cap_gas_storage_mwh'],\n",
    "    axis=1\n",
    ")\n",
    "gas_storage_data.index = gas_storage_data.index.map(util.get_alpha3).rename('country_code')"
   ]
  },
  {
   "cell_type": "code",
   "execution_count": 18,
   "metadata": {},
   "outputs": [
    {
     "data": {
      "text/html": [
       "<div>\n",
       "<style scoped>\n",
       "    .dataframe tbody tr th:only-of-type {\n",
       "        vertical-align: middle;\n",
       "    }\n",
       "\n",
       "    .dataframe tbody tr th {\n",
       "        vertical-align: top;\n",
       "    }\n",
       "\n",
       "    .dataframe thead th {\n",
       "        text-align: right;\n",
       "    }\n",
       "</style>\n",
       "<table border=\"1\" class=\"dataframe\">\n",
       "  <thead>\n",
       "    <tr style=\"text-align: right;\">\n",
       "      <th></th>\n",
       "      <th>energy_cap_gas_storage_mw</th>\n",
       "      <th>storage_cap_gas_storage_mwh</th>\n",
       "    </tr>\n",
       "    <tr>\n",
       "      <th>country_code</th>\n",
       "      <th></th>\n",
       "      <th></th>\n",
       "    </tr>\n",
       "  </thead>\n",
       "  <tbody>\n",
       "    <tr>\n",
       "      <th>AUT</th>\n",
       "      <td>39219.364583</td>\n",
       "      <td>9.221850e+07</td>\n",
       "    </tr>\n",
       "    <tr>\n",
       "      <th>BEL</th>\n",
       "      <td>5367.500000</td>\n",
       "      <td>9.001300e+06</td>\n",
       "    </tr>\n",
       "    <tr>\n",
       "      <th>BGR</th>\n",
       "      <td>5747.083333</td>\n",
       "      <td>1.769000e+07</td>\n",
       "    </tr>\n",
       "    <tr>\n",
       "      <th>HRV</th>\n",
       "      <td>2979.166667</td>\n",
       "      <td>6.414900e+06</td>\n",
       "    </tr>\n",
       "    <tr>\n",
       "      <th>CZE</th>\n",
       "      <td>24952.114238</td>\n",
       "      <td>4.258269e+07</td>\n",
       "    </tr>\n",
       "    <tr>\n",
       "      <th>DNK</th>\n",
       "      <td>6150.000000</td>\n",
       "      <td>1.034700e+07</td>\n",
       "    </tr>\n",
       "    <tr>\n",
       "      <th>FRA</th>\n",
       "      <td>85016.666667</td>\n",
       "      <td>1.372124e+08</td>\n",
       "    </tr>\n",
       "    <tr>\n",
       "      <th>DEU</th>\n",
       "      <td>236185.390083</td>\n",
       "      <td>2.700312e+08</td>\n",
       "    </tr>\n",
       "    <tr>\n",
       "      <th>GRC</th>\n",
       "      <td>2068.125000</td>\n",
       "      <td>3.860500e+06</td>\n",
       "    </tr>\n",
       "    <tr>\n",
       "      <th>HUN</th>\n",
       "      <td>27397.333333</td>\n",
       "      <td>6.751390e+07</td>\n",
       "    </tr>\n",
       "    <tr>\n",
       "      <th>ITA</th>\n",
       "      <td>127533.584671</td>\n",
       "      <td>2.685400e+08</td>\n",
       "    </tr>\n",
       "    <tr>\n",
       "      <th>LVA</th>\n",
       "      <td>10281.250000</td>\n",
       "      <td>2.415000e+07</td>\n",
       "    </tr>\n",
       "    <tr>\n",
       "      <th>NLD</th>\n",
       "      <td>85287.333333</td>\n",
       "      <td>1.307839e+08</td>\n",
       "    </tr>\n",
       "    <tr>\n",
       "      <th>POL</th>\n",
       "      <td>26944.082657</td>\n",
       "      <td>4.651870e+07</td>\n",
       "    </tr>\n",
       "    <tr>\n",
       "      <th>PRT</th>\n",
       "      <td>2628.333333</td>\n",
       "      <td>3.570000e+06</td>\n",
       "    </tr>\n",
       "    <tr>\n",
       "      <th>ROU</th>\n",
       "      <td>16151.729167</td>\n",
       "      <td>4.613215e+07</td>\n",
       "    </tr>\n",
       "    <tr>\n",
       "      <th>SRB</th>\n",
       "      <td>1783.229167</td>\n",
       "      <td>1.007000e+07</td>\n",
       "    </tr>\n",
       "    <tr>\n",
       "      <th>SVK</th>\n",
       "      <td>20281.791667</td>\n",
       "      <td>3.919330e+07</td>\n",
       "    </tr>\n",
       "    <tr>\n",
       "      <th>ESP</th>\n",
       "      <td>7100.000000</td>\n",
       "      <td>3.197500e+07</td>\n",
       "    </tr>\n",
       "    <tr>\n",
       "      <th>SWE</th>\n",
       "      <td>330.000000</td>\n",
       "      <td>9.700000e+04</td>\n",
       "    </tr>\n",
       "    <tr>\n",
       "      <th>GBR</th>\n",
       "      <td>91310.041667</td>\n",
       "      <td>6.037700e+07</td>\n",
       "    </tr>\n",
       "  </tbody>\n",
       "</table>\n",
       "</div>"
      ],
      "text/plain": [
       "              energy_cap_gas_storage_mw  storage_cap_gas_storage_mwh\n",
       "country_code                                                        \n",
       "AUT                        39219.364583                 9.221850e+07\n",
       "BEL                         5367.500000                 9.001300e+06\n",
       "BGR                         5747.083333                 1.769000e+07\n",
       "HRV                         2979.166667                 6.414900e+06\n",
       "CZE                        24952.114238                 4.258269e+07\n",
       "DNK                         6150.000000                 1.034700e+07\n",
       "FRA                        85016.666667                 1.372124e+08\n",
       "DEU                       236185.390083                 2.700312e+08\n",
       "GRC                         2068.125000                 3.860500e+06\n",
       "HUN                        27397.333333                 6.751390e+07\n",
       "ITA                       127533.584671                 2.685400e+08\n",
       "LVA                        10281.250000                 2.415000e+07\n",
       "NLD                        85287.333333                 1.307839e+08\n",
       "POL                        26944.082657                 4.651870e+07\n",
       "PRT                         2628.333333                 3.570000e+06\n",
       "ROU                        16151.729167                 4.613215e+07\n",
       "SRB                         1783.229167                 1.007000e+07\n",
       "SVK                        20281.791667                 3.919330e+07\n",
       "ESP                         7100.000000                 3.197500e+07\n",
       "SWE                          330.000000                 9.700000e+04\n",
       "GBR                        91310.041667                 6.037700e+07"
      ]
     },
     "execution_count": 18,
     "metadata": {},
     "output_type": "execute_result"
    }
   ],
   "source": [
    "gas_storage_data"
   ]
  },
  {
   "cell_type": "code",
   "execution_count": 106,
   "metadata": {},
   "outputs": [
    {
     "name": "stderr",
     "output_type": "stream",
     "text": [
      "/Users/brynmorp/miniconda3/envs/euro-spores/lib/python3.7/site-packages/ipykernel/ipkernel.py:287: DeprecationWarning:`should_run_async` will not call `transform_cell` automatically in the future. Please pass the result to `transformed_cell` argument and any exception that happen during thetransform in `preprocessing_exc_tuple` in IPython 7.17 and above.\n"
     ]
    }
   ],
   "source": [
    "units = gpd.read_file('build/units.geojson')"
   ]
  },
  {
   "cell_type": "code",
   "execution_count": 107,
   "metadata": {},
   "outputs": [
    {
     "name": "stderr",
     "output_type": "stream",
     "text": [
      "/Users/brynmorp/miniconda3/envs/euro-spores/lib/python3.7/site-packages/ipykernel/ipkernel.py:287: DeprecationWarning:`should_run_async` will not call `transform_cell` automatically in the future. Please pass the result to `transformed_cell` argument and any exception that happen during thetransform in `preprocessing_exc_tuple` in IPython 7.17 and above.\n"
     ]
    }
   ],
   "source": [
    "gas_data = pd.concat([gas_storage_cap.reindex(hourly_energy_cap.index).Total, hourly_energy_cap], axis=1, keys=['storage_cap', 'energy_cap'])"
   ]
  },
  {
   "cell_type": "code",
   "execution_count": 124,
   "metadata": {},
   "outputs": [
    {
     "name": "stderr",
     "output_type": "stream",
     "text": [
      "/Users/brynmorp/miniconda3/envs/euro-spores/lib/python3.7/site-packages/ipykernel/ipkernel.py:287: DeprecationWarning:`should_run_async` will not call `transform_cell` automatically in the future. Please pass the result to `transformed_cell` argument and any exception that happen during thetransform in `preprocessing_exc_tuple` in IPython 7.17 and above.\n"
     ]
    },
    {
     "data": {
      "text/html": [
       "<div>\n",
       "<style scoped>\n",
       "    .dataframe tbody tr th:only-of-type {\n",
       "        vertical-align: middle;\n",
       "    }\n",
       "\n",
       "    .dataframe tbody tr th {\n",
       "        vertical-align: top;\n",
       "    }\n",
       "\n",
       "    .dataframe thead th {\n",
       "        text-align: right;\n",
       "    }\n",
       "</style>\n",
       "<table border=\"1\" class=\"dataframe\">\n",
       "  <thead>\n",
       "    <tr style=\"text-align: right;\">\n",
       "      <th></th>\n",
       "      <th>storage_cap</th>\n",
       "      <th>energy_cap</th>\n",
       "    </tr>\n",
       "    <tr>\n",
       "      <th>id</th>\n",
       "      <th></th>\n",
       "      <th></th>\n",
       "    </tr>\n",
       "  </thead>\n",
       "  <tbody>\n",
       "    <tr>\n",
       "      <th>ALB_1</th>\n",
       "      <td>NaN</td>\n",
       "      <td>NaN</td>\n",
       "    </tr>\n",
       "    <tr>\n",
       "      <th>AUT_1</th>\n",
       "      <td>30.73950</td>\n",
       "      <td>13.073122</td>\n",
       "    </tr>\n",
       "    <tr>\n",
       "      <th>AUT_2</th>\n",
       "      <td>30.73950</td>\n",
       "      <td>13.073122</td>\n",
       "    </tr>\n",
       "    <tr>\n",
       "      <th>AUT_3</th>\n",
       "      <td>30.73950</td>\n",
       "      <td>13.073122</td>\n",
       "    </tr>\n",
       "    <tr>\n",
       "      <th>BEL_1</th>\n",
       "      <td>9.00130</td>\n",
       "      <td>5.367500</td>\n",
       "    </tr>\n",
       "    <tr>\n",
       "      <th>...</th>\n",
       "      <td>...</td>\n",
       "      <td>...</td>\n",
       "    </tr>\n",
       "    <tr>\n",
       "      <th>SVN_1</th>\n",
       "      <td>NaN</td>\n",
       "      <td>NaN</td>\n",
       "    </tr>\n",
       "    <tr>\n",
       "      <th>SWE_1</th>\n",
       "      <td>0.02425</td>\n",
       "      <td>0.082500</td>\n",
       "    </tr>\n",
       "    <tr>\n",
       "      <th>SWE_2</th>\n",
       "      <td>0.02425</td>\n",
       "      <td>0.082500</td>\n",
       "    </tr>\n",
       "    <tr>\n",
       "      <th>SWE_3</th>\n",
       "      <td>0.02425</td>\n",
       "      <td>0.082500</td>\n",
       "    </tr>\n",
       "    <tr>\n",
       "      <th>SWE_4</th>\n",
       "      <td>0.02425</td>\n",
       "      <td>0.082500</td>\n",
       "    </tr>\n",
       "  </tbody>\n",
       "</table>\n",
       "<p>98 rows × 2 columns</p>\n",
       "</div>"
      ],
      "text/plain": [
       "       storage_cap  energy_cap\n",
       "id                            \n",
       "ALB_1          NaN         NaN\n",
       "AUT_1     30.73950   13.073122\n",
       "AUT_2     30.73950   13.073122\n",
       "AUT_3     30.73950   13.073122\n",
       "BEL_1      9.00130    5.367500\n",
       "...            ...         ...\n",
       "SVN_1          NaN         NaN\n",
       "SWE_1      0.02425    0.082500\n",
       "SWE_2      0.02425    0.082500\n",
       "SWE_3      0.02425    0.082500\n",
       "SWE_4      0.02425    0.082500\n",
       "\n",
       "[98 rows x 2 columns]"
      ]
     },
     "execution_count": 124,
     "metadata": {},
     "output_type": "execute_result"
    }
   ],
   "source": [
    "gas_data.index = gas_data.index.map(util.get_alpha3).rename(\"country_code\")\n",
    "bar = units.set_index([\"id\", \"country_code\"])\n",
    "foo = gas_data.reindex(bar.index, level=\"country_code\")#.set_index(units.set_index([\"id\", \"country_code\"]).index)\n",
    "foo.div(foo.count(level='country_code')).droplevel('country_code')"
   ]
  }
 ],
 "metadata": {
  "kernelspec": {
   "display_name": "Python [conda env:euro-spores]",
   "language": "python",
   "name": "conda-env-euro-spores-py"
  },
  "language_info": {
   "codemirror_mode": {
    "name": "ipython",
    "version": 3
   },
   "file_extension": ".py",
   "mimetype": "text/x-python",
   "name": "python",
   "nbconvert_exporter": "python",
   "pygments_lexer": "ipython3",
   "version": "3.7.6"
  }
 },
 "nbformat": 4,
 "nbformat_minor": 4
}
