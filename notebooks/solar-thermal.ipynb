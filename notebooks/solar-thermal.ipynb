{
 "cells": [
  {
   "cell_type": "code",
   "execution_count": 1,
   "metadata": {},
   "outputs": [],
   "source": [
    "import pandas as pd\n",
    "import numpy as np\n",
    "import xarray as xr\n",
    "import pycountry\n",
    "import rasterio\n",
    "import geopandas as gpd\n",
    "import rasterio.mask\n",
    "from rasterstats import zonal_stats\n",
    "\n",
    "import matplotlib.pyplot as plt\n",
    "import shapely \n",
    "\n",
    "countries = [ \n",
    "    \"AT\", \"BE\", \"BG\", \"CZ\", \"DE\", \"FR\", \"GB\", \"HR\", \n",
    "    \"HU\", \"IE\", \"LU\", \"NL\", \"PL\", \"RO\", \"SI\", \"SK\",\n",
    "]\n",
    "idx = pd.IndexSlice\n",
    "\n",
    "%matplotlib inline"
   ]
  },
  {
   "cell_type": "code",
   "execution_count": 2,
   "metadata": {},
   "outputs": [],
   "source": [
    "europe_shape = gpd.read_file('/cluster/work/cpesm/brynmorp/euro-spores/land-eligibility/build/national/units.geojson')"
   ]
  },
  {
   "cell_type": "code",
   "execution_count": 4,
   "metadata": {},
   "outputs": [],
   "source": [
    "when2heat_shape = europe_shape.set_index('id').loc[[pycountry.countries.lookup(i).alpha_3 for i in countries]]"
   ]
  },
  {
   "cell_type": "code",
   "execution_count": 6,
   "metadata": {},
   "outputs": [
    {
     "data": {
      "text/plain": [
       "array([-10.66269,  41.23593,  29.71677,  60.84589])"
      ]
     },
     "execution_count": 6,
     "metadata": {},
     "output_type": "execute_result"
    }
   ],
   "source": [
    "when2heat_shape.total_bounds"
   ]
  },
  {
   "cell_type": "code",
   "execution_count": 7,
   "metadata": {},
   "outputs": [
    {
     "data": {
      "text/plain": [
       "<matplotlib.axes._subplots.AxesSubplot at 0x2b21316cc828>"
      ]
     },
     "execution_count": 7,
     "metadata": {},
     "output_type": "execute_result"
    },
    {
     "data": {
      "image/png": "[encoded data removed]",
      "text/plain": [
       "<Figure size 432x288 with 1 Axes>"
      ]
     },
     "metadata": {
      "needs_background": "light"
     },
     "output_type": "display_data"
    }
   ],
   "source": [
    "when2heat_shape.plot()"
   ]
  },
  {
   "cell_type": "code",
   "execution_count": 2,
   "metadata": {},
   "outputs": [],
   "source": [
    "sonnendach = gpd.read_file('/cluster/work/cpesm/brynmorp/euro-spores/land-eligibility/data/sonnendach/SOLKAT_20180827.gdb')"
   ]
  },
  {
   "cell_type": "code",
   "execution_count": 6,
   "metadata": {},
   "outputs": [
    {
     "data": {
      "text/plain": [
       "Index(['DF_UID', 'DF_NUMMER', 'DATUM_ERSTELLUNG', 'DATUM_AENDERUNG', 'SB_UUID',\n",
       "       'SB_OBJEKTART', 'SB_DATUM_ERSTELLUNG', 'SB_DATUM_AENDERUNG', 'KLASSE',\n",
       "       'FLAECHE', 'AUSRICHTUNG', 'NEIGUNG', 'MSTRAHLUNG', 'GSTRAHLUNG',\n",
       "       'STROMERTRAG', 'WAERMEERTRAG', 'DUSCHGAENGE', 'DG_HEIZUNG',\n",
       "       'DG_WAERMEBEDARF', 'BEDARF_WARMWASSER', 'BEDARF_HEIZUNG',\n",
       "       'FLAECHE_KOLLEKTOREN', 'VOLUMEN_SPEICHER', 'GWR_EGID', 'SHAPE_Length',\n",
       "       'SHAPE_Area', 'geometry'],\n",
       "      dtype='object')"
      ]
     },
     "execution_count": 6,
     "metadata": {},
     "output_type": "execute_result"
    }
   ],
   "source": [
    "sonnendach.columns#head().plot()"
   ]
  },
  {
   "cell_type": "code",
   "execution_count": 13,
   "metadata": {},
   "outputs": [
    {
     "data": {
      "text/html": [
       "<div>\n",
       "<style scoped>\n",
       "    .dataframe tbody tr th:only-of-type {\n",
       "        vertical-align: middle;\n",
       "    }\n",
       "\n",
       "    .dataframe tbody tr th {\n",
       "        vertical-align: top;\n",
       "    }\n",
       "\n",
       "    .dataframe thead th {\n",
       "        text-align: right;\n",
       "    }\n",
       "</style>\n",
       "<table border=\"1\" class=\"dataframe\">\n",
       "  <thead>\n",
       "    <tr style=\"text-align: right;\">\n",
       "      <th></th>\n",
       "      <th>KLASSE</th>\n",
       "      <th>FLAECHE</th>\n",
       "      <th>AUSRICHTUNG</th>\n",
       "      <th>NEIGUNG</th>\n",
       "      <th>MSTRAHLUNG</th>\n",
       "      <th>GSTRAHLUNG</th>\n",
       "      <th>FLAECHE_KOLLEKTOREN</th>\n",
       "      <th>WAERMEERTRAG</th>\n",
       "    </tr>\n",
       "  </thead>\n",
       "  <tbody>\n",
       "    <tr>\n",
       "      <th>0</th>\n",
       "      <td>4</td>\n",
       "      <td>15.948816</td>\n",
       "      <td>10</td>\n",
       "      <td>37</td>\n",
       "      <td>1320</td>\n",
       "      <td>21052</td>\n",
       "      <td>0.0</td>\n",
       "      <td>0</td>\n",
       "    </tr>\n",
       "    <tr>\n",
       "      <th>1</th>\n",
       "      <td>1</td>\n",
       "      <td>13.730555</td>\n",
       "      <td>-170</td>\n",
       "      <td>44</td>\n",
       "      <td>593</td>\n",
       "      <td>8142</td>\n",
       "      <td>0.0</td>\n",
       "      <td>0</td>\n",
       "    </tr>\n",
       "    <tr>\n",
       "      <th>2</th>\n",
       "      <td>3</td>\n",
       "      <td>63.437476</td>\n",
       "      <td>-80</td>\n",
       "      <td>12</td>\n",
       "      <td>1146</td>\n",
       "      <td>72699</td>\n",
       "      <td>0.0</td>\n",
       "      <td>0</td>\n",
       "    </tr>\n",
       "    <tr>\n",
       "      <th>3</th>\n",
       "      <td>3</td>\n",
       "      <td>38.368910</td>\n",
       "      <td>-80</td>\n",
       "      <td>33</td>\n",
       "      <td>1128</td>\n",
       "      <td>43280</td>\n",
       "      <td>0.0</td>\n",
       "      <td>0</td>\n",
       "    </tr>\n",
       "    <tr>\n",
       "      <th>4</th>\n",
       "      <td>1</td>\n",
       "      <td>36.403273</td>\n",
       "      <td>100</td>\n",
       "      <td>35</td>\n",
       "      <td>721</td>\n",
       "      <td>26247</td>\n",
       "      <td>0.0</td>\n",
       "      <td>0</td>\n",
       "    </tr>\n",
       "  </tbody>\n",
       "</table>\n",
       "</div>"
      ],
      "text/plain": [
       "   KLASSE    FLAECHE  AUSRICHTUNG  NEIGUNG  MSTRAHLUNG  GSTRAHLUNG  \\\n",
       "0       4  15.948816           10       37        1320       21052   \n",
       "1       1  13.730555         -170       44         593        8142   \n",
       "2       3  63.437476          -80       12        1146       72699   \n",
       "3       3  38.368910          -80       33        1128       43280   \n",
       "4       1  36.403273          100       35         721       26247   \n",
       "\n",
       "   FLAECHE_KOLLEKTOREN  WAERMEERTRAG  \n",
       "0                  0.0             0  \n",
       "1                  0.0             0  \n",
       "2                  0.0             0  \n",
       "3                  0.0             0  \n",
       "4                  0.0             0  "
      ]
     },
     "execution_count": 13,
     "metadata": {},
     "output_type": "execute_result"
    }
   ],
   "source": [
    "sonnendach.head()[['KLASSE',\n",
    "'FLAECHE',\n",
    "'AUSRICHTUNG',\n",
    "'NEIGUNG',\n",
    "'MSTRAHLUNG',\n",
    "'GSTRAHLUNG',\n",
    "'FLAECHE_KOLLEKTOREN',\n",
    "'WAERMEERTRAG']]"
   ]
  },
  {
   "cell_type": "code",
   "execution_count": 4,
   "metadata": {},
   "outputs": [],
   "source": [
    "sonnendach_wgs84= sonnendach.to_crs('epsg:4326')"
   ]
  },
  {
   "cell_type": "code",
   "execution_count": null,
   "metadata": {},
   "outputs": [],
   "source": [
    "sonnendach_df = sonnendach.drop(columns='geometry')\n",
    "sonnendach_df['lon'] = sonnendach_wgs84.centroid.x\n",
    "sonnendach_df['lat'] = sonnendach_wgs84.centroid.y"
   ]
  },
  {
   "cell_type": "code",
   "execution_count": null,
   "metadata": {},
   "outputs": [],
   "source": []
  }
 ],
 "metadata": {
  "kernelspec": {
   "display_name": "Python [conda env:land-eligibility]",
   "language": "python",
   "name": "conda-env-land-eligibility-py"
  },
  "language_info": {
   "codemirror_mode": {
    "name": "ipython",
    "version": 3
   },
   "file_extension": ".py",
   "mimetype": "text/x-python",
   "name": "python",
   "nbconvert_exporter": "python",
   "pygments_lexer": "ipython3",
   "version": "3.6.10"
  }
 },
 "nbformat": 4,
 "nbformat_minor": 4
}
