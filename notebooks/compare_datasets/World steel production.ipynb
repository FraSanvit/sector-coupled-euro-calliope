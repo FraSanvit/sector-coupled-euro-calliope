{
 "cells": [
  {
   "cell_type": "markdown",
   "metadata": {},
   "source": [
    "# Compare different energy carriers for the Iron and Steel industry subsector in the Eurostat annual energy balances in terms of how well they align with stel produced by different \"routes\"\n",
    "\n",
    "Steel production comes from reading a PDF from World Steel"
   ]
  },
  {
   "cell_type": "code",
   "execution_count": 154,
   "metadata": {},
   "outputs": [],
   "source": [
    "import tabula\n",
    "import pandas as pd\n",
    "import numpy as np\n",
    "\n",
    "import sys\n",
    "sys.path.append('../../src/construct/')\n",
    "import util"
   ]
  },
  {
   "cell_type": "code",
   "execution_count": 160,
   "metadata": {},
   "outputs": [],
   "source": [
    "def get_prod(url):\n",
    "    df = tabula.read_pdf(url, pages=6, lattice=True, multiple_tables=True)[2]\n",
    "    df = (\n",
    "        df\n",
    "        .rename(columns=df.loc[0].str.split('\\r', expand=True)[0].str.replace('%', '').str.strip()).drop(0)\n",
    "        .set_index(np.nan)\n",
    "        .rename_axis(index='country')\n",
    "        .loc['Austria':'Other Europe', :'Electric']\n",
    "        .drop(['Turkey', 'Other Europe'])\n",
    "        .apply(util.to_numeric)\n",
    "    )\n",
    "    df = (\n",
    "        df\n",
    "        .apply(lambda x: x.mul(df['Million']).div(100))\n",
    "        .drop('Million', axis=1)\n",
    "    )\n",
    "\n",
    "    other_eu = df.loc['European Union (28)'] - df.loc[:'European Union (28)'].drop('European Union (28)').sum()\n",
    "    df.loc['Others'] += other_eu\n",
    "    df['Total'] = df.sum(axis=1)\n",
    "    df.index = df.index.str.replace('\\(e\\)', '').str.strip()\n",
    "    \n",
    "    return df.drop('European Union (28)')\n",
    "\n",
    "prod_2018 = get_prod('https://www.worldsteel.org/en/dam/jcr:96d7a585-e6b2-4d63-b943-4cd9ab621a91/World%2520Steel%2520in%2520Figures%25202019.pdf')\n",
    "prod_2015 = get_prod('https://www.worldsteel.org/en/dam/jcr:4f060d8b-3602-4ffe-9e87-7e93e0659449/Word+Steel+in+-Figures+2016.pdf')"
   ]
  },
  {
   "cell_type": "code",
   "execution_count": 92,
   "metadata": {},
   "outputs": [
    {
     "name": "stderr",
     "output_type": "stream",
     "text": [
      "/Users/brynmorp/miniconda3/envs/euro-spores/lib/python3.7/site-packages/numpy/lib/arraysetops.py:569: FutureWarning: elementwise comparison failed; returning scalar instead, but in the future will perform elementwise comparison\n",
      "  mask |= (ar1 == a)\n"
     ]
    }
   ],
   "source": [
    "energy_balances = pd.read_csv('../../build/annual_energy_balances.csv', index_col=[0, 1, 2, 3, 4], squeeze=True)"
   ]
  },
  {
   "cell_type": "code",
   "execution_count": 200,
   "metadata": {},
   "outputs": [],
   "source": [
    "all_consumption = energy_balances.xs(['FC_IND_IS_E', 'TOTAL'], level=['cat_code', 'carrier_code']).droplevel(0)  # all consumption of fuels in steel industry\n",
    "solid_consumption = energy_balances.xs(['FC_IND_IS_E', 'C0000X0350-0370'], level=['cat_code', 'carrier_code']).droplevel(0)  # consumption of solid fuels in steel industry  \n",
    "bf_consumption = energy_balances.xs(['TI_BF_E', 'C0000X0350-0370'], level=['cat_code', 'carrier_code']).droplevel(0)  # consumption of fuels in blast furnaces (a separate category to the steel industry)\n",
    "electricity_consumption = energy_balances.xs(['FC_IND_IS_E', 'E7000'], level=['cat_code', 'carrier_code']).droplevel(0)  # consumption of electricity in steel industry  "
   ]
  },
  {
   "cell_type": "code",
   "execution_count": 201,
   "metadata": {},
   "outputs": [],
   "source": [
    "for yr, prod in {2015: prod_2015, 2018: prod_2018}.items():\n",
    "    _all = all_consumption.xs(yr, level='year')\n",
    "    _solid = solid_consumption.xs(yr, level='year')\n",
    "    _bf = bf_consumption.xs(yr, level='year')\n",
    "    _electricity = electricity_consumption.xs(yr, level='year')\n",
    "    for i in prod.index:\n",
    "        try: \n",
    "            prod.loc[i, 'all'] = _all.pop(util.get_alpha2(i))\n",
    "            prod.loc[i, 'solid'] = _solid.pop(util.get_alpha2(i))\n",
    "            prod.loc[i, 'bf'] = _bf.pop(util.get_alpha2(i))\n",
    "            prod.loc[i, 'electricity'] = _electricity.pop(util.get_alpha2(i))\n",
    "        except LookupError:\n",
    "            continue\n",
    "    prod.loc['Others', 'all'] = _all.sum()\n",
    "    prod.loc['Others', 'solid'] = _solid.sum()\n",
    "    prod.loc['Others', 'bf'] = _bf.sum()\n",
    "    prod.loc['Others', 'electricity'] = _electricity.sum()\n",
    "    prod['all_inc_bf'] = prod['all'] + prod['bf'] - prod['solid']"
   ]
  },
  {
   "cell_type": "code",
   "execution_count": 202,
   "metadata": {},
   "outputs": [],
   "source": [
    "prod_contrib_2015 = prod_2015.div(prod_2015.sum())\n",
    "prod_contrib_2018 = prod_2018.div(prod_2018.sum())"
   ]
  },
  {
   "cell_type": "code",
   "execution_count": 184,
   "metadata": {},
   "outputs": [
    {
     "data": {
      "text/plain": [
       "[<matplotlib.lines.Line2D at 0x7fbf6aac9c90>]"
      ]
     },
     "execution_count": 184,
     "metadata": {},
     "output_type": "execute_result"
    },
    {
     "data": {
      "image/png": "[encoded data removed]",
      "text/plain": [
       "<Figure size 432x288 with 1 Axes>"
      ]
     },
     "metadata": {
      "needs_background": "light"
     },
     "output_type": "display_data"
    }
   ],
   "source": [
    "ax = prod_contrib_2015.plot.scatter(x='Oxygen', y='bf')\n",
    "prod_contrib_2018.plot.scatter(x='Oxygen', y='bf', ax=ax, c='g')\n",
    "ax.plot([0, 0.3], [0, 0.3])"
   ]
  },
  {
   "cell_type": "code",
   "execution_count": 185,
   "metadata": {},
   "outputs": [
    {
     "data": {
      "text/plain": [
       "[<matplotlib.lines.Line2D at 0x7fbf6ac78f50>]"
      ]
     },
     "execution_count": 185,
     "metadata": {},
     "output_type": "execute_result"
    },
    {
     "data": {
      "image/png": "[encoded data removed]",
      "text/plain": [
       "<Figure size 432x288 with 1 Axes>"
      ]
     },
     "metadata": {
      "needs_background": "light"
     },
     "output_type": "display_data"
    }
   ],
   "source": [
    "ax = prod_contrib_2015.plot.scatter(x='Electric', y='electricity')\n",
    "prod_contrib_2018.plot.scatter(x='Electric', y='electricity', ax=ax, c='g')\n",
    "ax.plot([0, 0.3], [0, 0.3])"
   ]
  },
  {
   "cell_type": "code",
   "execution_count": 190,
   "metadata": {},
   "outputs": [
    {
     "data": {
      "text/plain": [
       "[<matplotlib.lines.Line2D at 0x7fbf7b302690>]"
      ]
     },
     "execution_count": 190,
     "metadata": {},
     "output_type": "execute_result"
    },
    {
     "data": {
      "image/png": "[encoded data removed]",
      "text/plain": [
       "<Figure size 432x288 with 3 Axes>"
      ]
     },
     "metadata": {
      "needs_background": "light"
     },
     "output_type": "display_data"
    }
   ],
   "source": [
    "ax = prod_contrib_2015.plot.scatter(x='Total', y='all', c=prod_2015.Electric.div(prod_2015.Total).fillna(0), cmap='viridis')\n",
    "prod_contrib_2018.plot.scatter(\n",
    "    x='Total', y='all', ax=ax, marker='+', c=prod_2018.Electric.div(prod_2018.Total).fillna(0), cmap='viridis', legend=False\n",
    ")\n",
    "ax.plot([0, 0.3], [0, 0.3])"
   ]
  },
  {
   "cell_type": "code",
   "execution_count": 203,
   "metadata": {},
   "outputs": [
    {
     "data": {
      "text/plain": [
       "[<matplotlib.lines.Line2D at 0x7fbf6a9a4fd0>]"
      ]
     },
     "execution_count": 203,
     "metadata": {},
     "output_type": "execute_result"
    },
    {
     "data": {
      "image/png": "[encoded data removed]",
      "text/plain": [
       "<Figure size 432x288 with 3 Axes>"
      ]
     },
     "metadata": {
      "needs_background": "light"
     },
     "output_type": "display_data"
    }
   ],
   "source": [
    "ax = prod_contrib_2015.plot.scatter(x='Total', y='all_inc_bf', c=prod_2015.Electric.div(prod_2015.Total).fillna(0), cmap='viridis')\n",
    "prod_contrib_2018.plot.scatter(\n",
    "    x='Total', y='all_inc_bf', ax=ax, marker='+', c=prod_2018.Electric.div(prod_2018.Total).fillna(0), cmap='viridis', legend=False\n",
    ")\n",
    "ax.plot([0, 0.3], [0, 0.3])"
   ]
  },
  {
   "cell_type": "code",
   "execution_count": 205,
   "metadata": {},
   "outputs": [
    {
     "data": {
      "text/html": [
       "<div>\n",
       "<style scoped>\n",
       "    .dataframe tbody tr th:only-of-type {\n",
       "        vertical-align: middle;\n",
       "    }\n",
       "\n",
       "    .dataframe tbody tr th {\n",
       "        vertical-align: top;\n",
       "    }\n",
       "\n",
       "    .dataframe thead th {\n",
       "        text-align: right;\n",
       "    }\n",
       "</style>\n",
       "<table border=\"1\" class=\"dataframe\">\n",
       "  <thead>\n",
       "    <tr style=\"text-align: right;\">\n",
       "      <th></th>\n",
       "      <th>Oxygen</th>\n",
       "      <th>Electric</th>\n",
       "      <th>Total</th>\n",
       "      <th>all</th>\n",
       "      <th>bf</th>\n",
       "      <th>electricity</th>\n",
       "      <th>all_inc_bf</th>\n",
       "      <th>solid</th>\n",
       "    </tr>\n",
       "  </thead>\n",
       "  <tbody>\n",
       "    <tr>\n",
       "      <th>Oxygen</th>\n",
       "      <td>1.000000</td>\n",
       "      <td>0.437582</td>\n",
       "      <td>0.873418</td>\n",
       "      <td>0.876310</td>\n",
       "      <td>0.993650</td>\n",
       "      <td>0.710746</td>\n",
       "      <td>0.981845</td>\n",
       "      <td>0.555446</td>\n",
       "    </tr>\n",
       "    <tr>\n",
       "      <th>Electric</th>\n",
       "      <td>0.437582</td>\n",
       "      <td>1.000000</td>\n",
       "      <td>0.826722</td>\n",
       "      <td>0.768124</td>\n",
       "      <td>0.478887</td>\n",
       "      <td>0.877626</td>\n",
       "      <td>0.616321</td>\n",
       "      <td>0.529516</td>\n",
       "    </tr>\n",
       "    <tr>\n",
       "      <th>Total</th>\n",
       "      <td>0.873418</td>\n",
       "      <td>0.826722</td>\n",
       "      <td>1.000000</td>\n",
       "      <td>0.974528</td>\n",
       "      <td>0.880942</td>\n",
       "      <td>0.943545</td>\n",
       "      <td>0.947483</td>\n",
       "      <td>0.700572</td>\n",
       "    </tr>\n",
       "    <tr>\n",
       "      <th>all</th>\n",
       "      <td>0.876310</td>\n",
       "      <td>0.768124</td>\n",
       "      <td>0.974528</td>\n",
       "      <td>1.000000</td>\n",
       "      <td>0.882172</td>\n",
       "      <td>0.937953</td>\n",
       "      <td>0.954376</td>\n",
       "      <td>0.801772</td>\n",
       "    </tr>\n",
       "    <tr>\n",
       "      <th>bf</th>\n",
       "      <td>0.993650</td>\n",
       "      <td>0.478887</td>\n",
       "      <td>0.880942</td>\n",
       "      <td>0.882172</td>\n",
       "      <td>1.000000</td>\n",
       "      <td>0.753561</td>\n",
       "      <td>0.981758</td>\n",
       "      <td>0.621831</td>\n",
       "    </tr>\n",
       "    <tr>\n",
       "      <th>electricity</th>\n",
       "      <td>0.710746</td>\n",
       "      <td>0.877626</td>\n",
       "      <td>0.943545</td>\n",
       "      <td>0.937953</td>\n",
       "      <td>0.753561</td>\n",
       "      <td>1.000000</td>\n",
       "      <td>0.854749</td>\n",
       "      <td>0.669209</td>\n",
       "    </tr>\n",
       "    <tr>\n",
       "      <th>all_inc_bf</th>\n",
       "      <td>0.981845</td>\n",
       "      <td>0.616321</td>\n",
       "      <td>0.947483</td>\n",
       "      <td>0.954376</td>\n",
       "      <td>0.981758</td>\n",
       "      <td>0.854749</td>\n",
       "      <td>1.000000</td>\n",
       "      <td>0.693329</td>\n",
       "    </tr>\n",
       "    <tr>\n",
       "      <th>solid</th>\n",
       "      <td>0.555446</td>\n",
       "      <td>0.529516</td>\n",
       "      <td>0.700572</td>\n",
       "      <td>0.801772</td>\n",
       "      <td>0.621831</td>\n",
       "      <td>0.669209</td>\n",
       "      <td>0.693329</td>\n",
       "      <td>1.000000</td>\n",
       "    </tr>\n",
       "  </tbody>\n",
       "</table>\n",
       "</div>"
      ],
      "text/plain": [
       "               Oxygen  Electric     Total       all        bf  electricity  \\\n",
       "Oxygen       1.000000  0.437582  0.873418  0.876310  0.993650     0.710746   \n",
       "Electric     0.437582  1.000000  0.826722  0.768124  0.478887     0.877626   \n",
       "Total        0.873418  0.826722  1.000000  0.974528  0.880942     0.943545   \n",
       "all          0.876310  0.768124  0.974528  1.000000  0.882172     0.937953   \n",
       "bf           0.993650  0.478887  0.880942  0.882172  1.000000     0.753561   \n",
       "electricity  0.710746  0.877626  0.943545  0.937953  0.753561     1.000000   \n",
       "all_inc_bf   0.981845  0.616321  0.947483  0.954376  0.981758     0.854749   \n",
       "solid        0.555446  0.529516  0.700572  0.801772  0.621831     0.669209   \n",
       "\n",
       "             all_inc_bf     solid  \n",
       "Oxygen         0.981845  0.555446  \n",
       "Electric       0.616321  0.529516  \n",
       "Total          0.947483  0.700572  \n",
       "all            0.954376  0.801772  \n",
       "bf             0.981758  0.621831  \n",
       "electricity    0.854749  0.669209  \n",
       "all_inc_bf     1.000000  0.693329  \n",
       "solid          0.693329  1.000000  "
      ]
     },
     "execution_count": 205,
     "metadata": {},
     "output_type": "execute_result"
    }
   ],
   "source": [
    "prod_2018.corr()"
   ]
  },
  {
   "cell_type": "code",
   "execution_count": 206,
   "metadata": {},
   "outputs": [
    {
     "data": {
      "text/html": [
       "<div>\n",
       "<style scoped>\n",
       "    .dataframe tbody tr th:only-of-type {\n",
       "        vertical-align: middle;\n",
       "    }\n",
       "\n",
       "    .dataframe tbody tr th {\n",
       "        vertical-align: top;\n",
       "    }\n",
       "\n",
       "    .dataframe thead th {\n",
       "        text-align: right;\n",
       "    }\n",
       "</style>\n",
       "<table border=\"1\" class=\"dataframe\">\n",
       "  <thead>\n",
       "    <tr style=\"text-align: right;\">\n",
       "      <th></th>\n",
       "      <th>Oxygen</th>\n",
       "      <th>Electric</th>\n",
       "      <th>Total</th>\n",
       "      <th>all</th>\n",
       "      <th>bf</th>\n",
       "      <th>electricity</th>\n",
       "      <th>all_inc_bf</th>\n",
       "      <th>solid</th>\n",
       "    </tr>\n",
       "  </thead>\n",
       "  <tbody>\n",
       "    <tr>\n",
       "      <th>Oxygen</th>\n",
       "      <td>1.000000</td>\n",
       "      <td>0.458643</td>\n",
       "      <td>0.896542</td>\n",
       "      <td>0.863574</td>\n",
       "      <td>0.993089</td>\n",
       "      <td>0.715238</td>\n",
       "      <td>0.978083</td>\n",
       "      <td>0.654260</td>\n",
       "    </tr>\n",
       "    <tr>\n",
       "      <th>Electric</th>\n",
       "      <td>0.458643</td>\n",
       "      <td>1.000000</td>\n",
       "      <td>0.819095</td>\n",
       "      <td>0.786271</td>\n",
       "      <td>0.513231</td>\n",
       "      <td>0.892063</td>\n",
       "      <td>0.650360</td>\n",
       "      <td>0.528362</td>\n",
       "    </tr>\n",
       "    <tr>\n",
       "      <th>Total</th>\n",
       "      <td>0.896542</td>\n",
       "      <td>0.819095</td>\n",
       "      <td>1.000000</td>\n",
       "      <td>0.967683</td>\n",
       "      <td>0.909011</td>\n",
       "      <td>0.938169</td>\n",
       "      <td>0.965330</td>\n",
       "      <td>0.736783</td>\n",
       "    </tr>\n",
       "    <tr>\n",
       "      <th>all</th>\n",
       "      <td>0.863574</td>\n",
       "      <td>0.786271</td>\n",
       "      <td>0.967683</td>\n",
       "      <td>1.000000</td>\n",
       "      <td>0.874979</td>\n",
       "      <td>0.950191</td>\n",
       "      <td>0.952637</td>\n",
       "      <td>0.841931</td>\n",
       "    </tr>\n",
       "    <tr>\n",
       "      <th>bf</th>\n",
       "      <td>0.993089</td>\n",
       "      <td>0.513231</td>\n",
       "      <td>0.909011</td>\n",
       "      <td>0.874979</td>\n",
       "      <td>1.000000</td>\n",
       "      <td>0.770933</td>\n",
       "      <td>0.979775</td>\n",
       "      <td>0.705934</td>\n",
       "    </tr>\n",
       "    <tr>\n",
       "      <th>electricity</th>\n",
       "      <td>0.715238</td>\n",
       "      <td>0.892063</td>\n",
       "      <td>0.938169</td>\n",
       "      <td>0.950191</td>\n",
       "      <td>0.770933</td>\n",
       "      <td>1.000000</td>\n",
       "      <td>0.872838</td>\n",
       "      <td>0.726602</td>\n",
       "    </tr>\n",
       "    <tr>\n",
       "      <th>all_inc_bf</th>\n",
       "      <td>0.978083</td>\n",
       "      <td>0.650360</td>\n",
       "      <td>0.965330</td>\n",
       "      <td>0.952637</td>\n",
       "      <td>0.979775</td>\n",
       "      <td>0.872838</td>\n",
       "      <td>1.000000</td>\n",
       "      <td>0.763913</td>\n",
       "    </tr>\n",
       "    <tr>\n",
       "      <th>solid</th>\n",
       "      <td>0.654260</td>\n",
       "      <td>0.528362</td>\n",
       "      <td>0.736783</td>\n",
       "      <td>0.841931</td>\n",
       "      <td>0.705934</td>\n",
       "      <td>0.726602</td>\n",
       "      <td>0.763913</td>\n",
       "      <td>1.000000</td>\n",
       "    </tr>\n",
       "  </tbody>\n",
       "</table>\n",
       "</div>"
      ],
      "text/plain": [
       "               Oxygen  Electric     Total       all        bf  electricity  \\\n",
       "Oxygen       1.000000  0.458643  0.896542  0.863574  0.993089     0.715238   \n",
       "Electric     0.458643  1.000000  0.819095  0.786271  0.513231     0.892063   \n",
       "Total        0.896542  0.819095  1.000000  0.967683  0.909011     0.938169   \n",
       "all          0.863574  0.786271  0.967683  1.000000  0.874979     0.950191   \n",
       "bf           0.993089  0.513231  0.909011  0.874979  1.000000     0.770933   \n",
       "electricity  0.715238  0.892063  0.938169  0.950191  0.770933     1.000000   \n",
       "all_inc_bf   0.978083  0.650360  0.965330  0.952637  0.979775     0.872838   \n",
       "solid        0.654260  0.528362  0.736783  0.841931  0.705934     0.726602   \n",
       "\n",
       "             all_inc_bf     solid  \n",
       "Oxygen         0.978083  0.654260  \n",
       "Electric       0.650360  0.528362  \n",
       "Total          0.965330  0.736783  \n",
       "all            0.952637  0.841931  \n",
       "bf             0.979775  0.705934  \n",
       "electricity    0.872838  0.726602  \n",
       "all_inc_bf     1.000000  0.763913  \n",
       "solid          0.763913  1.000000  "
      ]
     },
     "execution_count": 206,
     "metadata": {},
     "output_type": "execute_result"
    }
   ],
   "source": [
    "prod_2015.corr()"
   ]
  }
 ],
 "metadata": {
  "kernelspec": {
   "display_name": "Python [conda env:euro-spores]",
   "language": "python",
   "name": "conda-env-euro-spores-py"
  },
  "language_info": {
   "codemirror_mode": {
    "name": "ipython",
    "version": 3
   },
   "file_extension": ".py",
   "mimetype": "text/x-python",
   "name": "python",
   "nbconvert_exporter": "python",
   "pygments_lexer": "ipython3",
   "version": "3.7.6"
  }
 },
 "nbformat": 4,
 "nbformat_minor": 4
}
